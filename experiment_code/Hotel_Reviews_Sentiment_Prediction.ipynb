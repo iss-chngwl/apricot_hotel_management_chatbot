{
  "nbformat": 4,
  "nbformat_minor": 0,
  "metadata": {
    "colab": {
      "name": "Hotel Reviews Sentiment Prediction.ipynb",
      "provenance": [],
      "collapsed_sections": [],
      "toc_visible": true
    },
    "kernelspec": {
      "name": "python3",
      "display_name": "Python 3"
    },
    "accelerator": "GPU"
  },
  "cells": [
    {
      "cell_type": "code",
      "metadata": {
        "id": "DKcQmdj8XJTY",
        "outputId": "85702b71-b7a0-4f70-c97e-a1ffcf3794be",
        "colab": {
          "base_uri": "https://localhost:8080/"
        }
      },
      "source": [
        "!pip install plot_keras_history"
      ],
      "execution_count": 1,
      "outputs": [
        {
          "output_type": "stream",
          "text": [
            "Collecting plot_keras_history\n",
            "  Downloading https://files.pythonhosted.org/packages/9d/99/304fd7b963947e5fb33d414b378926c0c1da85c7346c9071cbc7c999ec4a/plot_keras_history-1.1.24.tar.gz\n",
            "Requirement already satisfied: matplotlib in /usr/local/lib/python3.6/dist-packages (from plot_keras_history) (3.2.2)\n",
            "Requirement already satisfied: pandas in /usr/local/lib/python3.6/dist-packages (from plot_keras_history) (1.1.3)\n",
            "Requirement already satisfied: scipy in /usr/local/lib/python3.6/dist-packages (from plot_keras_history) (1.4.1)\n",
            "Collecting sanitize_ml_labels\n",
            "  Downloading https://files.pythonhosted.org/packages/21/5c/dd5e39841d816905b44c1b50697827224580c4ff555521d589ec3a9d216e/sanitize_ml_labels-1.0.17.tar.gz\n",
            "Requirement already satisfied: kiwisolver>=1.0.1 in /usr/local/lib/python3.6/dist-packages (from matplotlib->plot_keras_history) (1.2.0)\n",
            "Requirement already satisfied: cycler>=0.10 in /usr/local/lib/python3.6/dist-packages (from matplotlib->plot_keras_history) (0.10.0)\n",
            "Requirement already satisfied: python-dateutil>=2.1 in /usr/local/lib/python3.6/dist-packages (from matplotlib->plot_keras_history) (2.8.1)\n",
            "Requirement already satisfied: pyparsing!=2.0.4,!=2.1.2,!=2.1.6,>=2.0.1 in /usr/local/lib/python3.6/dist-packages (from matplotlib->plot_keras_history) (2.4.7)\n",
            "Requirement already satisfied: numpy>=1.11 in /usr/local/lib/python3.6/dist-packages (from matplotlib->plot_keras_history) (1.18.5)\n",
            "Requirement already satisfied: pytz>=2017.2 in /usr/local/lib/python3.6/dist-packages (from pandas->plot_keras_history) (2018.9)\n",
            "Collecting compress_json\n",
            "  Downloading https://files.pythonhosted.org/packages/c0/9d/1a79dbc3b9d69c57be363b4cc8bd6f278f919a0973f46c7bb831438c9333/compress_json-1.0.4.tar.gz\n",
            "Requirement already satisfied: six in /usr/local/lib/python3.6/dist-packages (from cycler>=0.10->matplotlib->plot_keras_history) (1.15.0)\n",
            "Building wheels for collected packages: plot-keras-history, sanitize-ml-labels, compress-json\n",
            "  Building wheel for plot-keras-history (setup.py) ... \u001b[?25l\u001b[?25hdone\n",
            "  Created wheel for plot-keras-history: filename=plot_keras_history-1.1.24-cp36-none-any.whl size=6506 sha256=9c356cbb8224cb5a43f3dea80c29b17da335d56df0cee454cda074f4c9e80496\n",
            "  Stored in directory: /root/.cache/pip/wheels/a9/1a/d2/1264c7b2ededd8fab16491e873fb037693d6f8c93f96b72ffa\n",
            "  Building wheel for sanitize-ml-labels (setup.py) ... \u001b[?25l\u001b[?25hdone\n",
            "  Created wheel for sanitize-ml-labels: filename=sanitize_ml_labels-1.0.17-cp36-none-any.whl size=6911 sha256=26046650f243a38d69eddcfc667c4097f0a1b351f63f8441ce2a40d836070590\n",
            "  Stored in directory: /root/.cache/pip/wheels/32/c3/be/1397a4eb670d84d3ae81882efe3b1e6c214291cbc696c24079\n",
            "  Building wheel for compress-json (setup.py) ... \u001b[?25l\u001b[?25hdone\n",
            "  Created wheel for compress-json: filename=compress_json-1.0.4-cp36-none-any.whl size=4586 sha256=47db774a8d478240c3d3172fabe9c27dea34eb603feb0fd5505d5d0cd35e6248\n",
            "  Stored in directory: /root/.cache/pip/wheels/83/ec/21/51460dd508e4a152c0643946c21fae84eb3391171164d35745\n",
            "Successfully built plot-keras-history sanitize-ml-labels compress-json\n",
            "Installing collected packages: compress-json, sanitize-ml-labels, plot-keras-history\n",
            "Successfully installed compress-json-1.0.4 plot-keras-history-1.1.24 sanitize-ml-labels-1.0.17\n"
          ],
          "name": "stdout"
        }
      ]
    },
    {
      "cell_type": "code",
      "metadata": {
        "id": "E1p_utaDtEsg",
        "outputId": "c1a9b7b8-69d6-4bea-f78e-23c2c53a7030",
        "colab": {
          "base_uri": "https://localhost:8080/"
        }
      },
      "source": [
        "import pandas as pd \n",
        "import numpy as np\n",
        "import re\n",
        "import collections\n",
        "import matplotlib.pyplot as plt\n",
        "\n",
        "# Packages for data preparation\n",
        "from nltk.corpus import stopwords\n",
        "\n",
        "from keras.preprocessing.text import Tokenizer\n",
        "from keras.utils.np_utils import to_categorical\n",
        "from keras.layers import Embedding, Conv1D,Conv2D,MaxPool2D, GlobalMaxPooling1D, Dense, Reshape, Dropout, Flatten, MaxPooling1D, Input, Concatenate, LSTM, Bidirectional\n",
        "from keras.models import load_model, Sequential,Model\n",
        "from keras.layers.merge import concatenate\n",
        "from sklearn.preprocessing import LabelEncoder, OneHotEncoder\n",
        "\n",
        "# Packages for modeling\n",
        "import keras\n",
        "from keras import models\n",
        "from keras import layers\n",
        "from keras import regularizers\n",
        "from keras.preprocessing.sequence import pad_sequences\n",
        "import tensorflow as tf\n",
        "\n",
        "import sklearn\n",
        "from sklearn.model_selection import train_test_split\n",
        "from sklearn.utils import class_weight\n",
        "from sklearn.metrics import classification_report, accuracy_score, confusion_matrix\n",
        "from sklearn.externals import joblib\n",
        "\n",
        "import matplotlib.pyplot as plt\n",
        "from plot_keras_history import plot_history\n",
        "print (keras.__version__)"
      ],
      "execution_count": 2,
      "outputs": [
        {
          "output_type": "stream",
          "text": [
            "2.4.3\n"
          ],
          "name": "stdout"
        },
        {
          "output_type": "stream",
          "text": [
            "/usr/local/lib/python3.6/dist-packages/sklearn/externals/joblib/__init__.py:15: FutureWarning: sklearn.externals.joblib is deprecated in 0.21 and will be removed in 0.23. Please import this functionality directly from joblib, which can be installed with: pip install joblib. If this warning is raised when loading pickled models, you may need to re-serialize those models with scikit-learn 0.21+.\n",
            "  warnings.warn(msg, category=FutureWarning)\n"
          ],
          "name": "stderr"
        }
      ]
    },
    {
      "cell_type": "code",
      "metadata": {
        "id": "iNiwyXTtsWXV"
      },
      "source": [
        ""
      ],
      "execution_count": 2,
      "outputs": []
    },
    {
      "cell_type": "code",
      "metadata": {
        "id": "BSyBSgUDVMVU",
        "outputId": "60e81a7d-ac42-4f2a-f527-5db909fca241",
        "colab": {
          "base_uri": "https://localhost:8080/"
        }
      },
      "source": [
        "import nltk\n",
        "nltk.download('stopwords')"
      ],
      "execution_count": 3,
      "outputs": [
        {
          "output_type": "stream",
          "text": [
            "[nltk_data] Downloading package stopwords to /root/nltk_data...\n",
            "[nltk_data]   Unzipping corpora/stopwords.zip.\n"
          ],
          "name": "stdout"
        },
        {
          "output_type": "execute_result",
          "data": {
            "text/plain": [
              "True"
            ]
          },
          "metadata": {
            "tags": []
          },
          "execution_count": 3
        }
      ]
    },
    {
      "cell_type": "code",
      "metadata": {
        "id": "UJdDclEevTi_",
        "outputId": "f1d9252a-644c-4c7c-b88c-e2bf6da01c90",
        "colab": {
          "base_uri": "https://localhost:8080/"
        }
      },
      "source": [
        "tf.config.list_physical_devices('GPU')"
      ],
      "execution_count": 4,
      "outputs": [
        {
          "output_type": "execute_result",
          "data": {
            "text/plain": [
              "[PhysicalDevice(name='/physical_device:GPU:0', device_type='GPU')]"
            ]
          },
          "metadata": {
            "tags": []
          },
          "execution_count": 4
        }
      ]
    },
    {
      "cell_type": "markdown",
      "metadata": {
        "id": "FwuEbYqS-ssr"
      },
      "source": [
        "# Pre-Process"
      ]
    },
    {
      "cell_type": "code",
      "metadata": {
        "id": "PkjJnF7-vW3y"
      },
      "source": [
        "NB_WORDS = 10000  # Parameter indicating the number of words we'll put in the dictionary to create word vector\n",
        "VAL_SIZE = 1000  # Size of the validation set\n",
        "NB_START_EPOCHS = 20  # Number of epochs we usually start to train with\n",
        "BATCH_SIZE = 128  # Size of the batches used in the mini-batch gradient descent"
      ],
      "execution_count": 5,
      "outputs": []
    },
    {
      "cell_type": "code",
      "metadata": {
        "id": "mEcBFB4KvbEd"
      },
      "source": [
        "df = pd.read_excel(r'/content/drive/My Drive/ISS/EBA5004/PLP Project/Data/full_reviews.xlsx')"
      ],
      "execution_count": 6,
      "outputs": []
    },
    {
      "cell_type": "code",
      "metadata": {
        "id": "YG59RH0xrnPm"
      },
      "source": [
        "df = df[['classification', 'review_text']]"
      ],
      "execution_count": 7,
      "outputs": []
    },
    {
      "cell_type": "code",
      "metadata": {
        "id": "uSsYE1yrgsM3"
      },
      "source": [
        "df.drop(df[df['classification']=='Neutral'].index, inplace=True)"
      ],
      "execution_count": 9,
      "outputs": []
    },
    {
      "cell_type": "code",
      "metadata": {
        "id": "pn9Vy6pXQVXO"
      },
      "source": [
        "def remove_stopwords(input_text):\n",
        "        stopwords_list = stopwords.words('english')\n",
        "        # Some words which might indicate a certain sentiment are kept via a whitelist\n",
        "        whitelist = [\"n't\", \"not\", \"no\"]\n",
        "        words = input_text.split() \n",
        "        clean_words = [word for word in words if (word not in stopwords_list or word in whitelist) and len(word) > 1] \n",
        "        return \" \".join(clean_words) "
      ],
      "execution_count": 10,
      "outputs": []
    },
    {
      "cell_type": "code",
      "metadata": {
        "id": "VkY7gKGKxfqM",
        "outputId": "77e21129-5f2b-482c-ef37-c4959ac1abf4",
        "colab": {
          "base_uri": "https://localhost:8080/",
          "height": 204
        }
      },
      "source": [
        "df['review_text'] = df['review_text'].map(lambda x: re.sub('[^A-Za-z\\ 0-9 ]+', '', x))\n",
        "df['review_text'] = df['review_text'].map(lambda x: re.sub('[,\\.!?]', '', x))\n",
        "df['review_text'] = df['review_text'].map(lambda x: x.lower())\n",
        "df['review_text'] = df['review_text'].apply(remove_stopwords)\n",
        "df.head()"
      ],
      "execution_count": 11,
      "outputs": [
        {
          "output_type": "execute_result",
          "data": {
            "text/html": [
              "<div>\n",
              "<style scoped>\n",
              "    .dataframe tbody tr th:only-of-type {\n",
              "        vertical-align: middle;\n",
              "    }\n",
              "\n",
              "    .dataframe tbody tr th {\n",
              "        vertical-align: top;\n",
              "    }\n",
              "\n",
              "    .dataframe thead th {\n",
              "        text-align: right;\n",
              "    }\n",
              "</style>\n",
              "<table border=\"1\" class=\"dataframe\">\n",
              "  <thead>\n",
              "    <tr style=\"text-align: right;\">\n",
              "      <th></th>\n",
              "      <th>classification</th>\n",
              "      <th>review_text</th>\n",
              "    </tr>\n",
              "  </thead>\n",
              "  <tbody>\n",
              "    <tr>\n",
              "      <th>0</th>\n",
              "      <td>Positive</td>\n",
              "      <td>stayed ascott nights took bedroom apartment st...</td>\n",
              "    </tr>\n",
              "    <tr>\n",
              "      <th>1</th>\n",
              "      <td>Positive</td>\n",
              "      <td>great service overall prime location excellent...</td>\n",
              "    </tr>\n",
              "    <tr>\n",
              "      <th>2</th>\n",
              "      <td>Positive</td>\n",
              "      <td>location quite good bringing family children r...</td>\n",
              "    </tr>\n",
              "    <tr>\n",
              "      <th>3</th>\n",
              "      <td>Positive</td>\n",
              "      <td>positive location people reception negative re...</td>\n",
              "    </tr>\n",
              "    <tr>\n",
              "      <th>4</th>\n",
              "      <td>Positive</td>\n",
              "      <td>apartment clean relatively new family five sta...</td>\n",
              "    </tr>\n",
              "  </tbody>\n",
              "</table>\n",
              "</div>"
            ],
            "text/plain": [
              "  classification                                        review_text\n",
              "0       Positive  stayed ascott nights took bedroom apartment st...\n",
              "1       Positive  great service overall prime location excellent...\n",
              "2       Positive  location quite good bringing family children r...\n",
              "3       Positive  positive location people reception negative re...\n",
              "4       Positive  apartment clean relatively new family five sta..."
            ]
          },
          "metadata": {
            "tags": []
          },
          "execution_count": 11
        }
      ]
    },
    {
      "cell_type": "code",
      "metadata": {
        "id": "cgA0nyQdyDp-",
        "outputId": "9f819a37-d85f-4ef5-93a2-897e2b3e301c",
        "colab": {
          "base_uri": "https://localhost:8080/",
          "height": 204
        }
      },
      "source": [
        "# df.isnull().sum()\n",
        "# df.dropna(inplace=True)\n",
        "# df[\"classification\"].value_counts()\n",
        "# df = df.reset_index(drop=True)\n",
        "df = df.reindex(np.random.permutation(df.index))  \n",
        "df.head()"
      ],
      "execution_count": 12,
      "outputs": [
        {
          "output_type": "execute_result",
          "data": {
            "text/html": [
              "<div>\n",
              "<style scoped>\n",
              "    .dataframe tbody tr th:only-of-type {\n",
              "        vertical-align: middle;\n",
              "    }\n",
              "\n",
              "    .dataframe tbody tr th {\n",
              "        vertical-align: top;\n",
              "    }\n",
              "\n",
              "    .dataframe thead th {\n",
              "        text-align: right;\n",
              "    }\n",
              "</style>\n",
              "<table border=\"1\" class=\"dataframe\">\n",
              "  <thead>\n",
              "    <tr style=\"text-align: right;\">\n",
              "      <th></th>\n",
              "      <th>classification</th>\n",
              "      <th>review_text</th>\n",
              "    </tr>\n",
              "  </thead>\n",
              "  <tbody>\n",
              "    <tr>\n",
              "      <th>87872</th>\n",
              "      <td>Positive</td>\n",
              "      <td>huge room great location perfect place staycat...</td>\n",
              "    </tr>\n",
              "    <tr>\n",
              "      <th>73751</th>\n",
              "      <td>Positive</td>\n",
              "      <td>exceptional positive rest negative no balcony</td>\n",
              "    </tr>\n",
              "    <tr>\n",
              "      <th>81431</th>\n",
              "      <td>Positive</td>\n",
              "      <td>fabulous positive good location needs negative...</td>\n",
              "    </tr>\n",
              "    <tr>\n",
              "      <th>88460</th>\n",
              "      <td>Positive</td>\n",
              "      <td>positive good location wonderful suite friendl...</td>\n",
              "    </tr>\n",
              "    <tr>\n",
              "      <th>93493</th>\n",
              "      <td>Positive</td>\n",
              "      <td>positive ive staying citadines soi8 several ye...</td>\n",
              "    </tr>\n",
              "  </tbody>\n",
              "</table>\n",
              "</div>"
            ],
            "text/plain": [
              "      classification                                        review_text\n",
              "87872       Positive  huge room great location perfect place staycat...\n",
              "73751       Positive      exceptional positive rest negative no balcony\n",
              "81431       Positive  fabulous positive good location needs negative...\n",
              "88460       Positive  positive good location wonderful suite friendl...\n",
              "93493       Positive  positive ive staying citadines soi8 several ye..."
            ]
          },
          "metadata": {
            "tags": []
          },
          "execution_count": 12
        }
      ]
    },
    {
      "cell_type": "markdown",
      "metadata": {
        "id": "L9lfxPV6-yPm"
      },
      "source": [
        "# Prepare Training and Tesing"
      ]
    },
    {
      "cell_type": "code",
      "metadata": {
        "id": "k3M5wWNTzRLg",
        "outputId": "eebf9f55-aa55-461a-f1ee-3b3983fb0378",
        "colab": {
          "base_uri": "https://localhost:8080/"
        }
      },
      "source": [
        "# Split train & test\n",
        "text_train, text_test, y_train, y_test = train_test_split(df['review_text'], df[\"classification\"], test_size=0.1, random_state=37, stratify=df[\"classification\"])\n",
        "print('# Train data samples:', text_train.shape[0])\n",
        "print('# Test data samples:', text_test.shape[0])\n",
        "# assert X_train.shape[0] == y_train.shape[0]\n",
        "# assert X_test.shape[0] == y_test.shape[0]"
      ],
      "execution_count": 13,
      "outputs": [
        {
          "output_type": "stream",
          "text": [
            "# Train data samples: 74115\n",
            "# Test data samples: 8236\n"
          ],
          "name": "stdout"
        }
      ]
    },
    {
      "cell_type": "code",
      "metadata": {
        "id": "tzRueTTI0sJs",
        "outputId": "ac587fa0-c898-4c82-aeb1-1cb0d98cae88",
        "colab": {
          "base_uri": "https://localhost:8080/"
        }
      },
      "source": [
        "from collections import Counter\n",
        "Counter(y_train)"
      ],
      "execution_count": 14,
      "outputs": [
        {
          "output_type": "execute_result",
          "data": {
            "text/plain": [
              "Counter({'Negative': 6056, 'Positive': 68059})"
            ]
          },
          "metadata": {
            "tags": []
          },
          "execution_count": 14
        }
      ]
    },
    {
      "cell_type": "code",
      "metadata": {
        "id": "3HCrVC1qB6QD",
        "outputId": "3b4a09b8-ec82-4b8c-a877-fe4c999f9212",
        "colab": {
          "base_uri": "https://localhost:8080/"
        }
      },
      "source": [
        "max(len(x) for x in X_train)"
      ],
      "execution_count": 58,
      "outputs": [
        {
          "output_type": "execute_result",
          "data": {
            "text/plain": [
              "827"
            ]
          },
          "metadata": {
            "tags": []
          },
          "execution_count": 58
        }
      ]
    },
    {
      "cell_type": "code",
      "metadata": {
        "id": "d05uC4lXreHG",
        "outputId": "a597fd0e-b241-4b27-ac2e-e3a31467c58a",
        "colab": {
          "base_uri": "https://localhost:8080/"
        }
      },
      "source": [
        "#tokenization\n",
        "tokenizer = Tokenizer(num_words=NB_WORDS,\n",
        "               filters='!\"#$%&()*+,-./:;<=>?@[\\\\]^_`{|}~\\t\\n',\n",
        "               lower=True,\n",
        "               split=\" \")\n",
        "tokenizer.fit_on_texts(text_train)\n",
        "X_train = tokenizer.texts_to_sequences(text_train)\n",
        "X_test = tokenizer.texts_to_sequences(text_test)\n",
        "\n",
        "word_index = tokenizer.word_index\n",
        "vocab_size = len(word_index) + 1  # Adding 1 because of reserved 0 index\n",
        "maxlen = max(len(x) for x in X_train) # longest text in train set\n",
        "class_num = 2\n",
        "EPOCH = 15\n",
        "print('vocabubary size:',vocab_size)\n",
        "print('max length text:',maxlen)\n",
        "\n",
        "#Padding the sentences\n",
        "X_train = pad_sequences(X_train, padding='post', maxlen=maxlen)\n",
        "X_test = pad_sequences(X_test, padding='post', maxlen=maxlen)\n",
        "\n",
        "#embedding dimension should align with the GLOVE\n",
        "embedding_dim = 100\n",
        "vocab_size = len(word_index) + 1\n",
        "\n",
        "GLOVE_6B_100D_PATH =\"/content/drive/My Drive/ISS/EBA5004/3. TPML/Day 2/Workshop/glove.6B.100d.txt\"\n",
        "encoding=\"utf-8\"\n",
        "with open(GLOVE_6B_100D_PATH, \"rb\") as lines:\n",
        "    embeddings_index = {line.split()[0].decode(encoding): np.array(line.split()[1:],dtype=np.float32)\n",
        "               for line in lines}\n",
        "\n",
        "# Prepare embedding matrix from pre-trained model\n",
        "embedding_matrix = np.zeros((len(word_index) + 1, embedding_dim))\n",
        "\n",
        "for word, i in word_index.items():\n",
        "    embedding_vector = embeddings_index.get(word)\n",
        "    if embedding_vector is not None:\n",
        "        # words not found in embedding index will be all-zeros.\n",
        "        embedding_matrix[i] = embedding_vector\n",
        "\n",
        "# Check % words with embeddings \n",
        "nonzero_elements = np.count_nonzero(np.count_nonzero(embedding_matrix, axis=1))\n",
        "print(nonzero_elements / vocab_size)"
      ],
      "execution_count": 15,
      "outputs": [
        {
          "output_type": "stream",
          "text": [
            "vocabubary size: 44912\n",
            "max length text: 827\n",
            "0.550498753117207\n"
          ],
          "name": "stdout"
        }
      ]
    },
    {
      "cell_type": "code",
      "metadata": {
        "id": "nfePcuoIA25o"
      },
      "source": [
        "import pickle\n",
        "\n",
        "# saving\n",
        "with open('tokenizer.pickle', 'wb') as handle:\n",
        "    pickle.dump(tokenizer, handle, protocol=pickle.HIGHEST_PROTOCOL)"
      ],
      "execution_count": 57,
      "outputs": []
    },
    {
      "cell_type": "code",
      "metadata": {
        "id": "k6Bnt1gWQ3_X"
      },
      "source": [
        "#create class weight dict for unbanlanced dataset\n",
        "#If 'balanced', class weights will be given by n_samples / (n_classes * np.bincount(y)\n",
        "\n",
        "class_weights = class_weight.compute_class_weight('balanced', np.unique(y_train), y_train)\n",
        "class_weights_d = dict(enumerate(class_weights))"
      ],
      "execution_count": 17,
      "outputs": []
    },
    {
      "cell_type": "code",
      "metadata": {
        "id": "WR0cPh_S5bRo",
        "outputId": "9c8ba236-6131-478c-ac78-6aa9a67bf0fd",
        "colab": {
          "base_uri": "https://localhost:8080/"
        }
      },
      "source": [
        "##onehot encoding for y\n",
        "def categoricalList2Onehot(listOfClasses):\n",
        "    # integer encode\n",
        "    label_encoder = LabelEncoder()\n",
        "    integer_encoded = label_encoder.fit_transform(listOfClasses)\n",
        "    # binary encode\n",
        "    onehot_encoder = OneHotEncoder(sparse=False)\n",
        "    integer_encoded = integer_encoded.reshape(len(integer_encoded), 1)\n",
        "    onehot_encoded = onehot_encoder.fit_transform(integer_encoded)\n",
        "    \n",
        "    return onehot_encoded\n",
        "\n",
        "y_train_onehot = categoricalList2Onehot(y_train)\n",
        "y_train_onehot.shape\n",
        "y_test_onehot = categoricalList2Onehot(y_test)\n",
        "y_test_onehot.shape"
      ],
      "execution_count": 18,
      "outputs": [
        {
          "output_type": "execute_result",
          "data": {
            "text/plain": [
              "(8236, 2)"
            ]
          },
          "metadata": {
            "tags": []
          },
          "execution_count": 18
        }
      ]
    },
    {
      "cell_type": "markdown",
      "metadata": {
        "id": "0Rue1jwCV6xG"
      },
      "source": [
        "# CNN"
      ]
    },
    {
      "cell_type": "markdown",
      "metadata": {
        "id": "D4-uKadzxies"
      },
      "source": [
        "## Shallow CNN"
      ]
    },
    {
      "cell_type": "code",
      "metadata": {
        "id": "X4HlXvnEV778",
        "outputId": "2e116c03-b705-40ae-bbe5-3e0d5f30221a",
        "colab": {
          "base_uri": "https://localhost:8080/"
        }
      },
      "source": [
        "# Shallow CNN\n",
        "model = Sequential()\n",
        "model.add(Embedding(vocab_size, embedding_dim, input_length=maxlen,trainable=False,weights=[embedding_matrix]))\n",
        "model.add(Conv1D(512, 3, activation='relu'))\n",
        "model.add(GlobalMaxPooling1D())\n",
        "model.add(Dense(class_num, activation='softmax'))\n",
        "model.compile(optimizer='adam',\n",
        "              loss='categorical_crossentropy',\n",
        "              metrics=['accuracy'])\n",
        "model.summary()"
      ],
      "execution_count": 59,
      "outputs": [
        {
          "output_type": "stream",
          "text": [
            "Model: \"sequential_8\"\n",
            "_________________________________________________________________\n",
            "Layer (type)                 Output Shape              Param #   \n",
            "=================================================================\n",
            "embedding_15 (Embedding)     (None, 827, 100)          4491200   \n",
            "_________________________________________________________________\n",
            "conv1d_11 (Conv1D)           (None, 825, 512)          154112    \n",
            "_________________________________________________________________\n",
            "global_max_pooling1d_5 (Glob (None, 512)               0         \n",
            "_________________________________________________________________\n",
            "dense_19 (Dense)             (None, 2)                 1026      \n",
            "=================================================================\n",
            "Total params: 4,646,338\n",
            "Trainable params: 155,138\n",
            "Non-trainable params: 4,491,200\n",
            "_________________________________________________________________\n"
          ],
          "name": "stdout"
        }
      ]
    },
    {
      "cell_type": "code",
      "metadata": {
        "id": "GOOSvgQVWXS3",
        "outputId": "f95a1b4c-6860-445b-966a-d3148b46e297",
        "colab": {
          "base_uri": "https://localhost:8080/",
          "height": 930
        }
      },
      "source": [
        "#train the model\n",
        "\n",
        "hist = model.fit(X_train, y_train_onehot,\n",
        "                    class_weight = class_weights_d,\n",
        "                    epochs=15,\n",
        "                    verbose=True,\n",
        "                    validation_data=(X_test, y_test_onehot),\n",
        "                    batch_size=128).history\n",
        "\n",
        "loss, accuracy = model.evaluate(X_train, y_train_onehot, verbose=True)\n",
        "print(\"Training Accuracy: {:.4f}\".format(accuracy))\n",
        "loss, accuracy = model.evaluate(X_test, y_test_onehot, verbose=False)\n",
        "print(\"Testing Accuracy:  {:.4f}\".format(accuracy))\n",
        "plot_history(hist)"
      ],
      "execution_count": 60,
      "outputs": [
        {
          "output_type": "stream",
          "text": [
            "Epoch 1/15\n",
            "580/580 [==============================] - 29s 50ms/step - loss: 0.2985 - accuracy: 0.8731 - val_loss: 0.1752 - val_accuracy: 0.9298\n",
            "Epoch 2/15\n",
            "580/580 [==============================] - 29s 50ms/step - loss: 0.2109 - accuracy: 0.9119 - val_loss: 0.1322 - val_accuracy: 0.9483\n",
            "Epoch 3/15\n",
            "580/580 [==============================] - 29s 51ms/step - loss: 0.1557 - accuracy: 0.9359 - val_loss: 0.1138 - val_accuracy: 0.9557\n",
            "Epoch 4/15\n",
            "580/580 [==============================] - 29s 51ms/step - loss: 0.1204 - accuracy: 0.9492 - val_loss: 0.1814 - val_accuracy: 0.9292\n",
            "Epoch 5/15\n",
            "580/580 [==============================] - 30s 51ms/step - loss: 0.0946 - accuracy: 0.9620 - val_loss: 0.2805 - val_accuracy: 0.8966\n",
            "Epoch 6/15\n",
            "580/580 [==============================] - 30s 51ms/step - loss: 0.0641 - accuracy: 0.9734 - val_loss: 0.3397 - val_accuracy: 0.8849\n",
            "Epoch 7/15\n",
            "580/580 [==============================] - 30s 51ms/step - loss: 0.0448 - accuracy: 0.9814 - val_loss: 0.1596 - val_accuracy: 0.9450\n",
            "Epoch 8/15\n",
            "580/580 [==============================] - 30s 52ms/step - loss: 0.0333 - accuracy: 0.9877 - val_loss: 0.1548 - val_accuracy: 0.9511\n",
            "Epoch 9/15\n",
            "580/580 [==============================] - 30s 52ms/step - loss: 0.0411 - accuracy: 0.9834 - val_loss: 0.1676 - val_accuracy: 0.9494\n",
            "Epoch 10/15\n",
            "580/580 [==============================] - 30s 52ms/step - loss: 0.0300 - accuracy: 0.9884 - val_loss: 0.1618 - val_accuracy: 0.9574\n",
            "Epoch 11/15\n",
            "580/580 [==============================] - 30s 52ms/step - loss: 0.0346 - accuracy: 0.9866 - val_loss: 0.1707 - val_accuracy: 0.9529\n",
            "Epoch 12/15\n",
            "580/580 [==============================] - 30s 52ms/step - loss: 0.0188 - accuracy: 0.9934 - val_loss: 0.3919 - val_accuracy: 0.8949\n",
            "Epoch 13/15\n",
            "580/580 [==============================] - 30s 52ms/step - loss: 0.0212 - accuracy: 0.9916 - val_loss: 0.1891 - val_accuracy: 0.9613\n",
            "Epoch 14/15\n",
            "580/580 [==============================] - 30s 52ms/step - loss: 0.0139 - accuracy: 0.9950 - val_loss: 0.2107 - val_accuracy: 0.9457\n",
            "Epoch 15/15\n",
            "580/580 [==============================] - 30s 52ms/step - loss: 0.0101 - accuracy: 0.9966 - val_loss: 0.1919 - val_accuracy: 0.9585\n",
            "2317/2317 [==============================] - 17s 8ms/step - loss: 0.0053 - accuracy: 0.9988\n",
            "Training Accuracy: 0.9988\n",
            "Testing Accuracy:  0.9585\n"
          ],
          "name": "stdout"
        },
        {
          "output_type": "display_data",
          "data": {
            "image/png": "[encoded data removed]",
            "text/plain": [
              "<Figure size 720x360 with 2 Axes>"
            ]
          },
          "metadata": {
            "tags": [],
            "needs_background": "light"
          }
        }
      ]
    },
    {
      "cell_type": "code",
      "metadata": {
        "id": "vPIy0Ip3D_K9",
        "outputId": "f63ccb7b-713e-4711-b70b-49392f0c8ba4",
        "colab": {
          "base_uri": "https://localhost:8080/"
        }
      },
      "source": [
        "y_pred = model.predict(X_test)\n",
        "matrix = classification_report(np.argmax(y_test_onehot, axis=1), np.argmax(y_pred, axis=1))\n",
        "print(matrix)"
      ],
      "execution_count": 61,
      "outputs": [
        {
          "output_type": "stream",
          "text": [
            "              precision    recall  f1-score   support\n",
            "\n",
            "           0       0.76      0.71      0.74       673\n",
            "           1       0.97      0.98      0.98      7563\n",
            "\n",
            "    accuracy                           0.96      8236\n",
            "   macro avg       0.87      0.85      0.86      8236\n",
            "weighted avg       0.96      0.96      0.96      8236\n",
            "\n"
          ],
          "name": "stdout"
        }
      ]
    },
    {
      "cell_type": "code",
      "metadata": {
        "id": "eFJ9X0Z28ZTQ"
      },
      "source": [
        "from keras.models import Sequential, save_model, load_model\n",
        "filepath = r'/content/drive/My Drive/ISS/EBA5004/PLP Project/cnn_model.hdf5'\n",
        "save_model(model, filepath)"
      ],
      "execution_count": 63,
      "outputs": []
    },
    {
      "cell_type": "code",
      "metadata": {
        "id": "371hQlUWGRsq"
      },
      "source": [
        "model_x = load_model(filepath)"
      ],
      "execution_count": 64,
      "outputs": []
    },
    {
      "cell_type": "code",
      "metadata": {
        "id": "u5DDh_lQGXjy",
        "outputId": "e4acafe5-559a-4132-de9d-fde5ec348b41",
        "colab": {
          "base_uri": "https://localhost:8080/",
          "height": 52
        }
      },
      "source": [
        "text_test.iloc[0]"
      ],
      "execution_count": 71,
      "outputs": [
        {
          "output_type": "execute_result",
          "data": {
            "application/vnd.google.colaboratory.intrinsic+json": {
              "type": "string"
            },
            "text/plain": [
              "'brilliant location lots options eat walking distance excellent professional staff comfortable stay love every bit wanna come family business place disclaimer no restaurants available hotel thats selection criteria'"
            ]
          },
          "metadata": {
            "tags": []
          },
          "execution_count": 71
        }
      ]
    },
    {
      "cell_type": "code",
      "metadata": {
        "id": "-mdxiaxFHgSc",
        "outputId": "e9abc196-e24e-4697-fcf1-96f7af16c1df",
        "colab": {
          "base_uri": "https://localhost:8080/"
        }
      },
      "source": [
        "X_test[0]"
      ],
      "execution_count": 73,
      "outputs": [
        {
          "output_type": "execute_result",
          "data": {
            "text/plain": [
              "array([ 763,    5,  180,  219,  312,   69,   84,   27,  283,    3,   18,\n",
              "         10,  120,  126,   61, 2585,  117,   72,  168,   21,   22,   49,\n",
              "        125,    2,  496,  378, 7741,    0,    0,    0,    0,    0,    0,\n",
              "          0,    0,    0,    0,    0,    0,    0,    0,    0,    0,    0,\n",
              "          0,    0,    0,    0,    0,    0,    0,    0,    0,    0,    0,\n",
              "          0,    0,    0,    0,    0,    0,    0,    0,    0,    0,    0,\n",
              "          0,    0,    0,    0,    0,    0,    0,    0,    0,    0,    0,\n",
              "          0,    0,    0,    0,    0,    0,    0,    0,    0,    0,    0,\n",
              "          0,    0,    0,    0,    0,    0,    0,    0,    0,    0,    0,\n",
              "          0,    0,    0,    0,    0,    0,    0,    0,    0,    0,    0,\n",
              "          0,    0,    0,    0,    0,    0,    0,    0,    0,    0,    0,\n",
              "          0,    0,    0,    0,    0,    0,    0,    0,    0,    0,    0,\n",
              "          0,    0,    0,    0,    0,    0,    0,    0,    0,    0,    0,\n",
              "          0,    0,    0,    0,    0,    0,    0,    0,    0,    0,    0,\n",
              "          0,    0,    0,    0,    0,    0,    0,    0,    0,    0,    0,\n",
              "          0,    0,    0,    0,    0,    0,    0,    0,    0,    0,    0,\n",
              "          0,    0,    0,    0,    0,    0,    0,    0,    0,    0,    0,\n",
              "          0,    0,    0,    0,    0,    0,    0,    0,    0,    0,    0,\n",
              "          0,    0,    0,    0,    0,    0,    0,    0,    0,    0,    0,\n",
              "          0,    0,    0,    0,    0,    0,    0,    0,    0,    0,    0,\n",
              "          0,    0,    0,    0,    0,    0,    0,    0,    0,    0,    0,\n",
              "          0,    0,    0,    0,    0,    0,    0,    0,    0,    0,    0,\n",
              "          0,    0,    0,    0,    0,    0,    0,    0,    0,    0,    0,\n",
              "          0,    0,    0,    0,    0,    0,    0,    0,    0,    0,    0,\n",
              "          0,    0,    0,    0,    0,    0,    0,    0,    0,    0,    0,\n",
              "          0,    0,    0,    0,    0,    0,    0,    0,    0,    0,    0,\n",
              "          0,    0,    0,    0,    0,    0,    0,    0,    0,    0,    0,\n",
              "          0,    0,    0,    0,    0,    0,    0,    0,    0,    0,    0,\n",
              "          0,    0,    0,    0,    0,    0,    0,    0,    0,    0,    0,\n",
              "          0,    0,    0,    0,    0,    0,    0,    0,    0,    0,    0,\n",
              "          0,    0,    0,    0,    0,    0,    0,    0,    0,    0,    0,\n",
              "          0,    0,    0,    0,    0,    0,    0,    0,    0,    0,    0,\n",
              "          0,    0,    0,    0,    0,    0,    0,    0,    0,    0,    0,\n",
              "          0,    0,    0,    0,    0,    0,    0,    0,    0,    0,    0,\n",
              "          0,    0,    0,    0,    0,    0,    0,    0,    0,    0,    0,\n",
              "          0,    0,    0,    0,    0,    0,    0,    0,    0,    0,    0,\n",
              "          0,    0,    0,    0,    0,    0,    0,    0,    0,    0,    0,\n",
              "          0,    0,    0,    0,    0,    0,    0,    0,    0,    0,    0,\n",
              "          0,    0,    0,    0,    0,    0,    0,    0,    0,    0,    0,\n",
              "          0,    0,    0,    0,    0,    0,    0,    0,    0,    0,    0,\n",
              "          0,    0,    0,    0,    0,    0,    0,    0,    0,    0,    0,\n",
              "          0,    0,    0,    0,    0,    0,    0,    0,    0,    0,    0,\n",
              "          0,    0,    0,    0,    0,    0,    0,    0,    0,    0,    0,\n",
              "          0,    0,    0,    0,    0,    0,    0,    0,    0,    0,    0,\n",
              "          0,    0,    0,    0,    0,    0,    0,    0,    0,    0,    0,\n",
              "          0,    0,    0,    0,    0,    0,    0,    0,    0,    0,    0,\n",
              "          0,    0,    0,    0,    0,    0,    0,    0,    0,    0,    0,\n",
              "          0,    0,    0,    0,    0,    0,    0,    0,    0,    0,    0,\n",
              "          0,    0,    0,    0,    0,    0,    0,    0,    0,    0,    0,\n",
              "          0,    0,    0,    0,    0,    0,    0,    0,    0,    0,    0,\n",
              "          0,    0,    0,    0,    0,    0,    0,    0,    0,    0,    0,\n",
              "          0,    0,    0,    0,    0,    0,    0,    0,    0,    0,    0,\n",
              "          0,    0,    0,    0,    0,    0,    0,    0,    0,    0,    0,\n",
              "          0,    0,    0,    0,    0,    0,    0,    0,    0,    0,    0,\n",
              "          0,    0,    0,    0,    0,    0,    0,    0,    0,    0,    0,\n",
              "          0,    0,    0,    0,    0,    0,    0,    0,    0,    0,    0,\n",
              "          0,    0,    0,    0,    0,    0,    0,    0,    0,    0,    0,\n",
              "          0,    0,    0,    0,    0,    0,    0,    0,    0,    0,    0,\n",
              "          0,    0,    0,    0,    0,    0,    0,    0,    0,    0,    0,\n",
              "          0,    0,    0,    0,    0,    0,    0,    0,    0,    0,    0,\n",
              "          0,    0,    0,    0,    0,    0,    0,    0,    0,    0,    0,\n",
              "          0,    0,    0,    0,    0,    0,    0,    0,    0,    0,    0,\n",
              "          0,    0,    0,    0,    0,    0,    0,    0,    0,    0,    0,\n",
              "          0,    0,    0,    0,    0,    0,    0,    0,    0,    0,    0,\n",
              "          0,    0,    0,    0,    0,    0,    0,    0,    0,    0,    0,\n",
              "          0,    0,    0,    0,    0,    0,    0,    0,    0,    0,    0,\n",
              "          0,    0,    0,    0,    0,    0,    0,    0,    0,    0,    0,\n",
              "          0,    0,    0,    0,    0,    0,    0,    0,    0,    0,    0,\n",
              "          0,    0,    0,    0,    0,    0,    0,    0,    0,    0,    0,\n",
              "          0,    0,    0,    0,    0,    0,    0,    0,    0,    0,    0,\n",
              "          0,    0,    0,    0,    0,    0,    0,    0,    0,    0,    0,\n",
              "          0,    0,    0,    0,    0,    0,    0,    0,    0,    0,    0,\n",
              "          0,    0,    0,    0,    0,    0,    0,    0,    0,    0,    0,\n",
              "          0,    0,    0,    0,    0,    0,    0,    0,    0,    0,    0,\n",
              "          0,    0,    0,    0,    0,    0,    0,    0,    0,    0,    0,\n",
              "          0,    0], dtype=int32)"
            ]
          },
          "metadata": {
            "tags": []
          },
          "execution_count": 73
        }
      ]
    },
    {
      "cell_type": "markdown",
      "metadata": {
        "id": "h8UlyOVQyQNK"
      },
      "source": [
        "## Shallow CNN with dropout"
      ]
    },
    {
      "cell_type": "code",
      "metadata": {
        "id": "GZJJEQfYWrWv",
        "outputId": "f7ea5fd3-244b-4bab-e817-9e07a2a91a9a",
        "colab": {
          "base_uri": "https://localhost:8080/"
        }
      },
      "source": [
        "# Modify Shallow CNN with dropout Layer\n",
        "\n",
        "model_dp = Sequential()\n",
        "model_dp.add(Embedding(vocab_size, embedding_dim, input_length=maxlen,weights=[embedding_matrix],trainable=False))\n",
        "model_dp.add(Conv1D(512, 3, activation='relu'))\n",
        "model_dp.add(GlobalMaxPooling1D())\n",
        "model_dp.add(Dense(64, activation='relu'))\n",
        "model_dp.add(Dropout(0.2))\n",
        "model_dp.add(Dense(class_num, activation='softmax'))\n",
        "model_dp.compile(optimizer='adam',\n",
        "              loss='categorical_crossentropy',\n",
        "              metrics=['accuracy'])\n",
        "model_dp.summary()"
      ],
      "execution_count": 28,
      "outputs": [
        {
          "output_type": "stream",
          "text": [
            "Model: \"sequential_4\"\n",
            "_________________________________________________________________\n",
            "Layer (type)                 Output Shape              Param #   \n",
            "=================================================================\n",
            "embedding_4 (Embedding)      (None, 827, 100)          4491200   \n",
            "_________________________________________________________________\n",
            "conv1d_4 (Conv1D)            (None, 825, 512)          154112    \n",
            "_________________________________________________________________\n",
            "global_max_pooling1d_4 (Glob (None, 512)               0         \n",
            "_________________________________________________________________\n",
            "dense_3 (Dense)              (None, 64)                32832     \n",
            "_________________________________________________________________\n",
            "dropout (Dropout)            (None, 64)                0         \n",
            "_________________________________________________________________\n",
            "dense_4 (Dense)              (None, 2)                 130       \n",
            "=================================================================\n",
            "Total params: 4,678,274\n",
            "Trainable params: 187,074\n",
            "Non-trainable params: 4,491,200\n",
            "_________________________________________________________________\n"
          ],
          "name": "stdout"
        }
      ]
    },
    {
      "cell_type": "code",
      "metadata": {
        "id": "Xo6YkrMdWzef",
        "outputId": "102b167a-572e-48d0-df42-41d8504d07e3",
        "colab": {
          "base_uri": "https://localhost:8080/",
          "height": 930
        }
      },
      "source": [
        "#train the model\n",
        "\n",
        "hist_dp = model_dp.fit(X_train, y_train_onehot,\n",
        "                    class_weight = class_weights_d,\n",
        "                    epochs=EPOCH,\n",
        "                    verbose=True,\n",
        "                    validation_data=(X_test, y_test_onehot),\n",
        "                    batch_size=BATCH_SIZE).history\n",
        "\n",
        "loss, accuracy = model_dp.evaluate(X_train, y_train_onehot, verbose=True)\n",
        "print(\"Training Accuracy: {:.4f}\".format(accuracy))\n",
        "loss, accuracy = model_dp.evaluate(X_test, y_test_onehot, verbose=False)\n",
        "print(\"Testing Accuracy:  {:.4f}\".format(accuracy))\n",
        "plot_history(hist_dp)"
      ],
      "execution_count": 29,
      "outputs": [
        {
          "output_type": "stream",
          "text": [
            "Epoch 1/15\n",
            "580/580 [==============================] - 28s 49ms/step - loss: 0.3157 - accuracy: 0.8616 - val_loss: 0.2314 - val_accuracy: 0.9110\n",
            "Epoch 2/15\n",
            "580/580 [==============================] - 28s 49ms/step - loss: 0.2195 - accuracy: 0.9094 - val_loss: 0.1794 - val_accuracy: 0.9286\n",
            "Epoch 3/15\n",
            "580/580 [==============================] - 29s 50ms/step - loss: 0.1802 - accuracy: 0.9248 - val_loss: 0.1851 - val_accuracy: 0.9201\n",
            "Epoch 4/15\n",
            "580/580 [==============================] - 29s 50ms/step - loss: 0.1463 - accuracy: 0.9369 - val_loss: 0.2452 - val_accuracy: 0.9014\n",
            "Epoch 5/15\n",
            "580/580 [==============================] - 29s 50ms/step - loss: 0.1183 - accuracy: 0.9488 - val_loss: 0.1329 - val_accuracy: 0.9469\n",
            "Epoch 6/15\n",
            "580/580 [==============================] - 29s 50ms/step - loss: 0.0954 - accuracy: 0.9583 - val_loss: 0.1398 - val_accuracy: 0.9466\n",
            "Epoch 7/15\n",
            "580/580 [==============================] - 29s 50ms/step - loss: 0.0785 - accuracy: 0.9656 - val_loss: 0.1509 - val_accuracy: 0.9536\n",
            "Epoch 8/15\n",
            "580/580 [==============================] - 29s 50ms/step - loss: 0.0740 - accuracy: 0.9664 - val_loss: 0.2163 - val_accuracy: 0.9297\n",
            "Epoch 9/15\n",
            "580/580 [==============================] - 29s 50ms/step - loss: 0.0692 - accuracy: 0.9692 - val_loss: 0.1820 - val_accuracy: 0.9522\n",
            "Epoch 10/15\n",
            "580/580 [==============================] - 29s 50ms/step - loss: 0.0577 - accuracy: 0.9744 - val_loss: 0.1839 - val_accuracy: 0.9411\n",
            "Epoch 11/15\n",
            "580/580 [==============================] - 29s 50ms/step - loss: 0.0551 - accuracy: 0.9752 - val_loss: 0.2580 - val_accuracy: 0.9163\n",
            "Epoch 12/15\n",
            "580/580 [==============================] - 29s 50ms/step - loss: 0.0457 - accuracy: 0.9795 - val_loss: 0.1813 - val_accuracy: 0.9534\n",
            "Epoch 13/15\n",
            "580/580 [==============================] - 29s 50ms/step - loss: 0.0398 - accuracy: 0.9823 - val_loss: 0.3618 - val_accuracy: 0.9161\n",
            "Epoch 14/15\n",
            "580/580 [==============================] - 29s 50ms/step - loss: 0.0477 - accuracy: 0.9790 - val_loss: 0.3870 - val_accuracy: 0.9032\n",
            "Epoch 15/15\n",
            "580/580 [==============================] - 29s 50ms/step - loss: 0.0446 - accuracy: 0.9804 - val_loss: 0.2091 - val_accuracy: 0.9529\n",
            "2317/2317 [==============================] - 16s 7ms/step - loss: 0.0199 - accuracy: 0.9923\n",
            "Training Accuracy: 0.9923\n",
            "Testing Accuracy:  0.9529\n"
          ],
          "name": "stdout"
        },
        {
          "output_type": "display_data",
          "data": {
            "image/png": "[encoded data removed]",
            "text/plain": [
              "<Figure size 720x360 with 2 Axes>"
            ]
          },
          "metadata": {
            "tags": [],
            "needs_background": "light"
          }
        }
      ]
    },
    {
      "cell_type": "code",
      "metadata": {
        "id": "7XRVo42vyX3Z",
        "outputId": "8fdd6a54-86a9-4fd0-89e5-cebb94dc547f",
        "colab": {
          "base_uri": "https://localhost:8080/"
        }
      },
      "source": [
        "y_pred = model_dp.predict(X_test)\n",
        "matrix = classification_report(np.argmax(y_test_onehot, axis=1), np.argmax(y_pred, axis=1))\n",
        "print(matrix)"
      ],
      "execution_count": 30,
      "outputs": [
        {
          "output_type": "stream",
          "text": [
            "              precision    recall  f1-score   support\n",
            "\n",
            "           0       0.70      0.74      0.72       673\n",
            "           1       0.98      0.97      0.97      7563\n",
            "\n",
            "    accuracy                           0.95      8236\n",
            "   macro avg       0.84      0.86      0.85      8236\n",
            "weighted avg       0.95      0.95      0.95      8236\n",
            "\n"
          ],
          "name": "stdout"
        }
      ]
    },
    {
      "cell_type": "markdown",
      "metadata": {
        "id": "eBWenN7sz6qX"
      },
      "source": [
        "## Deep CNN"
      ]
    },
    {
      "cell_type": "code",
      "metadata": {
        "id": "SHOdDmKEW1vQ",
        "outputId": "42bcebe0-7b0e-4674-85f3-3ed681ee0f63",
        "colab": {
          "base_uri": "https://localhost:8080/"
        }
      },
      "source": [
        "##Deep CNN \n",
        "# define the model\n",
        "from keras.layers.merge import concatenate\n",
        "\n",
        "def define_model(length, vocab_size,embedding_dim):\n",
        "\t# channel 1\n",
        "\tinputs1 = Input(shape=(length,))\n",
        "\tembedding1 = Embedding(vocab_size, embedding_dim,weights=[embedding_matrix],trainable=False)(inputs1)\n",
        "\tconv1 = Conv1D(filters=128, kernel_size=2, activation='relu')(embedding1)\n",
        "\tdrop1 = Dropout(0.5)(conv1)\n",
        "\tpool1 = MaxPooling1D(pool_size=2)(drop1)\n",
        "\tflat1 = Flatten()(pool1)\n",
        "\t# channel 2\n",
        "\tinputs2 = Input(shape=(length,))\n",
        "\tembedding2 = Embedding(vocab_size, embedding_dim,weights=[embedding_matrix],trainable=False)(inputs2)\n",
        "\tconv2 = Conv1D(filters=128, kernel_size=3, activation='relu')(embedding2)\n",
        "\tdrop2 = Dropout(0.5)(conv2)\n",
        "\tpool2 = MaxPooling1D(pool_size=2)(drop2)\n",
        "\tflat2 = Flatten()(pool2)\n",
        "\t# channel 3\n",
        "\tinputs3 = Input(shape=(length,))\n",
        "\tembedding3 = Embedding(vocab_size, embedding_dim,weights=[embedding_matrix],trainable=False)(inputs3)\n",
        "\tconv3 = Conv1D(filters=128, kernel_size=5, activation='relu')(embedding3)\n",
        "\tdrop3 = Dropout(0.5)(conv3)\n",
        "\tpool3 = MaxPooling1D(pool_size=2)(drop3)\n",
        "\tflat3 = Flatten()(pool3)\n",
        "\t# merge\n",
        "\tmerged = concatenate([flat1, flat2, flat3])\n",
        "\t# interpretation\n",
        "\tdense1 = Dense(64, activation='relu')(merged)\n",
        "\toutputs = Dense(class_num, activation='softmax')(dense1)\n",
        "\tmodel = Model(inputs=[inputs1, inputs2, inputs3], outputs=outputs)\n",
        "\t# compile\n",
        "\tmodel.compile(loss='categorical_crossentropy', optimizer='adam', metrics=['accuracy'])\n",
        "\t# summarize\n",
        "\tprint(model.summary())\n",
        "\treturn model\n",
        "\n",
        "model_deep = define_model(maxlen,vocab_size,embedding_dim)"
      ],
      "execution_count": 32,
      "outputs": [
        {
          "output_type": "stream",
          "text": [
            "Model: \"functional_3\"\n",
            "__________________________________________________________________________________________________\n",
            "Layer (type)                    Output Shape         Param #     Connected to                     \n",
            "==================================================================================================\n",
            "input_4 (InputLayer)            [(None, 827)]        0                                            \n",
            "__________________________________________________________________________________________________\n",
            "input_5 (InputLayer)            [(None, 827)]        0                                            \n",
            "__________________________________________________________________________________________________\n",
            "input_6 (InputLayer)            [(None, 827)]        0                                            \n",
            "__________________________________________________________________________________________________\n",
            "embedding_8 (Embedding)         (None, 827, 100)     4491200     input_4[0][0]                    \n",
            "__________________________________________________________________________________________________\n",
            "embedding_9 (Embedding)         (None, 827, 100)     4491200     input_5[0][0]                    \n",
            "__________________________________________________________________________________________________\n",
            "embedding_10 (Embedding)        (None, 827, 100)     4491200     input_6[0][0]                    \n",
            "__________________________________________________________________________________________________\n",
            "conv1d_8 (Conv1D)               (None, 826, 128)     25728       embedding_8[0][0]                \n",
            "__________________________________________________________________________________________________\n",
            "conv1d_9 (Conv1D)               (None, 825, 128)     38528       embedding_9[0][0]                \n",
            "__________________________________________________________________________________________________\n",
            "conv1d_10 (Conv1D)              (None, 823, 128)     64128       embedding_10[0][0]               \n",
            "__________________________________________________________________________________________________\n",
            "dropout_4 (Dropout)             (None, 826, 128)     0           conv1d_8[0][0]                   \n",
            "__________________________________________________________________________________________________\n",
            "dropout_5 (Dropout)             (None, 825, 128)     0           conv1d_9[0][0]                   \n",
            "__________________________________________________________________________________________________\n",
            "dropout_6 (Dropout)             (None, 823, 128)     0           conv1d_10[0][0]                  \n",
            "__________________________________________________________________________________________________\n",
            "max_pooling1d_3 (MaxPooling1D)  (None, 413, 128)     0           dropout_4[0][0]                  \n",
            "__________________________________________________________________________________________________\n",
            "max_pooling1d_4 (MaxPooling1D)  (None, 412, 128)     0           dropout_5[0][0]                  \n",
            "__________________________________________________________________________________________________\n",
            "max_pooling1d_5 (MaxPooling1D)  (None, 411, 128)     0           dropout_6[0][0]                  \n",
            "__________________________________________________________________________________________________\n",
            "flatten_3 (Flatten)             (None, 52864)        0           max_pooling1d_3[0][0]            \n",
            "__________________________________________________________________________________________________\n",
            "flatten_4 (Flatten)             (None, 52736)        0           max_pooling1d_4[0][0]            \n",
            "__________________________________________________________________________________________________\n",
            "flatten_5 (Flatten)             (None, 52608)        0           max_pooling1d_5[0][0]            \n",
            "__________________________________________________________________________________________________\n",
            "concatenate_1 (Concatenate)     (None, 158208)       0           flatten_3[0][0]                  \n",
            "                                                                 flatten_4[0][0]                  \n",
            "                                                                 flatten_5[0][0]                  \n",
            "__________________________________________________________________________________________________\n",
            "dense_7 (Dense)                 (None, 64)           10125376    concatenate_1[0][0]              \n",
            "__________________________________________________________________________________________________\n",
            "dense_8 (Dense)                 (None, 2)            130         dense_7[0][0]                    \n",
            "==================================================================================================\n",
            "Total params: 23,727,490\n",
            "Trainable params: 10,253,890\n",
            "Non-trainable params: 13,473,600\n",
            "__________________________________________________________________________________________________\n",
            "None\n"
          ],
          "name": "stdout"
        }
      ]
    },
    {
      "cell_type": "code",
      "metadata": {
        "id": "5SZAYpYYW48Q",
        "outputId": "2dd03ff3-12c0-4d12-ada8-b4934031c09f",
        "colab": {
          "base_uri": "https://localhost:8080/",
          "height": 930
        }
      },
      "source": [
        "#train the model\n",
        "\n",
        "hist_deep = model_deep.fit([X_train,X_train,X_train], y_train_onehot,\n",
        "                    class_weight = class_weights_d,\n",
        "                    epochs=EPOCH,\n",
        "                    verbose=True,\n",
        "                    validation_data=([X_test,X_test,X_test], y_test_onehot),\n",
        "                    batch_size=BATCH_SIZE).history\n",
        "\n",
        "loss, accuracy = model_deep.evaluate([X_train,X_train,X_train], y_train_onehot, verbose=True)\n",
        "print(\"Training Accuracy: {:.4f}\".format(accuracy))\n",
        "loss, accuracy = model_deep.evaluate([X_test,X_test,X_test], y_test_onehot, verbose=False)\n",
        "print(\"Testing Accuracy:  {:.4f}\".format(accuracy))\n",
        "plot_history(hist_deep)"
      ],
      "execution_count": 33,
      "outputs": [
        {
          "output_type": "stream",
          "text": [
            "Epoch 1/15\n",
            "580/580 [==============================] - 38s 65ms/step - loss: 0.3607 - accuracy: 0.8448 - val_loss: 0.3205 - val_accuracy: 0.8748\n",
            "Epoch 2/15\n",
            "580/580 [==============================] - 37s 64ms/step - loss: 0.2589 - accuracy: 0.8901 - val_loss: 0.2873 - val_accuracy: 0.8806\n",
            "Epoch 3/15\n",
            "580/580 [==============================] - 37s 64ms/step - loss: 0.2229 - accuracy: 0.9061 - val_loss: 0.2199 - val_accuracy: 0.9075\n",
            "Epoch 4/15\n",
            "580/580 [==============================] - 37s 64ms/step - loss: 0.1917 - accuracy: 0.9175 - val_loss: 0.1744 - val_accuracy: 0.9297\n",
            "Epoch 5/15\n",
            "580/580 [==============================] - 37s 65ms/step - loss: 0.1672 - accuracy: 0.9269 - val_loss: 0.1763 - val_accuracy: 0.9321\n",
            "Epoch 6/15\n",
            "580/580 [==============================] - 37s 64ms/step - loss: 0.1510 - accuracy: 0.9347 - val_loss: 0.1894 - val_accuracy: 0.9239\n",
            "Epoch 7/15\n",
            "580/580 [==============================] - 38s 65ms/step - loss: 0.1314 - accuracy: 0.9422 - val_loss: 0.1987 - val_accuracy: 0.9228\n",
            "Epoch 8/15\n",
            "580/580 [==============================] - 38s 65ms/step - loss: 0.1299 - accuracy: 0.9435 - val_loss: 0.1695 - val_accuracy: 0.9343\n",
            "Epoch 9/15\n",
            "580/580 [==============================] - 38s 65ms/step - loss: 0.1190 - accuracy: 0.9496 - val_loss: 0.2165 - val_accuracy: 0.9196\n",
            "Epoch 10/15\n",
            "580/580 [==============================] - 38s 65ms/step - loss: 0.1094 - accuracy: 0.9522 - val_loss: 0.2625 - val_accuracy: 0.9069\n",
            "Epoch 11/15\n",
            "580/580 [==============================] - 38s 65ms/step - loss: 0.0989 - accuracy: 0.9557 - val_loss: 0.1629 - val_accuracy: 0.9415\n",
            "Epoch 12/15\n",
            "580/580 [==============================] - 38s 65ms/step - loss: 0.0891 - accuracy: 0.9606 - val_loss: 0.1706 - val_accuracy: 0.9457\n",
            "Epoch 13/15\n",
            "580/580 [==============================] - 38s 65ms/step - loss: 0.0885 - accuracy: 0.9610 - val_loss: 0.1752 - val_accuracy: 0.9500\n",
            "Epoch 14/15\n",
            "580/580 [==============================] - 38s 65ms/step - loss: 0.0865 - accuracy: 0.9621 - val_loss: 0.1636 - val_accuracy: 0.9463\n",
            "Epoch 15/15\n",
            "580/580 [==============================] - 38s 65ms/step - loss: 0.0803 - accuracy: 0.9649 - val_loss: 0.2080 - val_accuracy: 0.9281\n",
            "2317/2317 [==============================] - 23s 10ms/step - loss: 0.0778 - accuracy: 0.9689\n",
            "Training Accuracy: 0.9689\n",
            "Testing Accuracy:  0.9281\n"
          ],
          "name": "stdout"
        },
        {
          "output_type": "display_data",
          "data": {
            "image/png": "[encoded data removed]",
            "text/plain": [
              "<Figure size 720x360 with 2 Axes>"
            ]
          },
          "metadata": {
            "tags": [],
            "needs_background": "light"
          }
        }
      ]
    },
    {
      "cell_type": "code",
      "metadata": {
        "id": "_dGGlEwZ0G9_",
        "outputId": "0dc3b739-3bce-42ce-95ad-dc6a7aa6904a",
        "colab": {
          "base_uri": "https://localhost:8080/"
        }
      },
      "source": [
        "y_pred = model_deep.predict([X_test,X_test,X_test])\n",
        "matrix = classification_report(np.argmax(y_test_onehot, axis=1), np.argmax(y_pred, axis=1))\n",
        "print(matrix)"
      ],
      "execution_count": 34,
      "outputs": [
        {
          "output_type": "stream",
          "text": [
            "              precision    recall  f1-score   support\n",
            "\n",
            "           0       0.54      0.85      0.66       673\n",
            "           1       0.99      0.93      0.96      7563\n",
            "\n",
            "    accuracy                           0.93      8236\n",
            "   macro avg       0.76      0.89      0.81      8236\n",
            "weighted avg       0.95      0.93      0.94      8236\n",
            "\n"
          ],
          "name": "stdout"
        }
      ]
    },
    {
      "cell_type": "code",
      "metadata": {
        "id": "HljZfJ0hW7Lw",
        "outputId": "e5023c7f-7cf6-4d20-c3e9-e5699513d455",
        "colab": {
          "base_uri": "https://localhost:8080/",
          "height": 513
        }
      },
      "source": [
        "#Compare all the models\n",
        "\n",
        "plt.plot(hist['loss'], label='Shallow CNN')\n",
        "plt.plot(hist_dp['loss'], label='CNN with dropout')\n",
        "plt.plot(hist_deep['loss'], label='Deep CNN')\n",
        "plt.legend(loc='upper right')\n",
        "plt.show()\n",
        "\n",
        "plt.plot(hist['val_accuracy'], label='shallow CNN')\n",
        "plt.plot(hist_dp['val_accuracy'], label='CNN with dropout')\n",
        "plt.plot(hist_deep['val_accuracy'], label='Deep CNN')\n",
        "plt.legend(loc='lower right')\n",
        "plt.show()"
      ],
      "execution_count": null,
      "outputs": [
        {
          "output_type": "display_data",
          "data": {
            "image/png": "[encoded data removed]",
            "text/plain": [
              "<Figure size 432x288 with 1 Axes>"
            ]
          },
          "metadata": {
            "tags": [],
            "needs_background": "light"
          }
        },
        {
          "output_type": "display_data",
          "data": {
            "image/png": "[encoded data removed]",
            "text/plain": [
              "<Figure size 432x288 with 1 Axes>"
            ]
          },
          "metadata": {
            "tags": [],
            "needs_background": "light"
          }
        }
      ]
    },
    {
      "cell_type": "markdown",
      "metadata": {
        "id": "Wahj3WjGXtXV"
      },
      "source": [
        "# BiLSTM"
      ]
    },
    {
      "cell_type": "code",
      "metadata": {
        "id": "GdhlfNkbXs3t",
        "outputId": "43fbfbb8-651d-47bc-9663-7fdcf06d50a9",
        "colab": {
          "base_uri": "https://localhost:8080/"
        }
      },
      "source": [
        "#Define the BiLSTM model with output Dropout\n",
        "##############################################\n",
        "model_out_dp = Sequential()\n",
        "model_out_dp.add(Embedding(vocab_size, embedding_dim, input_length=maxlen,weights=[embedding_matrix],trainable=False))\n",
        "model_out_dp.add(Bidirectional(LSTM(64)))\n",
        "#output Dropout\n",
        "model_out_dp.add(Dropout(0.5))\n",
        "model_out_dp.add(Dense(class_num, activation='softmax'))\n",
        "\n",
        "# try using different optimizers and different optimizer configs\n",
        "model_out_dp.compile('adam', 'categorical_crossentropy', metrics=['accuracy'])\n",
        "model_out_dp.summary()"
      ],
      "execution_count": 47,
      "outputs": [
        {
          "output_type": "stream",
          "text": [
            "Model: \"sequential_7\"\n",
            "_________________________________________________________________\n",
            "Layer (type)                 Output Shape              Param #   \n",
            "=================================================================\n",
            "embedding_14 (Embedding)     (None, 827, 100)          4491200   \n",
            "_________________________________________________________________\n",
            "bidirectional_1 (Bidirection (None, 128)               84480     \n",
            "_________________________________________________________________\n",
            "dropout_12 (Dropout)         (None, 128)               0         \n",
            "_________________________________________________________________\n",
            "dense_18 (Dense)             (None, 2)                 258       \n",
            "=================================================================\n",
            "Total params: 4,575,938\n",
            "Trainable params: 84,738\n",
            "Non-trainable params: 4,491,200\n",
            "_________________________________________________________________\n"
          ],
          "name": "stdout"
        }
      ]
    },
    {
      "cell_type": "code",
      "metadata": {
        "id": "rOc6P9tzBsfW",
        "outputId": "d5ee431f-4a41-4c2b-d4e0-bb961841e161",
        "colab": {
          "base_uri": "https://localhost:8080/"
        }
      },
      "source": [
        "hist_dp = model_out_dp.fit(X_train, y_train_onehot,\n",
        "                    class_weight = class_weights_d,\n",
        "                    epochs=EPOCH,\n",
        "                    verbose=True,\n",
        "                    validation_data=(X_test, y_test_onehot),\n",
        "                    batch_size=BATCH_SIZE).history"
      ],
      "execution_count": 50,
      "outputs": [
        {
          "output_type": "stream",
          "text": [
            "Epoch 1/15\n",
            "580/580 [==============================] - 49s 84ms/step - loss: 0.1360 - accuracy: 0.9439 - val_loss: 0.1745 - val_accuracy: 0.9341\n",
            "Epoch 2/15\n",
            "580/580 [==============================] - 49s 84ms/step - loss: 0.1284 - accuracy: 0.9471 - val_loss: 0.1854 - val_accuracy: 0.9279\n",
            "Epoch 3/15\n",
            "580/580 [==============================] - 49s 84ms/step - loss: 0.1227 - accuracy: 0.9488 - val_loss: 0.1688 - val_accuracy: 0.9365\n",
            "Epoch 4/15\n",
            "580/580 [==============================] - 48s 84ms/step - loss: 0.1147 - accuracy: 0.9531 - val_loss: 0.2016 - val_accuracy: 0.9292\n",
            "Epoch 5/15\n",
            "580/580 [==============================] - 49s 84ms/step - loss: 0.1220 - accuracy: 0.9489 - val_loss: 0.1523 - val_accuracy: 0.9424\n",
            "Epoch 6/15\n",
            "580/580 [==============================] - 53s 91ms/step - loss: 0.1088 - accuracy: 0.9556 - val_loss: 0.1739 - val_accuracy: 0.9386\n",
            "Epoch 7/15\n",
            "580/580 [==============================] - 53s 92ms/step - loss: 0.1043 - accuracy: 0.9569 - val_loss: 0.1690 - val_accuracy: 0.9406\n",
            "Epoch 8/15\n",
            "580/580 [==============================] - 53s 91ms/step - loss: 0.1020 - accuracy: 0.9572 - val_loss: 0.2016 - val_accuracy: 0.9297\n",
            "Epoch 9/15\n",
            "580/580 [==============================] - 53s 92ms/step - loss: 0.0955 - accuracy: 0.9615 - val_loss: 0.1789 - val_accuracy: 0.9395\n",
            "Epoch 10/15\n",
            "580/580 [==============================] - 53s 91ms/step - loss: 0.0879 - accuracy: 0.9642 - val_loss: 0.1759 - val_accuracy: 0.9471\n",
            "Epoch 11/15\n",
            "580/580 [==============================] - 52s 91ms/step - loss: 0.0904 - accuracy: 0.9612 - val_loss: 0.1679 - val_accuracy: 0.9393\n",
            "Epoch 12/15\n",
            "580/580 [==============================] - 53s 91ms/step - loss: 0.0934 - accuracy: 0.9611 - val_loss: 0.1866 - val_accuracy: 0.9452\n",
            "Epoch 13/15\n",
            "580/580 [==============================] - 53s 91ms/step - loss: 0.0837 - accuracy: 0.9648 - val_loss: 0.1953 - val_accuracy: 0.9431\n",
            "Epoch 14/15\n",
            "580/580 [==============================] - 52s 90ms/step - loss: 0.0738 - accuracy: 0.9695 - val_loss: 0.1933 - val_accuracy: 0.9440\n",
            "Epoch 15/15\n",
            "580/580 [==============================] - 52s 90ms/step - loss: 0.0769 - accuracy: 0.9687 - val_loss: 0.1869 - val_accuracy: 0.9478\n"
          ],
          "name": "stdout"
        }
      ]
    },
    {
      "cell_type": "code",
      "metadata": {
        "id": "kucmrKLAXyu0",
        "outputId": "acd07a49-53c0-4bfb-c965-fc6d0aa9026e",
        "colab": {
          "base_uri": "https://localhost:8080/",
          "height": 420
        }
      },
      "source": [
        "# 30 epochs\n",
        "loss, accuracy = model_out_dp.evaluate(X_train, y_train_onehot, verbose=True)\n",
        "print(\"Training Accuracy: {:.4f}\".format(accuracy))\n",
        "loss, accuracy = model_out_dp.evaluate(X_test, y_test_onehot, verbose=False)\n",
        "print(\"Testing Accuracy:  {:.4f}\".format(accuracy))\n",
        "plot_history(hist_dp)"
      ],
      "execution_count": 53,
      "outputs": [
        {
          "output_type": "stream",
          "text": [
            "2317/2317 [==============================] - 66s 29ms/step - loss: 0.0681 - accuracy: 0.9764\n",
            "Training Accuracy: 0.9764\n",
            "Testing Accuracy:  0.9478\n"
          ],
          "name": "stdout"
        },
        {
          "output_type": "display_data",
          "data": {
            "image/png": "[encoded data removed]",
            "text/plain": [
              "<Figure size 720x360 with 2 Axes>"
            ]
          },
          "metadata": {
            "tags": [],
            "needs_background": "light"
          }
        }
      ]
    },
    {
      "cell_type": "code",
      "metadata": {
        "id": "ap4BfPoObbhb"
      },
      "source": [
        "y_pred = model_out_dp.predict(X_test)\n",
        "matrix = classification_report(np.argmax(y_test_onehot, axis=1), np.argmax(y_pred, axis=1))\n",
        "print(matrix)"
      ],
      "execution_count": null,
      "outputs": []
    },
    {
      "cell_type": "code",
      "metadata": {
        "id": "cwXWAgvybgue",
        "outputId": "bfbfd744-8d92-40d6-ff80-9cf4179e0e96",
        "colab": {
          "base_uri": "https://localhost:8080/",
          "height": 306
        }
      },
      "source": [
        "#recurent_dropout\n",
        "###############################################################################\n",
        "model_rec_dp = Sequential()\n",
        "model_rec_dp.add(Embedding(vocab_size, embedding_dim, input_length=maxlen,weights=[embedding_matrix],trainable=False))\n",
        "#recurent_dropout\n",
        "model_rec_dp.add(Bidirectional(LSTM(64,recurrent_dropout=0.5)))\n",
        "model_rec_dp.add(Dense(3, activation='softmax'))\n",
        "\n",
        "# try using different optimizers and different optimizer configs\n",
        "model_rec_dp.compile('adam', 'categorical_crossentropy', metrics=['accuracy'])\n",
        "model_rec_dp.summary()"
      ],
      "execution_count": null,
      "outputs": [
        {
          "output_type": "stream",
          "text": [
            "WARNING:tensorflow:Layer lstm_1 will not use cuDNN kernel since it doesn't meet the cuDNN kernel criteria. It will use generic GPU kernel as fallback when running on GPU\n",
            "WARNING:tensorflow:Layer lstm_1 will not use cuDNN kernel since it doesn't meet the cuDNN kernel criteria. It will use generic GPU kernel as fallback when running on GPU\n",
            "WARNING:tensorflow:Layer lstm_1 will not use cuDNN kernel since it doesn't meet the cuDNN kernel criteria. It will use generic GPU kernel as fallback when running on GPU\n",
            "Model: \"sequential_5\"\n",
            "_________________________________________________________________\n",
            "Layer (type)                 Output Shape              Param #   \n",
            "=================================================================\n",
            "embedding_11 (Embedding)     (None, 1048, 100)         3310600   \n",
            "_________________________________________________________________\n",
            "bidirectional_1 (Bidirection (None, 128)               84480     \n",
            "_________________________________________________________________\n",
            "dense_9 (Dense)              (None, 3)                 387       \n",
            "=================================================================\n",
            "Total params: 3,395,467\n",
            "Trainable params: 84,867\n",
            "Non-trainable params: 3,310,600\n",
            "_________________________________________________________________\n"
          ],
          "name": "stdout"
        }
      ]
    },
    {
      "cell_type": "code",
      "metadata": {
        "id": "zPGMDPQ9bjrm"
      },
      "source": [
        "#Train the model\n",
        "batch_size = 128\n",
        "\n",
        "print('Train...')\n",
        "hist_rec_dp = model_rec_dp.fit(X_train, y_train_onehot,\n",
        "          batch_size=batch_size,\n",
        "          epochs=10,\n",
        "          validation_data=[X_test, y_test_onehot]).history\n",
        "\n",
        "loss, accuracy = model_rec_dp.evaluate(X_train, y_train_onehot, verbose=True)\n",
        "print(\"Training Accuracy: {:.4f}\".format(accuracy))\n",
        "loss, accuracy = model_rec_dp.evaluate(X_test, y_test_onehot, verbose=False)\n",
        "print(\"Testing Accuracy:  {:.4f}\".format(accuracy))\n",
        "plot_history(hist_rec_dp)"
      ],
      "execution_count": null,
      "outputs": []
    },
    {
      "cell_type": "code",
      "metadata": {
        "id": "KTMDmNSnbq3M",
        "outputId": "693158f2-87f6-4ee9-df97-17b84be97920",
        "colab": {
          "base_uri": "https://localhost:8080/",
          "height": 340
        }
      },
      "source": [
        "#Combain all dropout\n",
        "##############################################################################\n",
        "model_all_dp = Sequential()\n",
        "model_all_dp.add(Embedding(vocab_size, embedding_dim, input_length=maxlen,weights=[embedding_matrix],trainable=False))\n",
        "#Input Dropout and rec Dropout\n",
        "model_all_dp.add(Bidirectional(LSTM(64,dropout=0.5,recurrent_dropout=0.5)))\n",
        "#output Dropout\n",
        "model_all_dp.add(Dropout(0.5))\n",
        "model_all_dp.add(Dense(3, activation='softmax'))\n",
        "# try using different optimizers and different optimizer configs\n",
        "model_all_dp.compile('adam', 'categorical_crossentropy', metrics=['accuracy'])\n",
        "model_all_dp.summary()"
      ],
      "execution_count": null,
      "outputs": [
        {
          "output_type": "stream",
          "text": [
            "WARNING:tensorflow:Layer lstm_2 will not use cuDNN kernel since it doesn't meet the cuDNN kernel criteria. It will use generic GPU kernel as fallback when running on GPU\n",
            "WARNING:tensorflow:Layer lstm_2 will not use cuDNN kernel since it doesn't meet the cuDNN kernel criteria. It will use generic GPU kernel as fallback when running on GPU\n",
            "WARNING:tensorflow:Layer lstm_2 will not use cuDNN kernel since it doesn't meet the cuDNN kernel criteria. It will use generic GPU kernel as fallback when running on GPU\n",
            "Model: \"sequential_6\"\n",
            "_________________________________________________________________\n",
            "Layer (type)                 Output Shape              Param #   \n",
            "=================================================================\n",
            "embedding_12 (Embedding)     (None, 1048, 100)         3310600   \n",
            "_________________________________________________________________\n",
            "bidirectional_2 (Bidirection (None, 128)               84480     \n",
            "_________________________________________________________________\n",
            "dropout_8 (Dropout)          (None, 128)               0         \n",
            "_________________________________________________________________\n",
            "dense_10 (Dense)             (None, 3)                 387       \n",
            "=================================================================\n",
            "Total params: 3,395,467\n",
            "Trainable params: 84,867\n",
            "Non-trainable params: 3,310,600\n",
            "_________________________________________________________________\n"
          ],
          "name": "stdout"
        }
      ]
    },
    {
      "cell_type": "code",
      "metadata": {
        "id": "3YBnGOekbvCs"
      },
      "source": [
        "#Train the model\n",
        "batch_size = 64\n",
        "\n",
        "print('Train...')\n",
        "hist_all_dp = model_all_dp.fit(X_train, y_train_onehot,\n",
        "          batch_size=batch_size,\n",
        "          epochs=10,\n",
        "          validation_data=[X_test, y_test_onehot]).history\n",
        "\n",
        "loss, accuracy = model_all_dp.evaluate(X_train, y_train_onehot, verbose=True)\n",
        "print(\"Training Accuracy: {:.4f}\".format(accuracy))\n",
        "loss, accuracy = model_all_dp.evaluate(X_test, y_test_onehot, verbose=False)\n",
        "print(\"Testing Accuracy:  {:.4f}\".format(accuracy))\n",
        "plot_history(hist_all_dp)"
      ],
      "execution_count": null,
      "outputs": []
    },
    {
      "cell_type": "code",
      "metadata": {
        "id": "n0wzG_I9cB09"
      },
      "source": [
        "#Compare all the models\n",
        "\n",
        "plt.plot(hist_all_dp['loss'], label='all')\n",
        "plt.plot(hist_rec_dp['loss'], label='rec')\n",
        "plt.plot(hist_input_dp['loss'], label='input')\n",
        "plt.plot(hist_out_dp['loss'], label='output')\n",
        "plt.legend(loc='upper right')\n",
        "plt.show()\n",
        "\n",
        "plt.plot(hist_all_dp['val_accuracy'], label='all')\n",
        "plt.plot(hist_rec_dp['val_accuracy'], label='rec')\n",
        "plt.plot(hist_input_dp['val_accuracy'], label='input')\n",
        "plt.plot(hist_out_dp['val_accuracy'], label='output')\n",
        "plt.legend(loc='lower right')\n",
        "plt.show()"
      ],
      "execution_count": null,
      "outputs": []
    },
    {
      "cell_type": "markdown",
      "metadata": {
        "id": "c9h0E_oGJhm8"
      },
      "source": [
        "# Transformer"
      ]
    },
    {
      "cell_type": "code",
      "metadata": {
        "id": "DtFAWvKRJjyv"
      },
      "source": [
        "import tensorflow as tf\n",
        "from tensorflow import keras\n",
        "from tensorflow.keras import layers"
      ],
      "execution_count": 35,
      "outputs": []
    },
    {
      "cell_type": "code",
      "metadata": {
        "id": "z2gWKxRSJl_x"
      },
      "source": [
        "class MultiHeadSelfAttention(layers.Layer):\n",
        "    def __init__(self, embed_dim, num_heads=8):\n",
        "        super(MultiHeadSelfAttention, self).__init__()\n",
        "        self.embed_dim = embed_dim\n",
        "        self.num_heads = num_heads\n",
        "        if embed_dim % num_heads != 0:\n",
        "            raise ValueError(\n",
        "                f\"embedding dimension = {embed_dim} should be divisible by number of heads = {num_heads}\"\n",
        "            )\n",
        "        self.projection_dim = embed_dim // num_heads\n",
        "        self.query_dense = layers.Dense(embed_dim)\n",
        "        self.key_dense = layers.Dense(embed_dim)\n",
        "        self.value_dense = layers.Dense(embed_dim)\n",
        "        self.combine_heads = layers.Dense(embed_dim)\n",
        "\n",
        "    def attention(self, query, key, value):\n",
        "        score = tf.matmul(query, key, transpose_b=True)\n",
        "        dim_key = tf.cast(tf.shape(key)[-1], tf.float32)\n",
        "        scaled_score = score / tf.math.sqrt(dim_key)\n",
        "        weights = tf.nn.softmax(scaled_score, axis=-1)\n",
        "        output = tf.matmul(weights, value)\n",
        "        return output, weights\n",
        "\n",
        "    def separate_heads(self, x, batch_size):\n",
        "        x = tf.reshape(x, (batch_size, -1, self.num_heads, self.projection_dim))\n",
        "        return tf.transpose(x, perm=[0, 2, 1, 3])\n",
        "\n",
        "    def call(self, inputs):\n",
        "        # x.shape = [batch_size, seq_len, embedding_dim]\n",
        "        batch_size = tf.shape(inputs)[0]\n",
        "        query = self.query_dense(inputs)  # (batch_size, seq_len, embed_dim)\n",
        "        key = self.key_dense(inputs)  # (batch_size, seq_len, embed_dim)\n",
        "        value = self.value_dense(inputs)  # (batch_size, seq_len, embed_dim)\n",
        "        query = self.separate_heads(\n",
        "            query, batch_size\n",
        "        )  # (batch_size, num_heads, seq_len, projection_dim)\n",
        "        key = self.separate_heads(\n",
        "            key, batch_size\n",
        "        )  # (batch_size, num_heads, seq_len, projection_dim)\n",
        "        value = self.separate_heads(\n",
        "            value, batch_size\n",
        "        )  # (batch_size, num_heads, seq_len, projection_dim)\n",
        "        attention, weights = self.attention(query, key, value)\n",
        "        attention = tf.transpose(\n",
        "            attention, perm=[0, 2, 1, 3]\n",
        "        )  # (batch_size, seq_len, num_heads, projection_dim)\n",
        "        concat_attention = tf.reshape(\n",
        "            attention, (batch_size, -1, self.embed_dim)\n",
        "        )  # (batch_size, seq_len, embed_dim)\n",
        "        output = self.combine_heads(\n",
        "            concat_attention\n",
        "        )  # (batch_size, seq_len, embed_dim)\n",
        "        return output"
      ],
      "execution_count": 36,
      "outputs": []
    },
    {
      "cell_type": "code",
      "metadata": {
        "id": "oIOisHHXJpY3"
      },
      "source": [
        "class TransformerBlock(layers.Layer):\n",
        "    def __init__(self, embed_dim, num_heads, ff_dim, rate=0.1):\n",
        "        super(TransformerBlock, self).__init__()\n",
        "        self.att = MultiHeadSelfAttention(embed_dim, num_heads)\n",
        "        self.ffn = keras.Sequential(\n",
        "            [layers.Dense(ff_dim, activation=\"relu\"), layers.Dense(embed_dim),]\n",
        "        )\n",
        "        self.layernorm1 = layers.LayerNormalization(epsilon=1e-6)\n",
        "        self.layernorm2 = layers.LayerNormalization(epsilon=1e-6)\n",
        "        self.dropout1 = layers.Dropout(rate)\n",
        "        self.dropout2 = layers.Dropout(rate)\n",
        "\n",
        "    def call(self, inputs, training):\n",
        "        attn_output = self.att(inputs)\n",
        "        attn_output = self.dropout1(attn_output, training=training)\n",
        "        out1 = self.layernorm1(inputs + attn_output)\n",
        "        ffn_output = self.ffn(out1)\n",
        "        ffn_output = self.dropout2(ffn_output, training=training)\n",
        "        return self.layernorm2(out1 + ffn_output)"
      ],
      "execution_count": 37,
      "outputs": []
    },
    {
      "cell_type": "code",
      "metadata": {
        "id": "3zyagKDxJtgi"
      },
      "source": [
        "class TokenAndPositionEmbedding(layers.Layer):\n",
        "    def __init__(self, maxlen, vocab_size, embed_dim):\n",
        "        super(TokenAndPositionEmbedding, self).__init__()\n",
        "        self.token_emb = layers.Embedding(input_dim=vocab_size, output_dim=embed_dim)\n",
        "        self.pos_emb = layers.Embedding(input_dim=maxlen, output_dim=embed_dim)\n",
        "\n",
        "    def call(self, x):\n",
        "        maxlen = tf.shape(x)[-1]\n",
        "        positions = tf.range(start=0, limit=maxlen, delta=1)\n",
        "        positions = self.pos_emb(positions)\n",
        "        x = self.token_emb(x)\n",
        "        return x + positions"
      ],
      "execution_count": 38,
      "outputs": []
    },
    {
      "cell_type": "code",
      "metadata": {
        "id": "a5jx2ZVcJ0lJ"
      },
      "source": [
        "# vocab_size = 20000  # Only consider the top 20k words\n",
        "# vocab_size = len(word_index) + 1\n",
        "# maxlen = 1048  # Only consider the first 200 words of each movie review\n",
        "# maxlen = max(len(x) for x in X_train) # longest text in train set"
      ],
      "execution_count": 20,
      "outputs": []
    },
    {
      "cell_type": "code",
      "metadata": {
        "id": "g9JA2GSiNQuk"
      },
      "source": [
        "y_train_transform = y_train.replace(['Positive','Negative'],[1,0])"
      ],
      "execution_count": 39,
      "outputs": []
    },
    {
      "cell_type": "code",
      "metadata": {
        "id": "x4jBhjEiNt1u"
      },
      "source": [
        "y_test_transform = y_test.replace(['Positive','Negative'],[1,0])"
      ],
      "execution_count": 40,
      "outputs": []
    },
    {
      "cell_type": "code",
      "metadata": {
        "id": "0A2uNofFivXt"
      },
      "source": [
        "embed_dim = 100  # Embedding size for each token\n",
        "num_heads = 2  # Number of attention heads\n",
        "ff_dim = 100  # Hidden layer size in feed forward network inside transformer\n",
        "\n",
        "# Embedding(vocab_size, embedding_dim, input_length=maxlen,weights=[embedding_matrix],trainable=False)\n",
        "\n",
        "inputs = layers.Input(shape=(maxlen,))\n",
        "embedding_layer = TokenAndPositionEmbedding(maxlen, vocab_size, embed_dim)\n",
        "x = embedding_layer(inputs)\n",
        "transformer_block = TransformerBlock(embed_dim, num_heads, ff_dim)\n",
        "x = transformer_block(x)\n",
        "x = layers.GlobalAveragePooling1D()(x)\n",
        "x = layers.Dropout(0.1)(x)\n",
        "x = layers.Dense(20, activation=\"relu\")(x)\n",
        "x = layers.Dropout(0.1)(x)\n",
        "outputs = layers.Dense(3, activation=\"softmax\")(x)\n",
        "\n",
        "model = keras.Model(inputs=inputs, outputs=outputs)"
      ],
      "execution_count": 41,
      "outputs": []
    },
    {
      "cell_type": "code",
      "metadata": {
        "id": "-7FAxPZSi_Xu",
        "outputId": "f2d63fda-c253-49f6-d426-caa1cffad5bf",
        "colab": {
          "base_uri": "https://localhost:8080/"
        }
      },
      "source": [
        "model.compile(\"adam\", \"sparse_categorical_crossentropy\", metrics=[\"accuracy\"])\n",
        "history = model.fit(\n",
        "    X_train, \n",
        "    y_train_transform, \n",
        "    batch_size=BATCH_SIZE, \n",
        "    epochs=EPOCH, \n",
        "    validation_data=(X_test, y_test_transform)\n",
        ")"
      ],
      "execution_count": 42,
      "outputs": [
        {
          "output_type": "stream",
          "text": [
            "Epoch 1/15\n",
            "580/580 [==============================] - 125s 215ms/step - loss: 0.1864 - accuracy: 0.9386 - val_loss: 0.1204 - val_accuracy: 0.9522\n",
            "Epoch 2/15\n",
            "580/580 [==============================] - 126s 218ms/step - loss: 0.1121 - accuracy: 0.9581 - val_loss: 0.1953 - val_accuracy: 0.9361\n",
            "Epoch 3/15\n",
            "580/580 [==============================] - 127s 219ms/step - loss: 0.1002 - accuracy: 0.9621 - val_loss: 0.1215 - val_accuracy: 0.9534\n",
            "Epoch 4/15\n",
            "580/580 [==============================] - 127s 219ms/step - loss: 0.0859 - accuracy: 0.9677 - val_loss: 0.1301 - val_accuracy: 0.9533\n",
            "Epoch 5/15\n",
            "580/580 [==============================] - 128s 220ms/step - loss: 0.0775 - accuracy: 0.9711 - val_loss: 0.1433 - val_accuracy: 0.9563\n",
            "Epoch 6/15\n",
            "580/580 [==============================] - 128s 220ms/step - loss: 0.0701 - accuracy: 0.9736 - val_loss: 0.1419 - val_accuracy: 0.9531\n",
            "Epoch 7/15\n",
            "580/580 [==============================] - 128s 220ms/step - loss: 0.0609 - accuracy: 0.9767 - val_loss: 0.1747 - val_accuracy: 0.9488\n",
            "Epoch 8/15\n",
            "580/580 [==============================] - 128s 220ms/step - loss: 0.0565 - accuracy: 0.9790 - val_loss: 0.1690 - val_accuracy: 0.9543\n",
            "Epoch 9/15\n",
            "580/580 [==============================] - 128s 220ms/step - loss: 0.0526 - accuracy: 0.9800 - val_loss: 0.1914 - val_accuracy: 0.9508\n",
            "Epoch 10/15\n",
            "580/580 [==============================] - 128s 221ms/step - loss: 0.0479 - accuracy: 0.9815 - val_loss: 0.1842 - val_accuracy: 0.9505\n",
            "Epoch 11/15\n",
            "580/580 [==============================] - 128s 221ms/step - loss: 0.0443 - accuracy: 0.9831 - val_loss: 0.2242 - val_accuracy: 0.9540\n",
            "Epoch 12/15\n",
            "580/580 [==============================] - 128s 220ms/step - loss: 0.0413 - accuracy: 0.9842 - val_loss: 0.1972 - val_accuracy: 0.9522\n",
            "Epoch 13/15\n",
            "580/580 [==============================] - 128s 220ms/step - loss: 0.0376 - accuracy: 0.9858 - val_loss: 0.2134 - val_accuracy: 0.9524\n",
            "Epoch 14/15\n",
            "580/580 [==============================] - 128s 221ms/step - loss: 0.0355 - accuracy: 0.9862 - val_loss: 0.2725 - val_accuracy: 0.9472\n",
            "Epoch 15/15\n",
            "580/580 [==============================] - 128s 220ms/step - loss: 0.0322 - accuracy: 0.9877 - val_loss: 0.2687 - val_accuracy: 0.9509\n"
          ],
          "name": "stdout"
        }
      ]
    },
    {
      "cell_type": "code",
      "metadata": {
        "id": "3SFuahkJWVFP"
      },
      "source": [
        "loss, accuracy = model.evaluate(X_train, y_train_transform, verbose=True, batch_size = 64)\n",
        "print(\"Training Accuracy: {:.4f}\".format(accuracy))\n",
        "loss, accuracy = model.evaluate(X_test, y_test_transform, verbose=False, batch_size = 64)\n",
        "print(\"Testing Accuracy:  {:.4f}\".format(accuracy))"
      ],
      "execution_count": null,
      "outputs": []
    },
    {
      "cell_type": "code",
      "metadata": {
        "id": "NZvVqxfjZSOW",
        "outputId": "c2921e18-5c63-4eb9-ff08-1bca48cbf6f1",
        "colab": {
          "base_uri": "https://localhost:8080/",
          "height": 369
        }
      },
      "source": [
        "plot_history(history.history)"
      ],
      "execution_count": 29,
      "outputs": [
        {
          "output_type": "display_data",
          "data": {
            "image/png": "[encoded data removed]",
            "text/plain": [
              "<Figure size 720x360 with 2 Axes>"
            ]
          },
          "metadata": {
            "tags": [],
            "needs_background": "light"
          }
        }
      ]
    },
    {
      "cell_type": "code",
      "metadata": {
        "id": "ZwKiyW8VQNZz"
      },
      "source": [
        "y_pred = model.predict(X_test)\n",
        "y_pred_transform = np.argmax(y_pred, axis=1)"
      ],
      "execution_count": 43,
      "outputs": []
    },
    {
      "cell_type": "code",
      "metadata": {
        "id": "gU_gAFbYRrOc",
        "outputId": "28b8adaa-857f-4d6e-b003-7e2ed563ad0d",
        "colab": {
          "base_uri": "https://localhost:8080/"
        }
      },
      "source": [
        "matrix = classification_report(y_test_transform.to_numpy(), y_pred_transform)\n",
        "print(matrix)"
      ],
      "execution_count": 44,
      "outputs": [
        {
          "output_type": "stream",
          "text": [
            "              precision    recall  f1-score   support\n",
            "\n",
            "           0       0.74      0.62      0.67       673\n",
            "           1       0.97      0.98      0.97      7563\n",
            "\n",
            "    accuracy                           0.95      8236\n",
            "   macro avg       0.85      0.80      0.82      8236\n",
            "weighted avg       0.95      0.95      0.95      8236\n",
            "\n"
          ],
          "name": "stdout"
        }
      ]
    },
    {
      "cell_type": "code",
      "metadata": {
        "id": "WpkItFjenErU",
        "outputId": "e7d4a550-d147-4a79-f31d-e7c8f116a78c",
        "colab": {
          "base_uri": "https://localhost:8080/",
          "height": 375
        }
      },
      "source": [
        "from keras.models import Sequential, save_model, load_model\n",
        "filepath = r'/content/drive/My Drive/ISS/EBA5004/PLP Project/transform_model.hdf5'\n",
        "save_model(model, filepath)\n",
        "\n",
        "# Load the model\n",
        "# model = load_model(filepath, compile = True)\n",
        "\n",
        "# predictions = model.predict(samples_to_predict)\n",
        "# print(predictions)"
      ],
      "execution_count": 55,
      "outputs": [
        {
          "output_type": "error",
          "ename": "NotImplementedError",
          "evalue": "ignored",
          "traceback": [
            "\u001b[0;31m---------------------------------------------------------------------------\u001b[0m",
            "\u001b[0;31mNotImplementedError\u001b[0m                       Traceback (most recent call last)",
            "\u001b[0;32m<ipython-input-55-429b30cf3911>\u001b[0m in \u001b[0;36m<module>\u001b[0;34m()\u001b[0m\n\u001b[1;32m      1\u001b[0m \u001b[0;32mfrom\u001b[0m \u001b[0mkeras\u001b[0m\u001b[0;34m.\u001b[0m\u001b[0mmodels\u001b[0m \u001b[0;32mimport\u001b[0m \u001b[0mSequential\u001b[0m\u001b[0;34m,\u001b[0m \u001b[0msave_model\u001b[0m\u001b[0;34m,\u001b[0m \u001b[0mload_model\u001b[0m\u001b[0;34m\u001b[0m\u001b[0;34m\u001b[0m\u001b[0m\n\u001b[1;32m      2\u001b[0m \u001b[0mfilepath\u001b[0m \u001b[0;34m=\u001b[0m \u001b[0;34mr'/content/drive/My Drive/ISS/EBA5004/PLP Project/transform_model.hdf5'\u001b[0m\u001b[0;34m\u001b[0m\u001b[0;34m\u001b[0m\u001b[0m\n\u001b[0;32m----> 3\u001b[0;31m \u001b[0msave_model\u001b[0m\u001b[0;34m(\u001b[0m\u001b[0mmodel\u001b[0m\u001b[0;34m,\u001b[0m \u001b[0mfilepath\u001b[0m\u001b[0;34m)\u001b[0m\u001b[0;34m\u001b[0m\u001b[0;34m\u001b[0m\u001b[0m\n\u001b[0m\u001b[1;32m      4\u001b[0m \u001b[0;34m\u001b[0m\u001b[0m\n\u001b[1;32m      5\u001b[0m \u001b[0;31m# Load the model\u001b[0m\u001b[0;34m\u001b[0m\u001b[0;34m\u001b[0m\u001b[0;34m\u001b[0m\u001b[0m\n",
            "\u001b[0;32m/usr/local/lib/python3.6/dist-packages/tensorflow/python/keras/saving/save.py\u001b[0m in \u001b[0;36msave_model\u001b[0;34m(model, filepath, overwrite, include_optimizer, save_format, signatures, options)\u001b[0m\n\u001b[1;32m    129\u001b[0m           'or using `save_weights`.')\n\u001b[1;32m    130\u001b[0m     hdf5_format.save_model_to_hdf5(\n\u001b[0;32m--> 131\u001b[0;31m         model, filepath, overwrite, include_optimizer)\n\u001b[0m\u001b[1;32m    132\u001b[0m   \u001b[0;32melse\u001b[0m\u001b[0;34m:\u001b[0m\u001b[0;34m\u001b[0m\u001b[0;34m\u001b[0m\u001b[0m\n\u001b[1;32m    133\u001b[0m     saved_model_save.save(model, filepath, overwrite, include_optimizer,\n",
            "\u001b[0;32m/usr/local/lib/python3.6/dist-packages/tensorflow/python/keras/saving/hdf5_format.py\u001b[0m in \u001b[0;36msave_model_to_hdf5\u001b[0;34m(model, filepath, overwrite, include_optimizer)\u001b[0m\n\u001b[1;32m    107\u001b[0m \u001b[0;34m\u001b[0m\u001b[0m\n\u001b[1;32m    108\u001b[0m   \u001b[0;32mtry\u001b[0m\u001b[0;34m:\u001b[0m\u001b[0;34m\u001b[0m\u001b[0;34m\u001b[0m\u001b[0m\n\u001b[0;32m--> 109\u001b[0;31m     \u001b[0mmodel_metadata\u001b[0m \u001b[0;34m=\u001b[0m \u001b[0msaving_utils\u001b[0m\u001b[0;34m.\u001b[0m\u001b[0mmodel_metadata\u001b[0m\u001b[0;34m(\u001b[0m\u001b[0mmodel\u001b[0m\u001b[0;34m,\u001b[0m \u001b[0minclude_optimizer\u001b[0m\u001b[0;34m)\u001b[0m\u001b[0;34m\u001b[0m\u001b[0;34m\u001b[0m\u001b[0m\n\u001b[0m\u001b[1;32m    110\u001b[0m     \u001b[0;32mfor\u001b[0m \u001b[0mk\u001b[0m\u001b[0;34m,\u001b[0m \u001b[0mv\u001b[0m \u001b[0;32min\u001b[0m \u001b[0mmodel_metadata\u001b[0m\u001b[0;34m.\u001b[0m\u001b[0mitems\u001b[0m\u001b[0;34m(\u001b[0m\u001b[0;34m)\u001b[0m\u001b[0;34m:\u001b[0m\u001b[0;34m\u001b[0m\u001b[0;34m\u001b[0m\u001b[0m\n\u001b[1;32m    111\u001b[0m       \u001b[0;32mif\u001b[0m \u001b[0misinstance\u001b[0m\u001b[0;34m(\u001b[0m\u001b[0mv\u001b[0m\u001b[0;34m,\u001b[0m \u001b[0;34m(\u001b[0m\u001b[0mdict\u001b[0m\u001b[0;34m,\u001b[0m \u001b[0mlist\u001b[0m\u001b[0;34m,\u001b[0m \u001b[0mtuple\u001b[0m\u001b[0;34m)\u001b[0m\u001b[0;34m)\u001b[0m\u001b[0;34m:\u001b[0m\u001b[0;34m\u001b[0m\u001b[0;34m\u001b[0m\u001b[0m\n",
            "\u001b[0;32m/usr/local/lib/python3.6/dist-packages/tensorflow/python/keras/saving/saving_utils.py\u001b[0m in \u001b[0;36mmodel_metadata\u001b[0;34m(model, include_optimizer, require_config)\u001b[0m\n\u001b[1;32m    155\u001b[0m   \u001b[0;32mexcept\u001b[0m \u001b[0mNotImplementedError\u001b[0m \u001b[0;32mas\u001b[0m \u001b[0me\u001b[0m\u001b[0;34m:\u001b[0m\u001b[0;34m\u001b[0m\u001b[0;34m\u001b[0m\u001b[0m\n\u001b[1;32m    156\u001b[0m     \u001b[0;32mif\u001b[0m \u001b[0mrequire_config\u001b[0m\u001b[0;34m:\u001b[0m\u001b[0;34m\u001b[0m\u001b[0;34m\u001b[0m\u001b[0m\n\u001b[0;32m--> 157\u001b[0;31m       \u001b[0;32mraise\u001b[0m \u001b[0me\u001b[0m\u001b[0;34m\u001b[0m\u001b[0;34m\u001b[0m\u001b[0m\n\u001b[0m\u001b[1;32m    158\u001b[0m \u001b[0;34m\u001b[0m\u001b[0m\n\u001b[1;32m    159\u001b[0m   metadata = dict(\n",
            "\u001b[0;32m/usr/local/lib/python3.6/dist-packages/tensorflow/python/keras/saving/saving_utils.py\u001b[0m in \u001b[0;36mmodel_metadata\u001b[0;34m(model, include_optimizer, require_config)\u001b[0m\n\u001b[1;32m    152\u001b[0m   \u001b[0mmodel_config\u001b[0m \u001b[0;34m=\u001b[0m \u001b[0;34m{\u001b[0m\u001b[0;34m'class_name'\u001b[0m\u001b[0;34m:\u001b[0m \u001b[0mmodel\u001b[0m\u001b[0;34m.\u001b[0m\u001b[0m__class__\u001b[0m\u001b[0;34m.\u001b[0m\u001b[0m__name__\u001b[0m\u001b[0;34m}\u001b[0m\u001b[0;34m\u001b[0m\u001b[0;34m\u001b[0m\u001b[0m\n\u001b[1;32m    153\u001b[0m   \u001b[0;32mtry\u001b[0m\u001b[0;34m:\u001b[0m\u001b[0;34m\u001b[0m\u001b[0;34m\u001b[0m\u001b[0m\n\u001b[0;32m--> 154\u001b[0;31m     \u001b[0mmodel_config\u001b[0m\u001b[0;34m[\u001b[0m\u001b[0;34m'config'\u001b[0m\u001b[0;34m]\u001b[0m \u001b[0;34m=\u001b[0m \u001b[0mmodel\u001b[0m\u001b[0;34m.\u001b[0m\u001b[0mget_config\u001b[0m\u001b[0;34m(\u001b[0m\u001b[0;34m)\u001b[0m\u001b[0;34m\u001b[0m\u001b[0;34m\u001b[0m\u001b[0m\n\u001b[0m\u001b[1;32m    155\u001b[0m   \u001b[0;32mexcept\u001b[0m \u001b[0mNotImplementedError\u001b[0m \u001b[0;32mas\u001b[0m \u001b[0me\u001b[0m\u001b[0;34m:\u001b[0m\u001b[0;34m\u001b[0m\u001b[0;34m\u001b[0m\u001b[0m\n\u001b[1;32m    156\u001b[0m     \u001b[0;32mif\u001b[0m \u001b[0mrequire_config\u001b[0m\u001b[0;34m:\u001b[0m\u001b[0;34m\u001b[0m\u001b[0;34m\u001b[0m\u001b[0m\n",
            "\u001b[0;32m/usr/local/lib/python3.6/dist-packages/tensorflow/python/keras/engine/functional.py\u001b[0m in \u001b[0;36mget_config\u001b[0;34m(self)\u001b[0m\n\u001b[1;32m    596\u001b[0m \u001b[0;34m\u001b[0m\u001b[0m\n\u001b[1;32m    597\u001b[0m   \u001b[0;32mdef\u001b[0m \u001b[0mget_config\u001b[0m\u001b[0;34m(\u001b[0m\u001b[0mself\u001b[0m\u001b[0;34m)\u001b[0m\u001b[0;34m:\u001b[0m\u001b[0;34m\u001b[0m\u001b[0;34m\u001b[0m\u001b[0m\n\u001b[0;32m--> 598\u001b[0;31m     \u001b[0;32mreturn\u001b[0m \u001b[0mcopy\u001b[0m\u001b[0;34m.\u001b[0m\u001b[0mdeepcopy\u001b[0m\u001b[0;34m(\u001b[0m\u001b[0mget_network_config\u001b[0m\u001b[0;34m(\u001b[0m\u001b[0mself\u001b[0m\u001b[0;34m)\u001b[0m\u001b[0;34m)\u001b[0m\u001b[0;34m\u001b[0m\u001b[0;34m\u001b[0m\u001b[0m\n\u001b[0m\u001b[1;32m    599\u001b[0m \u001b[0;34m\u001b[0m\u001b[0m\n\u001b[1;32m    600\u001b[0m   \u001b[0;34m@\u001b[0m\u001b[0mclassmethod\u001b[0m\u001b[0;34m\u001b[0m\u001b[0;34m\u001b[0m\u001b[0m\n",
            "\u001b[0;32m/usr/local/lib/python3.6/dist-packages/tensorflow/python/keras/engine/functional.py\u001b[0m in \u001b[0;36mget_network_config\u001b[0;34m(network, serialize_layer_fn)\u001b[0m\n\u001b[1;32m   1276\u001b[0m         \u001b[0mfiltered_inbound_nodes\u001b[0m\u001b[0;34m.\u001b[0m\u001b[0mappend\u001b[0m\u001b[0;34m(\u001b[0m\u001b[0mnode_data\u001b[0m\u001b[0;34m)\u001b[0m\u001b[0;34m\u001b[0m\u001b[0;34m\u001b[0m\u001b[0m\n\u001b[1;32m   1277\u001b[0m \u001b[0;34m\u001b[0m\u001b[0m\n\u001b[0;32m-> 1278\u001b[0;31m     \u001b[0mlayer_config\u001b[0m \u001b[0;34m=\u001b[0m \u001b[0mserialize_layer_fn\u001b[0m\u001b[0;34m(\u001b[0m\u001b[0mlayer\u001b[0m\u001b[0;34m)\u001b[0m\u001b[0;34m\u001b[0m\u001b[0;34m\u001b[0m\u001b[0m\n\u001b[0m\u001b[1;32m   1279\u001b[0m     \u001b[0mlayer_config\u001b[0m\u001b[0;34m[\u001b[0m\u001b[0;34m'name'\u001b[0m\u001b[0;34m]\u001b[0m \u001b[0;34m=\u001b[0m \u001b[0mlayer\u001b[0m\u001b[0;34m.\u001b[0m\u001b[0mname\u001b[0m\u001b[0;34m\u001b[0m\u001b[0;34m\u001b[0m\u001b[0m\n\u001b[1;32m   1280\u001b[0m     \u001b[0mlayer_config\u001b[0m\u001b[0;34m[\u001b[0m\u001b[0;34m'inbound_nodes'\u001b[0m\u001b[0;34m]\u001b[0m \u001b[0;34m=\u001b[0m \u001b[0mfiltered_inbound_nodes\u001b[0m\u001b[0;34m\u001b[0m\u001b[0;34m\u001b[0m\u001b[0m\n",
            "\u001b[0;32m/usr/local/lib/python3.6/dist-packages/tensorflow/python/keras/utils/generic_utils.py\u001b[0m in \u001b[0;36mserialize_keras_object\u001b[0;34m(instance)\u001b[0m\n\u001b[1;32m    248\u001b[0m         return serialize_keras_class_and_config(\n\u001b[1;32m    249\u001b[0m             name, {_LAYER_UNDEFINED_CONFIG_KEY: True})\n\u001b[0;32m--> 250\u001b[0;31m       \u001b[0;32mraise\u001b[0m \u001b[0me\u001b[0m\u001b[0;34m\u001b[0m\u001b[0;34m\u001b[0m\u001b[0m\n\u001b[0m\u001b[1;32m    251\u001b[0m     \u001b[0mserialization_config\u001b[0m \u001b[0;34m=\u001b[0m \u001b[0;34m{\u001b[0m\u001b[0;34m}\u001b[0m\u001b[0;34m\u001b[0m\u001b[0;34m\u001b[0m\u001b[0m\n\u001b[1;32m    252\u001b[0m     \u001b[0;32mfor\u001b[0m \u001b[0mkey\u001b[0m\u001b[0;34m,\u001b[0m \u001b[0mitem\u001b[0m \u001b[0;32min\u001b[0m \u001b[0mconfig\u001b[0m\u001b[0;34m.\u001b[0m\u001b[0mitems\u001b[0m\u001b[0;34m(\u001b[0m\u001b[0;34m)\u001b[0m\u001b[0;34m:\u001b[0m\u001b[0;34m\u001b[0m\u001b[0;34m\u001b[0m\u001b[0m\n",
            "\u001b[0;32m/usr/local/lib/python3.6/dist-packages/tensorflow/python/keras/utils/generic_utils.py\u001b[0m in \u001b[0;36mserialize_keras_object\u001b[0;34m(instance)\u001b[0m\n\u001b[1;32m    243\u001b[0m     \u001b[0mname\u001b[0m \u001b[0;34m=\u001b[0m \u001b[0mget_registered_name\u001b[0m\u001b[0;34m(\u001b[0m\u001b[0minstance\u001b[0m\u001b[0;34m.\u001b[0m\u001b[0m__class__\u001b[0m\u001b[0;34m)\u001b[0m\u001b[0;34m\u001b[0m\u001b[0;34m\u001b[0m\u001b[0m\n\u001b[1;32m    244\u001b[0m     \u001b[0;32mtry\u001b[0m\u001b[0;34m:\u001b[0m\u001b[0;34m\u001b[0m\u001b[0;34m\u001b[0m\u001b[0m\n\u001b[0;32m--> 245\u001b[0;31m       \u001b[0mconfig\u001b[0m \u001b[0;34m=\u001b[0m \u001b[0minstance\u001b[0m\u001b[0;34m.\u001b[0m\u001b[0mget_config\u001b[0m\u001b[0;34m(\u001b[0m\u001b[0;34m)\u001b[0m\u001b[0;34m\u001b[0m\u001b[0;34m\u001b[0m\u001b[0m\n\u001b[0m\u001b[1;32m    246\u001b[0m     \u001b[0;32mexcept\u001b[0m \u001b[0mNotImplementedError\u001b[0m \u001b[0;32mas\u001b[0m \u001b[0me\u001b[0m\u001b[0;34m:\u001b[0m\u001b[0;34m\u001b[0m\u001b[0;34m\u001b[0m\u001b[0m\n\u001b[1;32m    247\u001b[0m       \u001b[0;32mif\u001b[0m \u001b[0m_SKIP_FAILED_SERIALIZATION\u001b[0m\u001b[0;34m:\u001b[0m\u001b[0;34m\u001b[0m\u001b[0;34m\u001b[0m\u001b[0m\n",
            "\u001b[0;32m/usr/local/lib/python3.6/dist-packages/tensorflow/python/keras/engine/base_layer.py\u001b[0m in \u001b[0;36mget_config\u001b[0;34m(self)\u001b[0m\n\u001b[1;32m    676\u001b[0m       raise NotImplementedError('Layer %s has arguments in `__init__` and '\n\u001b[1;32m    677\u001b[0m                                 \u001b[0;34m'therefore must override `get_config`.'\u001b[0m \u001b[0;34m%\u001b[0m\u001b[0;34m\u001b[0m\u001b[0;34m\u001b[0m\u001b[0m\n\u001b[0;32m--> 678\u001b[0;31m                                 self.__class__.__name__)\n\u001b[0m\u001b[1;32m    679\u001b[0m     \u001b[0;32mreturn\u001b[0m \u001b[0mconfig\u001b[0m\u001b[0;34m\u001b[0m\u001b[0;34m\u001b[0m\u001b[0m\n\u001b[1;32m    680\u001b[0m \u001b[0;34m\u001b[0m\u001b[0m\n",
            "\u001b[0;31mNotImplementedError\u001b[0m: Layer TokenAndPositionEmbedding has arguments in `__init__` and therefore must override `get_config`."
          ]
        }
      ]
    },
    {
      "cell_type": "code",
      "metadata": {
        "id": "VJRqqLRYxqn_",
        "outputId": "61847216-a68e-4a57-c6cf-e09964be4940",
        "colab": {
          "base_uri": "https://localhost:8080/"
        }
      },
      "source": [
        "# Load the model\n",
        "model = load_model(filepath, compile = True)\n",
        "\n",
        "y_pred = model.predict(X_test)\n",
        "matrix = classification_report(np.argmax(y_test_onehot, axis=1), np.argmax(y_pred, axis=1))\n",
        "print(matrix)\n",
        "# print(predictions)"
      ],
      "execution_count": 36,
      "outputs": [
        {
          "output_type": "stream",
          "text": [
            "              precision    recall  f1-score   support\n",
            "\n",
            "           0       0.59      0.56      0.57       673\n",
            "           1       0.37      0.61      0.46      1511\n",
            "           2       0.93      0.81      0.87      7562\n",
            "\n",
            "    accuracy                           0.77      9746\n",
            "   macro avg       0.63      0.66      0.64      9746\n",
            "weighted avg       0.82      0.77      0.78      9746\n",
            "\n"
          ],
          "name": "stdout"
        }
      ]
    },
    {
      "cell_type": "code",
      "metadata": {
        "id": "hJgvKpFdx16U"
      },
      "source": [
        "y_pred = model.predict(\"i am happy\")\n",
        "# need process and tokenization"
      ],
      "execution_count": null,
      "outputs": []
    }
  ]
}