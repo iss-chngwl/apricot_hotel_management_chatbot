{
  "nbformat": 4,
  "nbformat_minor": 0,
  "metadata": {
    "colab": {
      "name": "[GRI Prediction] BERT",
      "provenance": [],
      "collapsed_sections": []
    },
    "kernelspec": {
      "name": "python3",
      "display_name": "Python 3"
    },
    "accelerator": "GPU"
  },
  "cells": [
    {
      "cell_type": "code",
      "metadata": {
        "id": "XjjxrjCCDu7w",
        "outputId": "f463bde7-010e-492f-d276-4b22e27e91d6",
        "colab": {
          "base_uri": "https://localhost:8080/",
          "height": 34
        }
      },
      "source": [
        "from google.colab import drive\n",
        "drive.mount('/content/drive')"
      ],
      "execution_count": null,
      "outputs": [
        {
          "output_type": "stream",
          "text": [
            "Mounted at /content/drive\n"
          ],
          "name": "stdout"
        }
      ]
    },
    {
      "cell_type": "code",
      "metadata": {
        "id": "pDG1RTfcnAWb",
        "outputId": "66e32d53-53e9-4872-ef1a-6e81b623a2e8",
        "colab": {
          "base_uri": "https://localhost:8080/",
          "height": 1000
        }
      },
      "source": [
        "!pip install tensorflow==2.1.0"
      ],
      "execution_count": null,
      "outputs": [
        {
          "output_type": "stream",
          "text": [
            "Collecting tensorflow==2.1.0\n",
            "\u001b[?25l  Downloading https://files.pythonhosted.org/packages/85/d4/c0cd1057b331bc38b65478302114194bd8e1b9c2bbc06e300935c0e93d90/tensorflow-2.1.0-cp36-cp36m-manylinux2010_x86_64.whl (421.8MB)\n",
            "\u001b[K     |████████████████████████████████| 421.8MB 23kB/s \n",
            "\u001b[?25hRequirement already satisfied: six>=1.12.0 in /usr/local/lib/python3.6/dist-packages (from tensorflow==2.1.0) (1.15.0)\n",
            "Requirement already satisfied: keras-preprocessing>=1.1.0 in /usr/local/lib/python3.6/dist-packages (from tensorflow==2.1.0) (1.1.2)\n",
            "Requirement already satisfied: scipy==1.4.1; python_version >= \"3\" in /usr/local/lib/python3.6/dist-packages (from tensorflow==2.1.0) (1.4.1)\n",
            "Requirement already satisfied: termcolor>=1.1.0 in /usr/local/lib/python3.6/dist-packages (from tensorflow==2.1.0) (1.1.0)\n",
            "\u001b[33mWARNING: Retrying (Retry(total=4, connect=None, read=None, redirect=None, status=None)) after connection broken by 'ProtocolError('Connection aborted.', ConnectionResetError(104, 'Connection reset by peer'))': /simple/tensorboard/\u001b[0m\n",
            "Collecting tensorboard<2.2.0,>=2.1.0\n",
            "\u001b[?25l  Downloading https://files.pythonhosted.org/packages/d9/41/bbf49b61370e4f4d245d4c6051dfb6db80cec672605c91b1652ac8cc3d38/tensorboard-2.1.1-py3-none-any.whl (3.8MB)\n",
            "\u001b[K     |████████████████████████████████| 3.9MB 51.2MB/s \n",
            "\u001b[?25hRequirement already satisfied: protobuf>=3.8.0 in /usr/local/lib/python3.6/dist-packages (from tensorflow==2.1.0) (3.12.4)\n",
            "Requirement already satisfied: wheel>=0.26; python_version >= \"3\" in /usr/local/lib/python3.6/dist-packages (from tensorflow==2.1.0) (0.35.1)\n",
            "Requirement already satisfied: astor>=0.6.0 in /usr/local/lib/python3.6/dist-packages (from tensorflow==2.1.0) (0.8.1)\n",
            "Requirement already satisfied: grpcio>=1.8.6 in /usr/local/lib/python3.6/dist-packages (from tensorflow==2.1.0) (1.32.0)\n",
            "Collecting gast==0.2.2\n",
            "  Downloading https://files.pythonhosted.org/packages/4e/35/11749bf99b2d4e3cceb4d55ca22590b0d7c2c62b9de38ac4a4a7f4687421/gast-0.2.2.tar.gz\n",
            "Collecting tensorflow-estimator<2.2.0,>=2.1.0rc0\n",
            "\u001b[?25l  Downloading https://files.pythonhosted.org/packages/18/90/b77c328a1304437ab1310b463e533fa7689f4bfc41549593056d812fab8e/tensorflow_estimator-2.1.0-py2.py3-none-any.whl (448kB)\n",
            "\u001b[K     |████████████████████████████████| 450kB 42.7MB/s \n",
            "\u001b[?25hRequirement already satisfied: wrapt>=1.11.1 in /usr/local/lib/python3.6/dist-packages (from tensorflow==2.1.0) (1.12.1)\n",
            "Collecting keras-applications>=1.0.8\n",
            "\u001b[?25l  Downloading https://files.pythonhosted.org/packages/71/e3/19762fdfc62877ae9102edf6342d71b28fbfd9dea3d2f96a882ce099b03f/Keras_Applications-1.0.8-py3-none-any.whl (50kB)\n",
            "\u001b[K     |████████████████████████████████| 51kB 9.0MB/s \n",
            "\u001b[?25hRequirement already satisfied: absl-py>=0.7.0 in /usr/local/lib/python3.6/dist-packages (from tensorflow==2.1.0) (0.10.0)\n",
            "Requirement already satisfied: numpy<2.0,>=1.16.0 in /usr/local/lib/python3.6/dist-packages (from tensorflow==2.1.0) (1.18.5)\n",
            "Requirement already satisfied: opt-einsum>=2.3.2 in /usr/local/lib/python3.6/dist-packages (from tensorflow==2.1.0) (3.3.0)\n",
            "Requirement already satisfied: google-pasta>=0.1.6 in /usr/local/lib/python3.6/dist-packages (from tensorflow==2.1.0) (0.2.0)\n",
            "Requirement already satisfied: setuptools>=41.0.0 in /usr/local/lib/python3.6/dist-packages (from tensorboard<2.2.0,>=2.1.0->tensorflow==2.1.0) (50.3.0)\n",
            "Requirement already satisfied: requests<3,>=2.21.0 in /usr/local/lib/python3.6/dist-packages (from tensorboard<2.2.0,>=2.1.0->tensorflow==2.1.0) (2.23.0)\n",
            "Requirement already satisfied: werkzeug>=0.11.15 in /usr/local/lib/python3.6/dist-packages (from tensorboard<2.2.0,>=2.1.0->tensorflow==2.1.0) (1.0.1)\n",
            "Requirement already satisfied: google-auth<2,>=1.6.3 in /usr/local/lib/python3.6/dist-packages (from tensorboard<2.2.0,>=2.1.0->tensorflow==2.1.0) (1.17.2)\n",
            "Requirement already satisfied: markdown>=2.6.8 in /usr/local/lib/python3.6/dist-packages (from tensorboard<2.2.0,>=2.1.0->tensorflow==2.1.0) (3.2.2)\n",
            "Requirement already satisfied: google-auth-oauthlib<0.5,>=0.4.1 in /usr/local/lib/python3.6/dist-packages (from tensorboard<2.2.0,>=2.1.0->tensorflow==2.1.0) (0.4.1)\n",
            "Requirement already satisfied: h5py in /usr/local/lib/python3.6/dist-packages (from keras-applications>=1.0.8->tensorflow==2.1.0) (2.10.0)\n",
            "Requirement already satisfied: chardet<4,>=3.0.2 in /usr/local/lib/python3.6/dist-packages (from requests<3,>=2.21.0->tensorboard<2.2.0,>=2.1.0->tensorflow==2.1.0) (3.0.4)\n",
            "Requirement already satisfied: urllib3!=1.25.0,!=1.25.1,<1.26,>=1.21.1 in /usr/local/lib/python3.6/dist-packages (from requests<3,>=2.21.0->tensorboard<2.2.0,>=2.1.0->tensorflow==2.1.0) (1.24.3)\n",
            "Requirement already satisfied: certifi>=2017.4.17 in /usr/local/lib/python3.6/dist-packages (from requests<3,>=2.21.0->tensorboard<2.2.0,>=2.1.0->tensorflow==2.1.0) (2020.6.20)\n",
            "Requirement already satisfied: idna<3,>=2.5 in /usr/local/lib/python3.6/dist-packages (from requests<3,>=2.21.0->tensorboard<2.2.0,>=2.1.0->tensorflow==2.1.0) (2.10)\n",
            "Requirement already satisfied: rsa<5,>=3.1.4; python_version >= \"3\" in /usr/local/lib/python3.6/dist-packages (from google-auth<2,>=1.6.3->tensorboard<2.2.0,>=2.1.0->tensorflow==2.1.0) (4.6)\n",
            "Requirement already satisfied: cachetools<5.0,>=2.0.0 in /usr/local/lib/python3.6/dist-packages (from google-auth<2,>=1.6.3->tensorboard<2.2.0,>=2.1.0->tensorflow==2.1.0) (4.1.1)\n",
            "Requirement already satisfied: pyasn1-modules>=0.2.1 in /usr/local/lib/python3.6/dist-packages (from google-auth<2,>=1.6.3->tensorboard<2.2.0,>=2.1.0->tensorflow==2.1.0) (0.2.8)\n",
            "Requirement already satisfied: importlib-metadata; python_version < \"3.8\" in /usr/local/lib/python3.6/dist-packages (from markdown>=2.6.8->tensorboard<2.2.0,>=2.1.0->tensorflow==2.1.0) (2.0.0)\n",
            "Requirement already satisfied: requests-oauthlib>=0.7.0 in /usr/local/lib/python3.6/dist-packages (from google-auth-oauthlib<0.5,>=0.4.1->tensorboard<2.2.0,>=2.1.0->tensorflow==2.1.0) (1.3.0)\n",
            "Requirement already satisfied: pyasn1>=0.1.3 in /usr/local/lib/python3.6/dist-packages (from rsa<5,>=3.1.4; python_version >= \"3\"->google-auth<2,>=1.6.3->tensorboard<2.2.0,>=2.1.0->tensorflow==2.1.0) (0.4.8)\n",
            "Requirement already satisfied: zipp>=0.5 in /usr/local/lib/python3.6/dist-packages (from importlib-metadata; python_version < \"3.8\"->markdown>=2.6.8->tensorboard<2.2.0,>=2.1.0->tensorflow==2.1.0) (3.2.0)\n",
            "Requirement already satisfied: oauthlib>=3.0.0 in /usr/local/lib/python3.6/dist-packages (from requests-oauthlib>=0.7.0->google-auth-oauthlib<0.5,>=0.4.1->tensorboard<2.2.0,>=2.1.0->tensorflow==2.1.0) (3.1.0)\n",
            "Building wheels for collected packages: gast\n",
            "  Building wheel for gast (setup.py) ... \u001b[?25l\u001b[?25hdone\n",
            "  Created wheel for gast: filename=gast-0.2.2-cp36-none-any.whl size=7542 sha256=5f0b597c8ea01a75fbadc90578a5d2a63ce3cd89d1610b590e9c6d23d471478e\n",
            "  Stored in directory: /root/.cache/pip/wheels/5c/2e/7e/a1d4d4fcebe6c381f378ce7743a3ced3699feb89bcfbdadadd\n",
            "Successfully built gast\n",
            "\u001b[31mERROR: tensorflow-probability 0.11.0 has requirement gast>=0.3.2, but you'll have gast 0.2.2 which is incompatible.\u001b[0m\n",
            "Installing collected packages: tensorboard, gast, tensorflow-estimator, keras-applications, tensorflow\n",
            "  Found existing installation: tensorboard 2.3.0\n",
            "    Uninstalling tensorboard-2.3.0:\n",
            "      Successfully uninstalled tensorboard-2.3.0\n",
            "  Found existing installation: gast 0.3.3\n",
            "    Uninstalling gast-0.3.3:\n",
            "      Successfully uninstalled gast-0.3.3\n",
            "  Found existing installation: tensorflow-estimator 2.3.0\n",
            "    Uninstalling tensorflow-estimator-2.3.0:\n",
            "      Successfully uninstalled tensorflow-estimator-2.3.0\n",
            "  Found existing installation: tensorflow 2.3.0\n",
            "    Uninstalling tensorflow-2.3.0:\n",
            "      Successfully uninstalled tensorflow-2.3.0\n",
            "Successfully installed gast-0.2.2 keras-applications-1.0.8 tensorboard-2.1.1 tensorflow-2.1.0 tensorflow-estimator-2.1.0\n"
          ],
          "name": "stdout"
        }
      ]
    },
    {
      "cell_type": "code",
      "metadata": {
        "id": "i41gcetcnD47",
        "outputId": "cdcda806-124f-4c71-bcfd-c3e5cec5d5cc",
        "colab": {
          "base_uri": "https://localhost:8080/",
          "height": 272
        }
      },
      "source": [
        "!pip install keras==2.3.1"
      ],
      "execution_count": null,
      "outputs": [
        {
          "output_type": "stream",
          "text": [
            "Collecting keras==2.3.1\n",
            "\u001b[?25l  Downloading https://files.pythonhosted.org/packages/ad/fd/6bfe87920d7f4fd475acd28500a42482b6b84479832bdc0fe9e589a60ceb/Keras-2.3.1-py2.py3-none-any.whl (377kB)\n",
            "\r\u001b[K     |▉                               | 10kB 19.5MB/s eta 0:00:01\r\u001b[K     |█▊                              | 20kB 8.7MB/s eta 0:00:01\r\u001b[K     |██▋                             | 30kB 9.3MB/s eta 0:00:01\r\u001b[K     |███▌                            | 40kB 8.7MB/s eta 0:00:01\r\u001b[K     |████▍                           | 51kB 9.0MB/s eta 0:00:01\r\u001b[K     |█████▏                          | 61kB 8.6MB/s eta 0:00:01\r\u001b[K     |██████                          | 71kB 8.6MB/s eta 0:00:01\r\u001b[K     |███████                         | 81kB 8.2MB/s eta 0:00:01\r\u001b[K     |███████▉                        | 92kB 8.4MB/s eta 0:00:01\r\u001b[K     |████████▊                       | 102kB 8.7MB/s eta 0:00:01\r\u001b[K     |█████████▌                      | 112kB 8.7MB/s eta 0:00:01\r\u001b[K     |██████████▍                     | 122kB 8.7MB/s eta 0:00:01\r\u001b[K     |███████████▎                    | 133kB 8.7MB/s eta 0:00:01\r\u001b[K     |████████████▏                   | 143kB 8.7MB/s eta 0:00:01\r\u001b[K     |█████████████                   | 153kB 8.7MB/s eta 0:00:01\r\u001b[K     |█████████████▉                  | 163kB 8.7MB/s eta 0:00:01\r\u001b[K     |██████████████▊                 | 174kB 8.7MB/s eta 0:00:01\r\u001b[K     |███████████████▋                | 184kB 8.7MB/s eta 0:00:01\r\u001b[K     |████████████████▌               | 194kB 8.7MB/s eta 0:00:01\r\u001b[K     |█████████████████▍              | 204kB 8.7MB/s eta 0:00:01\r\u001b[K     |██████████████████▏             | 215kB 8.7MB/s eta 0:00:01\r\u001b[K     |███████████████████             | 225kB 8.7MB/s eta 0:00:01\r\u001b[K     |████████████████████            | 235kB 8.7MB/s eta 0:00:01\r\u001b[K     |████████████████████▉           | 245kB 8.7MB/s eta 0:00:01\r\u001b[K     |█████████████████████▊          | 256kB 8.7MB/s eta 0:00:01\r\u001b[K     |██████████████████████▌         | 266kB 8.7MB/s eta 0:00:01\r\u001b[K     |███████████████████████▍        | 276kB 8.7MB/s eta 0:00:01\r\u001b[K     |████████████████████████▎       | 286kB 8.7MB/s eta 0:00:01\r\u001b[K     |█████████████████████████▏      | 296kB 8.7MB/s eta 0:00:01\r\u001b[K     |██████████████████████████      | 307kB 8.7MB/s eta 0:00:01\r\u001b[K     |██████████████████████████▉     | 317kB 8.7MB/s eta 0:00:01\r\u001b[K     |███████████████████████████▊    | 327kB 8.7MB/s eta 0:00:01\r\u001b[K     |████████████████████████████▋   | 337kB 8.7MB/s eta 0:00:01\r\u001b[K     |█████████████████████████████▌  | 348kB 8.7MB/s eta 0:00:01\r\u001b[K     |██████████████████████████████▍ | 358kB 8.7MB/s eta 0:00:01\r\u001b[K     |███████████████████████████████▏| 368kB 8.7MB/s eta 0:00:01\r\u001b[K     |████████████████████████████████| 378kB 8.7MB/s \n",
            "\u001b[?25hRequirement already satisfied: scipy>=0.14 in /usr/local/lib/python3.6/dist-packages (from keras==2.3.1) (1.4.1)\n",
            "Requirement already satisfied: six>=1.9.0 in /usr/local/lib/python3.6/dist-packages (from keras==2.3.1) (1.15.0)\n",
            "Requirement already satisfied: numpy>=1.9.1 in /usr/local/lib/python3.6/dist-packages (from keras==2.3.1) (1.18.5)\n",
            "Requirement already satisfied: h5py in /usr/local/lib/python3.6/dist-packages (from keras==2.3.1) (2.10.0)\n",
            "Requirement already satisfied: keras-applications>=1.0.6 in /usr/local/lib/python3.6/dist-packages (from keras==2.3.1) (1.0.8)\n",
            "Requirement already satisfied: keras-preprocessing>=1.0.5 in /usr/local/lib/python3.6/dist-packages (from keras==2.3.1) (1.1.2)\n",
            "Requirement already satisfied: pyyaml in /usr/local/lib/python3.6/dist-packages (from keras==2.3.1) (3.13)\n",
            "Installing collected packages: keras\n",
            "  Found existing installation: Keras 2.4.3\n",
            "    Uninstalling Keras-2.4.3:\n",
            "      Successfully uninstalled Keras-2.4.3\n",
            "Successfully installed keras-2.3.1\n"
          ],
          "name": "stdout"
        }
      ]
    },
    {
      "cell_type": "code",
      "metadata": {
        "id": "CAVOx7IaeDE7",
        "outputId": "ef3947dd-6411-4bf2-c97d-c2e1e7d2e659",
        "colab": {
          "base_uri": "https://localhost:8080/",
          "height": 391
        }
      },
      "source": [
        "!pip install bert-for-tf2"
      ],
      "execution_count": null,
      "outputs": [
        {
          "output_type": "stream",
          "text": [
            "Collecting bert-for-tf2\n",
            "\u001b[?25l  Downloading https://files.pythonhosted.org/packages/18/d3/820ccaf55f1e24b5dd43583ac0da6d86c2d27bbdfffadbba69bafe73ca93/bert-for-tf2-0.14.7.tar.gz (41kB)\n",
            "\r\u001b[K     |████████                        | 10kB 26.5MB/s eta 0:00:01\r\u001b[K     |████████████████                | 20kB 24.8MB/s eta 0:00:01\r\u001b[K     |███████████████████████▉        | 30kB 18.2MB/s eta 0:00:01\r\u001b[K     |███████████████████████████████▉| 40kB 13.4MB/s eta 0:00:01\r\u001b[K     |████████████████████████████████| 51kB 6.5MB/s \n",
            "\u001b[?25hCollecting py-params>=0.9.6\n",
            "  Downloading https://files.pythonhosted.org/packages/a4/bf/c1c70d5315a8677310ea10a41cfc41c5970d9b37c31f9c90d4ab98021fd1/py-params-0.9.7.tar.gz\n",
            "Collecting params-flow>=0.8.0\n",
            "  Downloading https://files.pythonhosted.org/packages/a9/95/ff49f5ebd501f142a6f0aaf42bcfd1c192dc54909d1d9eb84ab031d46056/params-flow-0.8.2.tar.gz\n",
            "Requirement already satisfied: numpy in /usr/local/lib/python3.6/dist-packages (from params-flow>=0.8.0->bert-for-tf2) (1.18.5)\n",
            "Requirement already satisfied: tqdm in /usr/local/lib/python3.6/dist-packages (from params-flow>=0.8.0->bert-for-tf2) (4.41.1)\n",
            "Building wheels for collected packages: bert-for-tf2, py-params, params-flow\n",
            "  Building wheel for bert-for-tf2 (setup.py) ... \u001b[?25l\u001b[?25hdone\n",
            "  Created wheel for bert-for-tf2: filename=bert_for_tf2-0.14.7-cp36-none-any.whl size=30539 sha256=226166be1282496e771e552e1e1547a08b85bebcacd41d7c27cdad618ec38445\n",
            "  Stored in directory: /root/.cache/pip/wheels/e1/f8/e2/b98f79a6b8cc898d8e4102b83acb8a098df7d27500a2bac912\n",
            "  Building wheel for py-params (setup.py) ... \u001b[?25l\u001b[?25hdone\n",
            "  Created wheel for py-params: filename=py_params-0.9.7-cp36-none-any.whl size=7304 sha256=9251f019acd1c892109c4f0d40312329294fa411b3c73a3bccfbbda99859253d\n",
            "  Stored in directory: /root/.cache/pip/wheels/67/f5/19/b461849a50aefdf4bab47c4756596e82ee2118b8278e5a1980\n",
            "  Building wheel for params-flow (setup.py) ... \u001b[?25l\u001b[?25hdone\n",
            "  Created wheel for params-flow: filename=params_flow-0.8.2-cp36-none-any.whl size=19475 sha256=5609d28e7c4e0156c27c22d4c8a4a39c2f9a074008373d2cb915b89de7a7e7bc\n",
            "  Stored in directory: /root/.cache/pip/wheels/08/c8/7f/81c86b9ff2b86e2c477e3914175be03e679e596067dc630c06\n",
            "Successfully built bert-for-tf2 py-params params-flow\n",
            "Installing collected packages: py-params, params-flow, bert-for-tf2\n",
            "Successfully installed bert-for-tf2-0.14.7 params-flow-0.8.2 py-params-0.9.7\n"
          ],
          "name": "stdout"
        }
      ]
    },
    {
      "cell_type": "code",
      "metadata": {
        "id": "mfuy2RHseDCc",
        "outputId": "8b79f556-7686-477b-9a46-cef5c6ef4ff9",
        "colab": {
          "base_uri": "https://localhost:8080/",
          "height": 102
        }
      },
      "source": [
        "!pip install sentencepiece"
      ],
      "execution_count": null,
      "outputs": [
        {
          "output_type": "stream",
          "text": [
            "Collecting sentencepiece\n",
            "\u001b[?25l  Downloading https://files.pythonhosted.org/packages/e5/2d/6d4ca4bef9a67070fa1cac508606328329152b1df10bdf31fb6e4e727894/sentencepiece-0.1.94-cp36-cp36m-manylinux2014_x86_64.whl (1.1MB)\n",
            "\r\u001b[K     |▎                               | 10kB 21.2MB/s eta 0:00:01\r\u001b[K     |▋                               | 20kB 24.8MB/s eta 0:00:01\r\u001b[K     |▉                               | 30kB 17.5MB/s eta 0:00:01\r\u001b[K     |█▏                              | 40kB 15.2MB/s eta 0:00:01\r\u001b[K     |█▌                              | 51kB 12.5MB/s eta 0:00:01\r\u001b[K     |█▊                              | 61kB 11.8MB/s eta 0:00:01\r\u001b[K     |██                              | 71kB 11.2MB/s eta 0:00:01\r\u001b[K     |██▍                             | 81kB 10.1MB/s eta 0:00:01\r\u001b[K     |██▋                             | 92kB 10.3MB/s eta 0:00:01\r\u001b[K     |███                             | 102kB 9.9MB/s eta 0:00:01\r\u001b[K     |███▎                            | 112kB 9.9MB/s eta 0:00:01\r\u001b[K     |███▌                            | 122kB 9.9MB/s eta 0:00:01\r\u001b[K     |███▉                            | 133kB 9.9MB/s eta 0:00:01\r\u001b[K     |████▏                           | 143kB 9.9MB/s eta 0:00:01\r\u001b[K     |████▍                           | 153kB 9.9MB/s eta 0:00:01\r\u001b[K     |████▊                           | 163kB 9.9MB/s eta 0:00:01\r\u001b[K     |█████                           | 174kB 9.9MB/s eta 0:00:01\r\u001b[K     |█████▎                          | 184kB 9.9MB/s eta 0:00:01\r\u001b[K     |█████▋                          | 194kB 9.9MB/s eta 0:00:01\r\u001b[K     |█████▉                          | 204kB 9.9MB/s eta 0:00:01\r\u001b[K     |██████▏                         | 215kB 9.9MB/s eta 0:00:01\r\u001b[K     |██████▌                         | 225kB 9.9MB/s eta 0:00:01\r\u001b[K     |██████▊                         | 235kB 9.9MB/s eta 0:00:01\r\u001b[K     |███████                         | 245kB 9.9MB/s eta 0:00:01\r\u001b[K     |███████▍                        | 256kB 9.9MB/s eta 0:00:01\r\u001b[K     |███████▋                        | 266kB 9.9MB/s eta 0:00:01\r\u001b[K     |████████                        | 276kB 9.9MB/s eta 0:00:01\r\u001b[K     |████████▎                       | 286kB 9.9MB/s eta 0:00:01\r\u001b[K     |████████▌                       | 296kB 9.9MB/s eta 0:00:01\r\u001b[K     |████████▉                       | 307kB 9.9MB/s eta 0:00:01\r\u001b[K     |█████████                       | 317kB 9.9MB/s eta 0:00:01\r\u001b[K     |█████████▍                      | 327kB 9.9MB/s eta 0:00:01\r\u001b[K     |█████████▊                      | 337kB 9.9MB/s eta 0:00:01\r\u001b[K     |██████████                      | 348kB 9.9MB/s eta 0:00:01\r\u001b[K     |██████████▎                     | 358kB 9.9MB/s eta 0:00:01\r\u001b[K     |██████████▋                     | 368kB 9.9MB/s eta 0:00:01\r\u001b[K     |██████████▉                     | 378kB 9.9MB/s eta 0:00:01\r\u001b[K     |███████████▏                    | 389kB 9.9MB/s eta 0:00:01\r\u001b[K     |███████████▌                    | 399kB 9.9MB/s eta 0:00:01\r\u001b[K     |███████████▊                    | 409kB 9.9MB/s eta 0:00:01\r\u001b[K     |████████████                    | 419kB 9.9MB/s eta 0:00:01\r\u001b[K     |████████████▍                   | 430kB 9.9MB/s eta 0:00:01\r\u001b[K     |████████████▋                   | 440kB 9.9MB/s eta 0:00:01\r\u001b[K     |█████████████                   | 450kB 9.9MB/s eta 0:00:01\r\u001b[K     |█████████████▎                  | 460kB 9.9MB/s eta 0:00:01\r\u001b[K     |█████████████▌                  | 471kB 9.9MB/s eta 0:00:01\r\u001b[K     |█████████████▉                  | 481kB 9.9MB/s eta 0:00:01\r\u001b[K     |██████████████                  | 491kB 9.9MB/s eta 0:00:01\r\u001b[K     |██████████████▍                 | 501kB 9.9MB/s eta 0:00:01\r\u001b[K     |██████████████▊                 | 512kB 9.9MB/s eta 0:00:01\r\u001b[K     |███████████████                 | 522kB 9.9MB/s eta 0:00:01\r\u001b[K     |███████████████▎                | 532kB 9.9MB/s eta 0:00:01\r\u001b[K     |███████████████▋                | 542kB 9.9MB/s eta 0:00:01\r\u001b[K     |███████████████▉                | 552kB 9.9MB/s eta 0:00:01\r\u001b[K     |████████████████▏               | 563kB 9.9MB/s eta 0:00:01\r\u001b[K     |████████████████▌               | 573kB 9.9MB/s eta 0:00:01\r\u001b[K     |████████████████▊               | 583kB 9.9MB/s eta 0:00:01\r\u001b[K     |█████████████████               | 593kB 9.9MB/s eta 0:00:01\r\u001b[K     |█████████████████▍              | 604kB 9.9MB/s eta 0:00:01\r\u001b[K     |█████████████████▋              | 614kB 9.9MB/s eta 0:00:01\r\u001b[K     |██████████████████              | 624kB 9.9MB/s eta 0:00:01\r\u001b[K     |██████████████████▏             | 634kB 9.9MB/s eta 0:00:01\r\u001b[K     |██████████████████▌             | 645kB 9.9MB/s eta 0:00:01\r\u001b[K     |██████████████████▉             | 655kB 9.9MB/s eta 0:00:01\r\u001b[K     |███████████████████             | 665kB 9.9MB/s eta 0:00:01\r\u001b[K     |███████████████████▍            | 675kB 9.9MB/s eta 0:00:01\r\u001b[K     |███████████████████▊            | 686kB 9.9MB/s eta 0:00:01\r\u001b[K     |████████████████████            | 696kB 9.9MB/s eta 0:00:01\r\u001b[K     |████████████████████▎           | 706kB 9.9MB/s eta 0:00:01\r\u001b[K     |████████████████████▋           | 716kB 9.9MB/s eta 0:00:01\r\u001b[K     |████████████████████▉           | 727kB 9.9MB/s eta 0:00:01\r\u001b[K     |█████████████████████▏          | 737kB 9.9MB/s eta 0:00:01\r\u001b[K     |█████████████████████▌          | 747kB 9.9MB/s eta 0:00:01\r\u001b[K     |█████████████████████▊          | 757kB 9.9MB/s eta 0:00:01\r\u001b[K     |██████████████████████          | 768kB 9.9MB/s eta 0:00:01\r\u001b[K     |██████████████████████▎         | 778kB 9.9MB/s eta 0:00:01\r\u001b[K     |██████████████████████▋         | 788kB 9.9MB/s eta 0:00:01\r\u001b[K     |███████████████████████         | 798kB 9.9MB/s eta 0:00:01\r\u001b[K     |███████████████████████▏        | 808kB 9.9MB/s eta 0:00:01\r\u001b[K     |███████████████████████▌        | 819kB 9.9MB/s eta 0:00:01\r\u001b[K     |███████████████████████▉        | 829kB 9.9MB/s eta 0:00:01\r\u001b[K     |████████████████████████        | 839kB 9.9MB/s eta 0:00:01\r\u001b[K     |████████████████████████▍       | 849kB 9.9MB/s eta 0:00:01\r\u001b[K     |████████████████████████▊       | 860kB 9.9MB/s eta 0:00:01\r\u001b[K     |█████████████████████████       | 870kB 9.9MB/s eta 0:00:01\r\u001b[K     |█████████████████████████▎      | 880kB 9.9MB/s eta 0:00:01\r\u001b[K     |█████████████████████████▋      | 890kB 9.9MB/s eta 0:00:01\r\u001b[K     |█████████████████████████▉      | 901kB 9.9MB/s eta 0:00:01\r\u001b[K     |██████████████████████████▏     | 911kB 9.9MB/s eta 0:00:01\r\u001b[K     |██████████████████████████▌     | 921kB 9.9MB/s eta 0:00:01\r\u001b[K     |██████████████████████████▊     | 931kB 9.9MB/s eta 0:00:01\r\u001b[K     |███████████████████████████     | 942kB 9.9MB/s eta 0:00:01\r\u001b[K     |███████████████████████████▎    | 952kB 9.9MB/s eta 0:00:01\r\u001b[K     |███████████████████████████▋    | 962kB 9.9MB/s eta 0:00:01\r\u001b[K     |████████████████████████████    | 972kB 9.9MB/s eta 0:00:01\r\u001b[K     |████████████████████████████▏   | 983kB 9.9MB/s eta 0:00:01\r\u001b[K     |████████████████████████████▌   | 993kB 9.9MB/s eta 0:00:01\r\u001b[K     |████████████████████████████▉   | 1.0MB 9.9MB/s eta 0:00:01\r\u001b[K     |█████████████████████████████   | 1.0MB 9.9MB/s eta 0:00:01\r\u001b[K     |█████████████████████████████▍  | 1.0MB 9.9MB/s eta 0:00:01\r\u001b[K     |█████████████████████████████▊  | 1.0MB 9.9MB/s eta 0:00:01\r\u001b[K     |██████████████████████████████  | 1.0MB 9.9MB/s eta 0:00:01\r\u001b[K     |██████████████████████████████▎ | 1.1MB 9.9MB/s eta 0:00:01\r\u001b[K     |██████████████████████████████▋ | 1.1MB 9.9MB/s eta 0:00:01\r\u001b[K     |██████████████████████████████▉ | 1.1MB 9.9MB/s eta 0:00:01\r\u001b[K     |███████████████████████████████▏| 1.1MB 9.9MB/s eta 0:00:01\r\u001b[K     |███████████████████████████████▍| 1.1MB 9.9MB/s eta 0:00:01\r\u001b[K     |███████████████████████████████▊| 1.1MB 9.9MB/s eta 0:00:01\r\u001b[K     |████████████████████████████████| 1.1MB 9.9MB/s \n",
            "\u001b[?25hInstalling collected packages: sentencepiece\n",
            "Successfully installed sentencepiece-0.1.94\n"
          ],
          "name": "stdout"
        }
      ]
    },
    {
      "cell_type": "code",
      "metadata": {
        "id": "d5Fn3hfxeL7E"
      },
      "source": [
        "try:\n",
        "    %tensorflow_version 2.x\n",
        "except Exception:\n",
        "    pass\n",
        "import tensorflow as tf\n",
        "\n",
        "import tensorflow_hub as hub\n",
        "\n",
        "from tensorflow.keras import layers\n",
        "import bert"
      ],
      "execution_count": null,
      "outputs": []
    },
    {
      "cell_type": "code",
      "metadata": {
        "id": "sQDjFDWhbCF4"
      },
      "source": [
        "import pandas as pd\n",
        "\n",
        "df2019 = pd.read_excel('drive/My Drive/Colab Data/2019 All Reviews.xlsx', sheet_name='Tracking')\n",
        "df2020 = pd.read_excel('drive/My Drive/Colab Data/2020 All Reviews.xlsx', sheet_name='Tracking')"
      ],
      "execution_count": null,
      "outputs": []
    },
    {
      "cell_type": "code",
      "metadata": {
        "id": "tTIKUjO7bQLn"
      },
      "source": [
        "df2019.columns = df2019.iloc[6]\n",
        "df2019 = df2019.iloc[7:]\n",
        "df2019 = df2019.reset_index()\n",
        "\n",
        "df2020.columns = df2020.iloc[6]\n",
        "df2020 = df2020.iloc[7:]\n",
        "df2020 = df2020.reset_index()"
      ],
      "execution_count": null,
      "outputs": []
    },
    {
      "cell_type": "code",
      "metadata": {
        "id": "qQatjq7wbRSP",
        "outputId": "a9d8bbe6-2cae-4be1-e501-d3bca2ed47e2",
        "colab": {
          "base_uri": "https://localhost:8080/",
          "height": 34
        }
      },
      "source": [
        "df2019 = df2019.loc[df2019.Language.isin(['en'])]\n",
        "df2019 = df2019[df2019['Review Text'].notnull()]\n",
        "df2019.shape"
      ],
      "execution_count": null,
      "outputs": [
        {
          "output_type": "execute_result",
          "data": {
            "text/plain": [
              "(51637, 41)"
            ]
          },
          "metadata": {
            "tags": []
          },
          "execution_count": 9
        }
      ]
    },
    {
      "cell_type": "code",
      "metadata": {
        "id": "NAVKyqtHbXgo",
        "outputId": "0e67ef45-502f-49aa-ad33-1b2061b051e3",
        "colab": {
          "base_uri": "https://localhost:8080/",
          "height": 34
        }
      },
      "source": [
        "df2020 = df2020.loc[df2020.Language.isin(['en'])]\n",
        "df2020 = df2020[df2020['Review Text'].notnull()]\n",
        "df2020.shape"
      ],
      "execution_count": null,
      "outputs": [
        {
          "output_type": "execute_result",
          "data": {
            "text/plain": [
              "(11399, 41)"
            ]
          },
          "metadata": {
            "tags": []
          },
          "execution_count": 10
        }
      ]
    },
    {
      "cell_type": "code",
      "metadata": {
        "id": "jooPDSQ5bYwZ",
        "outputId": "25f184b8-6724-421c-b795-b6eda58f0e7e",
        "colab": {
          "base_uri": "https://localhost:8080/",
          "height": 51
        }
      },
      "source": [
        "#check the date for training data is continuous\n",
        "print(len(df2019['Published Date'].unique()))\n",
        "print(len(df2020['Published Date'].unique()))"
      ],
      "execution_count": null,
      "outputs": [
        {
          "output_type": "stream",
          "text": [
            "365\n",
            "182\n"
          ],
          "name": "stdout"
        }
      ]
    },
    {
      "cell_type": "code",
      "metadata": {
        "id": "VupFDIBXbY64"
      },
      "source": [
        "gri2019 = pd.read_excel ('drive/My Drive/Colab Data/2019 GRI.xls', sheet_name='GRI')\n",
        "gri2020 = pd.read_excel ('drive/My Drive/Colab Data/2020 GRI.xls', sheet_name='GRI')"
      ],
      "execution_count": null,
      "outputs": []
    },
    {
      "cell_type": "code",
      "metadata": {
        "id": "ZdnKysrTbZCJ",
        "outputId": "a004e22e-86ab-491e-a918-7af50c316c52",
        "colab": {
          "base_uri": "https://localhost:8080/",
          "height": 34
        }
      },
      "source": [
        "gri2019 = gri2019.melt(id_vars=['Establishment'], var_name='Month', value_name='GRI Score')\n",
        "gri2019 = gri2019.dropna()\n",
        "gri2019.shape"
      ],
      "execution_count": null,
      "outputs": [
        {
          "output_type": "execute_result",
          "data": {
            "text/plain": [
              "(2028, 3)"
            ]
          },
          "metadata": {
            "tags": []
          },
          "execution_count": 13
        }
      ]
    },
    {
      "cell_type": "code",
      "metadata": {
        "id": "IyYXIFEubZJe",
        "outputId": "6f4bd7dd-ca9f-4278-f180-82277cf7ba14",
        "colab": {
          "base_uri": "https://localhost:8080/",
          "height": 34
        }
      },
      "source": [
        "gri2020 = gri2020.melt(id_vars=['Establishment'], var_name='Month', value_name='GRI Score')\n",
        "gri2020 = gri2020.dropna()\n",
        "gri2020.shape"
      ],
      "execution_count": null,
      "outputs": [
        {
          "output_type": "execute_result",
          "data": {
            "text/plain": [
              "(1083, 3)"
            ]
          },
          "metadata": {
            "tags": []
          },
          "execution_count": 14
        }
      ]
    },
    {
      "cell_type": "code",
      "metadata": {
        "id": "CIqKMdUjbZT0",
        "outputId": "a1b66a2d-d7a2-4ec5-e8dc-f20b1ded037b",
        "colab": {
          "base_uri": "https://localhost:8080/",
          "height": 204
        }
      },
      "source": [
        "gri2019.head()"
      ],
      "execution_count": null,
      "outputs": [
        {
          "output_type": "execute_result",
          "data": {
            "text/html": [
              "<div>\n",
              "<style scoped>\n",
              "    .dataframe tbody tr th:only-of-type {\n",
              "        vertical-align: middle;\n",
              "    }\n",
              "\n",
              "    .dataframe tbody tr th {\n",
              "        vertical-align: top;\n",
              "    }\n",
              "\n",
              "    .dataframe thead th {\n",
              "        text-align: right;\n",
              "    }\n",
              "</style>\n",
              "<table border=\"1\" class=\"dataframe\">\n",
              "  <thead>\n",
              "    <tr style=\"text-align: right;\">\n",
              "      <th></th>\n",
              "      <th>Establishment</th>\n",
              "      <th>Month</th>\n",
              "      <th>GRI Score</th>\n",
              "    </tr>\n",
              "  </thead>\n",
              "  <tbody>\n",
              "    <tr>\n",
              "      <th>0</th>\n",
              "      <td>Ascott Bonifacio Global City Manila</td>\n",
              "      <td>1</td>\n",
              "      <td>Decreased</td>\n",
              "    </tr>\n",
              "    <tr>\n",
              "      <th>1</th>\n",
              "      <td>Ascott Central Wuxi</td>\n",
              "      <td>1</td>\n",
              "      <td>Decreased</td>\n",
              "    </tr>\n",
              "    <tr>\n",
              "      <th>3</th>\n",
              "      <td>Ascott Guangzhou</td>\n",
              "      <td>1</td>\n",
              "      <td>Decreased</td>\n",
              "    </tr>\n",
              "    <tr>\n",
              "      <th>4</th>\n",
              "      <td>Ascott Harmony City Nantong</td>\n",
              "      <td>1</td>\n",
              "      <td>Decreased</td>\n",
              "    </tr>\n",
              "    <tr>\n",
              "      <th>5</th>\n",
              "      <td>Ascott Heng Shan Shanghai</td>\n",
              "      <td>1</td>\n",
              "      <td>Decreased</td>\n",
              "    </tr>\n",
              "  </tbody>\n",
              "</table>\n",
              "</div>"
            ],
            "text/plain": [
              "                         Establishment Month  GRI Score\n",
              "0  Ascott Bonifacio Global City Manila     1  Decreased\n",
              "1                  Ascott Central Wuxi     1  Decreased\n",
              "3                     Ascott Guangzhou     1  Decreased\n",
              "4          Ascott Harmony City Nantong     1  Decreased\n",
              "5            Ascott Heng Shan Shanghai     1  Decreased"
            ]
          },
          "metadata": {
            "tags": []
          },
          "execution_count": 15
        }
      ]
    },
    {
      "cell_type": "markdown",
      "metadata": {
        "id": "wmtg2b4xbqcC"
      },
      "source": [
        "**Prepare Training & Validation Dataset**"
      ]
    },
    {
      "cell_type": "code",
      "metadata": {
        "id": "Ioa7YRk1bZSa",
        "outputId": "85351c04-f478-47e3-9fa4-24d1033d16c1",
        "colab": {
          "base_uri": "https://localhost:8080/",
          "height": 419
        }
      },
      "source": [
        "df2019['Month'] = pd.DatetimeIndex(df2019['Published Date']).month\n",
        "df2019 = df2019[['Hotel Name', 'Review Text', 'Month']]\n",
        "\n",
        "train = pd.merge(df2019, gri2019, how='left', left_on=['Hotel Name', 'Month'], right_on=['Establishment', 'Month'])\n",
        "train"
      ],
      "execution_count": null,
      "outputs": [
        {
          "output_type": "execute_result",
          "data": {
            "text/html": [
              "<div>\n",
              "<style scoped>\n",
              "    .dataframe tbody tr th:only-of-type {\n",
              "        vertical-align: middle;\n",
              "    }\n",
              "\n",
              "    .dataframe tbody tr th {\n",
              "        vertical-align: top;\n",
              "    }\n",
              "\n",
              "    .dataframe thead th {\n",
              "        text-align: right;\n",
              "    }\n",
              "</style>\n",
              "<table border=\"1\" class=\"dataframe\">\n",
              "  <thead>\n",
              "    <tr style=\"text-align: right;\">\n",
              "      <th></th>\n",
              "      <th>Hotel Name</th>\n",
              "      <th>Review Text</th>\n",
              "      <th>Month</th>\n",
              "      <th>Establishment</th>\n",
              "      <th>GRI Score</th>\n",
              "    </tr>\n",
              "  </thead>\n",
              "  <tbody>\n",
              "    <tr>\n",
              "      <th>0</th>\n",
              "      <td>Ascott Bonifacio Global City Manila</td>\n",
              "      <td>Outstanding service Well maintained facilities...</td>\n",
              "      <td>12</td>\n",
              "      <td>Ascott Bonifacio Global City Manila</td>\n",
              "      <td>Decreased</td>\n",
              "    </tr>\n",
              "    <tr>\n",
              "      <th>1</th>\n",
              "      <td>Ascott Bonifacio Global City Manila</td>\n",
              "      <td>The place was outstanding, way beyond what we'...</td>\n",
              "      <td>12</td>\n",
              "      <td>Ascott Bonifacio Global City Manila</td>\n",
              "      <td>Decreased</td>\n",
              "    </tr>\n",
              "    <tr>\n",
              "      <th>2</th>\n",
              "      <td>Ascott Kuala Lumpur</td>\n",
              "      <td>The best apartment I have ever visited. The st...</td>\n",
              "      <td>12</td>\n",
              "      <td>Ascott Kuala Lumpur</td>\n",
              "      <td>Decreased</td>\n",
              "    </tr>\n",
              "    <tr>\n",
              "      <th>3</th>\n",
              "      <td>Somerset Berlian Jakarta</td>\n",
              "      <td>Too bad AC in living room and bedroom no 2 jus...</td>\n",
              "      <td>12</td>\n",
              "      <td>Somerset Berlian Jakarta</td>\n",
              "      <td>Increased</td>\n",
              "    </tr>\n",
              "    <tr>\n",
              "      <th>4</th>\n",
              "      <td>Somerset Berlian Jakarta</td>\n",
              "      <td>Positive: The pool is awesome.</td>\n",
              "      <td>12</td>\n",
              "      <td>Somerset Berlian Jakarta</td>\n",
              "      <td>Increased</td>\n",
              "    </tr>\n",
              "    <tr>\n",
              "      <th>...</th>\n",
              "      <td>...</td>\n",
              "      <td>...</td>\n",
              "      <td>...</td>\n",
              "      <td>...</td>\n",
              "      <td>...</td>\n",
              "    </tr>\n",
              "    <tr>\n",
              "      <th>51632</th>\n",
              "      <td>Citadines Mount Sophia Singapore</td>\n",
              "      <td>Positive: The location. Negative: They did not...</td>\n",
              "      <td>1</td>\n",
              "      <td>Citadines Mount Sophia Singapore</td>\n",
              "      <td>Decreased</td>\n",
              "    </tr>\n",
              "    <tr>\n",
              "      <th>51633</th>\n",
              "      <td>Hotel Pravo Hong Kong</td>\n",
              "      <td>Positive: Good location. Negative: The cleanin...</td>\n",
              "      <td>1</td>\n",
              "      <td>Hotel Pravo Hong Kong</td>\n",
              "      <td>Increased</td>\n",
              "    </tr>\n",
              "    <tr>\n",
              "      <th>51634</th>\n",
              "      <td>Citadines Shinjuku Tokyo</td>\n",
              "      <td>Excellent service! May be a little small for 3...</td>\n",
              "      <td>1</td>\n",
              "      <td>Citadines Shinjuku Tokyo</td>\n",
              "      <td>Increased</td>\n",
              "    </tr>\n",
              "    <tr>\n",
              "      <th>51635</th>\n",
              "      <td>Citadines Shinjuku Tokyo</td>\n",
              "      <td>I wish location was better and nearer to the c...</td>\n",
              "      <td>1</td>\n",
              "      <td>Citadines Shinjuku Tokyo</td>\n",
              "      <td>Increased</td>\n",
              "    </tr>\n",
              "    <tr>\n",
              "      <th>51636</th>\n",
              "      <td>Citadines Shinjuku Tokyo</td>\n",
              "      <td>Too far from the JR and bus terminal Coin laun...</td>\n",
              "      <td>1</td>\n",
              "      <td>Citadines Shinjuku Tokyo</td>\n",
              "      <td>Increased</td>\n",
              "    </tr>\n",
              "  </tbody>\n",
              "</table>\n",
              "<p>51637 rows × 5 columns</p>\n",
              "</div>"
            ],
            "text/plain": [
              "                                Hotel Name  ...  GRI Score\n",
              "0      Ascott Bonifacio Global City Manila  ...  Decreased\n",
              "1      Ascott Bonifacio Global City Manila  ...  Decreased\n",
              "2                      Ascott Kuala Lumpur  ...  Decreased\n",
              "3                 Somerset Berlian Jakarta  ...  Increased\n",
              "4                 Somerset Berlian Jakarta  ...  Increased\n",
              "...                                    ...  ...        ...\n",
              "51632     Citadines Mount Sophia Singapore  ...  Decreased\n",
              "51633                Hotel Pravo Hong Kong  ...  Increased\n",
              "51634             Citadines Shinjuku Tokyo  ...  Increased\n",
              "51635             Citadines Shinjuku Tokyo  ...  Increased\n",
              "51636             Citadines Shinjuku Tokyo  ...  Increased\n",
              "\n",
              "[51637 rows x 5 columns]"
            ]
          },
          "metadata": {
            "tags": []
          },
          "execution_count": 16
        }
      ]
    },
    {
      "cell_type": "code",
      "metadata": {
        "id": "EY1TDPopbZQi",
        "outputId": "c62eec97-3041-45a4-a564-b3e15fbd0987",
        "colab": {
          "base_uri": "https://localhost:8080/",
          "height": 34
        }
      },
      "source": [
        "df2020['Month'] = pd.DatetimeIndex(df2020['Published Date']).month\n",
        "df2020 = df2020[['Hotel Name', 'Review Text', 'Month']]\n",
        "\n",
        "test = pd.merge(df2020, gri2020, how='left', left_on=['Hotel Name', 'Month'], right_on=['Establishment', 'Month'])\n",
        "test.shape"
      ],
      "execution_count": null,
      "outputs": [
        {
          "output_type": "execute_result",
          "data": {
            "text/plain": [
              "(11399, 5)"
            ]
          },
          "metadata": {
            "tags": []
          },
          "execution_count": 17
        }
      ]
    },
    {
      "cell_type": "markdown",
      "metadata": {
        "id": "6wlKm6PlbzGI"
      },
      "source": [
        "**Data Exploration**"
      ]
    },
    {
      "cell_type": "code",
      "metadata": {
        "id": "bHconNw8bZNt",
        "outputId": "b62a3b39-9688-4b26-931f-6eaf4c8005c5",
        "colab": {
          "base_uri": "https://localhost:8080/",
          "height": 204
        }
      },
      "source": [
        "train = train[['Review Text', 'GRI Score']]\n",
        "train.head()"
      ],
      "execution_count": null,
      "outputs": [
        {
          "output_type": "execute_result",
          "data": {
            "text/html": [
              "<div>\n",
              "<style scoped>\n",
              "    .dataframe tbody tr th:only-of-type {\n",
              "        vertical-align: middle;\n",
              "    }\n",
              "\n",
              "    .dataframe tbody tr th {\n",
              "        vertical-align: top;\n",
              "    }\n",
              "\n",
              "    .dataframe thead th {\n",
              "        text-align: right;\n",
              "    }\n",
              "</style>\n",
              "<table border=\"1\" class=\"dataframe\">\n",
              "  <thead>\n",
              "    <tr style=\"text-align: right;\">\n",
              "      <th></th>\n",
              "      <th>Review Text</th>\n",
              "      <th>GRI Score</th>\n",
              "    </tr>\n",
              "  </thead>\n",
              "  <tbody>\n",
              "    <tr>\n",
              "      <th>0</th>\n",
              "      <td>Outstanding service Well maintained facilities...</td>\n",
              "      <td>Decreased</td>\n",
              "    </tr>\n",
              "    <tr>\n",
              "      <th>1</th>\n",
              "      <td>The place was outstanding, way beyond what we'...</td>\n",
              "      <td>Decreased</td>\n",
              "    </tr>\n",
              "    <tr>\n",
              "      <th>2</th>\n",
              "      <td>The best apartment I have ever visited. The st...</td>\n",
              "      <td>Decreased</td>\n",
              "    </tr>\n",
              "    <tr>\n",
              "      <th>3</th>\n",
              "      <td>Too bad AC in living room and bedroom no 2 jus...</td>\n",
              "      <td>Increased</td>\n",
              "    </tr>\n",
              "    <tr>\n",
              "      <th>4</th>\n",
              "      <td>Positive: The pool is awesome.</td>\n",
              "      <td>Increased</td>\n",
              "    </tr>\n",
              "  </tbody>\n",
              "</table>\n",
              "</div>"
            ],
            "text/plain": [
              "                                         Review Text  GRI Score\n",
              "0  Outstanding service Well maintained facilities...  Decreased\n",
              "1  The place was outstanding, way beyond what we'...  Decreased\n",
              "2  The best apartment I have ever visited. The st...  Decreased\n",
              "3  Too bad AC in living room and bedroom no 2 jus...  Increased\n",
              "4                     Positive: The pool is awesome.  Increased"
            ]
          },
          "metadata": {
            "tags": []
          },
          "execution_count": 18
        }
      ]
    },
    {
      "cell_type": "code",
      "metadata": {
        "id": "ItQEEOepbZHN",
        "outputId": "597c11f2-b8ae-4100-d7ea-ebe71b894028",
        "colab": {
          "base_uri": "https://localhost:8080/",
          "height": 204
        }
      },
      "source": [
        "test = test[['Review Text', 'GRI Score']]\n",
        "test.head()"
      ],
      "execution_count": null,
      "outputs": [
        {
          "output_type": "execute_result",
          "data": {
            "text/html": [
              "<div>\n",
              "<style scoped>\n",
              "    .dataframe tbody tr th:only-of-type {\n",
              "        vertical-align: middle;\n",
              "    }\n",
              "\n",
              "    .dataframe tbody tr th {\n",
              "        vertical-align: top;\n",
              "    }\n",
              "\n",
              "    .dataframe thead th {\n",
              "        text-align: right;\n",
              "    }\n",
              "</style>\n",
              "<table border=\"1\" class=\"dataframe\">\n",
              "  <thead>\n",
              "    <tr style=\"text-align: right;\">\n",
              "      <th></th>\n",
              "      <th>Review Text</th>\n",
              "      <th>GRI Score</th>\n",
              "    </tr>\n",
              "  </thead>\n",
              "  <tbody>\n",
              "    <tr>\n",
              "      <th>0</th>\n",
              "      <td>Positive: Friendly staff, very clean and so qu...</td>\n",
              "      <td>Increased</td>\n",
              "    </tr>\n",
              "    <tr>\n",
              "      <th>1</th>\n",
              "      <td>Positive: Room service and reception desk neve...</td>\n",
              "      <td>Decreased</td>\n",
              "    </tr>\n",
              "    <tr>\n",
              "      <th>2</th>\n",
              "      <td>Clean and spacious room, good location, so clo...</td>\n",
              "      <td>Increased</td>\n",
              "    </tr>\n",
              "    <tr>\n",
              "      <th>3</th>\n",
              "      <td>Positive: If you're looking for somewhere clos...</td>\n",
              "      <td>Decreased</td>\n",
              "    </tr>\n",
              "    <tr>\n",
              "      <th>4</th>\n",
              "      <td>New hotel next to airport. With views to airpo...</td>\n",
              "      <td>Decreased</td>\n",
              "    </tr>\n",
              "  </tbody>\n",
              "</table>\n",
              "</div>"
            ],
            "text/plain": [
              "                                         Review Text  GRI Score\n",
              "0  Positive: Friendly staff, very clean and so qu...  Increased\n",
              "1  Positive: Room service and reception desk neve...  Decreased\n",
              "2  Clean and spacious room, good location, so clo...  Increased\n",
              "3  Positive: If you're looking for somewhere clos...  Decreased\n",
              "4  New hotel next to airport. With views to airpo...  Decreased"
            ]
          },
          "metadata": {
            "tags": []
          },
          "execution_count": 19
        }
      ]
    },
    {
      "cell_type": "code",
      "metadata": {
        "id": "AFgQY_1ubZFQ",
        "outputId": "7fa5e10c-3575-4080-edc9-891ad816815a",
        "colab": {
          "base_uri": "https://localhost:8080/",
          "height": 86
        }
      },
      "source": [
        "train['Review Text'][5]"
      ],
      "execution_count": null,
      "outputs": [
        {
          "output_type": "execute_result",
          "data": {
            "application/vnd.google.colaboratory.intrinsic+json": {
              "type": "string"
            },
            "text/plain": [
              "'My family of four stayed at Somerset Ekamai Bangkok for 5 nights for end of year family trip. This is the first time we visited Bangkok and we booked a two bedroom apartment for our stay. The apartment was spacious and clean and we just feel like home. Fridge and washing machine are available for use. There were also a full set of eating utensils and cooking facilities for simple cooking. Staff was friendly and helpful. Although the location is a little bit away from the city centre, the nearest BTS station is at a walking distance of within 10 mins. There is also a Big C supermarket and a number of restaurants in the area. We all had a pleasant and relaxing time during our stay at Somerset Ekamai Bangkok.'"
            ]
          },
          "metadata": {
            "tags": []
          },
          "execution_count": 20
        }
      ]
    },
    {
      "cell_type": "code",
      "metadata": {
        "id": "dp5LWJvNbY_q",
        "outputId": "1f2f44ee-03fd-45c3-bbd5-beba5befc883",
        "colab": {
          "base_uri": "https://localhost:8080/",
          "height": 69
        }
      },
      "source": [
        "test['Review Text'][3]"
      ],
      "execution_count": null,
      "outputs": [
        {
          "output_type": "execute_result",
          "data": {
            "application/vnd.google.colaboratory.intrinsic+json": {
              "type": "string"
            },
            "text/plain": [
              "\"Positive: If you're looking for somewhere close to the airport, this hotel is well situated. They have a nice reception and guest area upstairs, where people can congregate and relax. The reception staff were friendly and accommodating. Negative: There was a clip from a bandage next to the room door, which looked to have been there for a while, judging by the surrounding dust. There were some minor issues in the room, with holes in the carpet.\""
            ]
          },
          "metadata": {
            "tags": []
          },
          "execution_count": 21
        }
      ]
    },
    {
      "cell_type": "code",
      "metadata": {
        "id": "ODMPKKMpbY90",
        "outputId": "1424bbf1-03db-40f8-ef80-37a1ae8080d0",
        "colab": {
          "base_uri": "https://localhost:8080/",
          "height": 296
        }
      },
      "source": [
        "import seaborn as sns\n",
        "\n",
        "sns.countplot(x='GRI Score', data=train)"
      ],
      "execution_count": null,
      "outputs": [
        {
          "output_type": "execute_result",
          "data": {
            "text/plain": [
              "<matplotlib.axes._subplots.AxesSubplot at 0x7f0aa4881128>"
            ]
          },
          "metadata": {
            "tags": []
          },
          "execution_count": 22
        },
        {
          "output_type": "display_data",
          "data": {
            "image/png": "[encoded data removed]",
            "text/plain": [
              "<Figure size 432x288 with 1 Axes>"
            ]
          },
          "metadata": {
            "tags": [],
            "needs_background": "light"
          }
        }
      ]
    },
    {
      "cell_type": "markdown",
      "metadata": {
        "id": "hQZ85tQhb8lZ"
      },
      "source": [
        "**Data Preprocessing**"
      ]
    },
    {
      "cell_type": "code",
      "metadata": {
        "id": "6kyQ0gHib7wk"
      },
      "source": [
        "import re\n",
        "\n",
        "TAG_RE = re.compile(r'<[^>]+>')\n",
        "def remove_tags(text):\n",
        "    return TAG_RE.sub('', text)\n",
        "\n",
        "def preprocess_text(sen):\n",
        "    sentence = remove_tags(sen)\n",
        "    \n",
        "    #remove special tokens Positive and Negative\n",
        "    sentence = re.sub('Positive:', '', sentence)\n",
        "    sentence = re.sub('Negative:', '', sentence)\n",
        "    \n",
        "    #remove punctuations and numbers\n",
        "    sentence = re.sub('[^a-zA-Z]', ' ', sentence)\n",
        "    \n",
        "    #single character removal\n",
        "    sentence = re.sub(r\"\\s+[a-zA-Z]\\s+\", ' ', sentence)\n",
        "    \n",
        "    #remove multiple spaces\n",
        "    sentence = re.sub(r'\\s+', ' ', sentence)\n",
        "    \n",
        "    \n",
        "    return sentence"
      ],
      "execution_count": null,
      "outputs": []
    },
    {
      "cell_type": "code",
      "metadata": {
        "id": "wtwUOSiKb_1g"
      },
      "source": [
        "x_train = []\n",
        "sentences = list(train['Review Text'])\n",
        "for sen in sentences:\n",
        "    x_train.append(preprocess_text(sen))"
      ],
      "execution_count": null,
      "outputs": []
    },
    {
      "cell_type": "code",
      "metadata": {
        "id": "cfw_VJVZcBAU",
        "outputId": "af6445c8-d7c5-4fc5-f2bc-6ed8e92e00a2",
        "colab": {
          "base_uri": "https://localhost:8080/",
          "height": 86
        }
      },
      "source": [
        "x_train[5]"
      ],
      "execution_count": null,
      "outputs": [
        {
          "output_type": "execute_result",
          "data": {
            "application/vnd.google.colaboratory.intrinsic+json": {
              "type": "string"
            },
            "text/plain": [
              "'My family of four stayed at Somerset Ekamai Bangkok for nights for end of year family trip This is the first time we visited Bangkok and we booked two bedroom apartment for our stay The apartment was spacious and clean and we just feel like home Fridge and washing machine are available for use There were also full set of eating utensils and cooking facilities for simple cooking Staff was friendly and helpful Although the location is little bit away from the city centre the nearest BTS station is at walking distance of within mins There is also Big supermarket and number of restaurants in the area We all had pleasant and relaxing time during our stay at Somerset Ekamai Bangkok '"
            ]
          },
          "metadata": {
            "tags": []
          },
          "execution_count": 25
        }
      ]
    },
    {
      "cell_type": "code",
      "metadata": {
        "id": "p57dtv56cCIL"
      },
      "source": [
        "x_test = []\n",
        "sentences2 = list(test['Review Text'])\n",
        "for sen in sentences2:\n",
        "    x_test.append(preprocess_text(sen))"
      ],
      "execution_count": null,
      "outputs": []
    },
    {
      "cell_type": "code",
      "metadata": {
        "id": "VYhi8xftcD08",
        "outputId": "ab2fbaa8-6fe6-4378-e394-8d5a7f85f4ae",
        "colab": {
          "base_uri": "https://localhost:8080/",
          "height": 69
        }
      },
      "source": [
        "x_test[3]"
      ],
      "execution_count": null,
      "outputs": [
        {
          "output_type": "execute_result",
          "data": {
            "application/vnd.google.colaboratory.intrinsic+json": {
              "type": "string"
            },
            "text/plain": [
              "' If you re looking for somewhere close to the airport this hotel is well situated They have nice reception and guest area upstairs where people can congregate and relax The reception staff were friendly and accommodating There was clip from bandage next to the room door which looked to have been there for while judging by the surrounding dust There were some minor issues in the room with holes in the carpet '"
            ]
          },
          "metadata": {
            "tags": []
          },
          "execution_count": 27
        }
      ]
    },
    {
      "cell_type": "code",
      "metadata": {
        "id": "pDjp4lsLcFDe"
      },
      "source": [
        "import numpy as np\n",
        "\n",
        "y_train = train['GRI Score']\n",
        "y_train = np.array(list(map(lambda x: 1 if x=='Increased' else 0, y_train)))"
      ],
      "execution_count": null,
      "outputs": []
    },
    {
      "cell_type": "code",
      "metadata": {
        "id": "2uSRIvajcGQL"
      },
      "source": [
        "y_test = test['GRI Score']\n",
        "y_test = np.array(list(map(lambda x: 1 if x=='Increased' else 0, y_test)))"
      ],
      "execution_count": null,
      "outputs": []
    },
    {
      "cell_type": "markdown",
      "metadata": {
        "id": "wjuAGNdhesVp"
      },
      "source": [
        "**BERT Tokenizer**"
      ]
    },
    {
      "cell_type": "code",
      "metadata": {
        "id": "FEz_sk0ZerhC"
      },
      "source": [
        "BertTokenizer = bert.bert_tokenization.FullTokenizer\n",
        "bert_layer = hub.KerasLayer(\"https://tfhub.dev/tensorflow/bert_en_uncased_L-12_H-768_A-12/1\", trainable=False)\n",
        "#bert_layer = hub.KerasLayer(\"https://tfhub.dev/tensorflow/bert_en_uncased_L-12_H-768_A-12/1\", trainable=True)\n",
        "vocabulary_file = bert_layer.resolved_object.vocab_file.asset_path.numpy()\n",
        "to_lower_case = bert_layer.resolved_object.do_lower_case.numpy()\n",
        "tokenizer = BertTokenizer(vocabulary_file, to_lower_case)"
      ],
      "execution_count": null,
      "outputs": []
    },
    {
      "cell_type": "code",
      "metadata": {
        "id": "yroITHkqfLdj"
      },
      "source": [
        "def tokenize_reviews(text_reviews):\n",
        "  return tokenizer.convert_tokens_to_ids(tokenizer.tokenize(text_reviews))"
      ],
      "execution_count": null,
      "outputs": []
    },
    {
      "cell_type": "code",
      "metadata": {
        "id": "SJt1ypQWfYTK"
      },
      "source": [
        "tokenized_reviews = [tokenize_reviews(review) for review in x_train]"
      ],
      "execution_count": null,
      "outputs": []
    },
    {
      "cell_type": "code",
      "metadata": {
        "id": "XO1CfS4_saWM",
        "outputId": "2fa250ee-1154-4613-f91d-544309d3d790",
        "colab": {
          "base_uri": "https://localhost:8080/",
          "height": 34
        }
      },
      "source": [
        " max_size = 0 \n",
        " for i, review in enumerate(tokenized_reviews):\n",
        "   if len(review) > max_size:\n",
        "     max_size = len(review)\n",
        "\n",
        "print(max_size)"
      ],
      "execution_count": null,
      "outputs": [
        {
          "output_type": "stream",
          "text": [
            "1930\n"
          ],
          "name": "stdout"
        }
      ]
    },
    {
      "cell_type": "code",
      "metadata": {
        "id": "0oVUANOIfYc5"
      },
      "source": [
        "#reviews_with_len = [[review, y_train[i], len(review)] for i, review in enumerate(tokenized_reviews)]\n",
        "reviews_with_len = [[[review[cnt] if cnt < len(review) else 0 for cnt in range(max_size)], y_train[i], len(review)] for i, review in enumerate(tokenized_reviews)]"
      ],
      "execution_count": null,
      "outputs": []
    },
    {
      "cell_type": "code",
      "metadata": {
        "id": "-T17ct8O_aO8"
      },
      "source": [
        "import random\n",
        "random.shuffle(reviews_with_len)"
      ],
      "execution_count": null,
      "outputs": []
    },
    {
      "cell_type": "code",
      "metadata": {
        "id": "BGo_3o5nfYab"
      },
      "source": [
        "reviews_with_len.sort(key=lambda x:x[2])"
      ],
      "execution_count": null,
      "outputs": []
    },
    {
      "cell_type": "code",
      "metadata": {
        "id": "XsYjLPDjfYYt"
      },
      "source": [
        "sorted_reviews_labels = [(review_lab[0], review_lab[1]) for review_lab in reviews_with_len]"
      ],
      "execution_count": null,
      "outputs": []
    },
    {
      "cell_type": "code",
      "metadata": {
        "id": "7O0xVcL_fYW8"
      },
      "source": [
        "processed_dataset = tf.data.Dataset.from_generator(lambda: sorted_reviews_labels, output_types=(tf.int32, tf.int32))"
      ],
      "execution_count": null,
      "outputs": []
    },
    {
      "cell_type": "code",
      "metadata": {
        "id": "eADGH3C4_7WE"
      },
      "source": [
        "BATCH_SIZE = 32\n",
        "batched_dataset = processed_dataset.padded_batch(BATCH_SIZE, padded_shapes=((None, ), ()))"
      ],
      "execution_count": null,
      "outputs": []
    },
    {
      "cell_type": "code",
      "metadata": {
        "id": "FRC4QoDo_7lL",
        "outputId": "3d9bfcbe-6562-4d00-aded-d7186ed8add5",
        "colab": {
          "base_uri": "https://localhost:8080/",
          "height": 204
        }
      },
      "source": [
        "next(iter(batched_dataset))"
      ],
      "execution_count": null,
      "outputs": [
        {
          "output_type": "execute_result",
          "data": {
            "text/plain": [
              "(<tf.Tensor: shape=(32, 1930), dtype=int32, numpy=\n",
              " array([[0, 0, 0, ..., 0, 0, 0],\n",
              "        [0, 0, 0, ..., 0, 0, 0],\n",
              "        [0, 0, 0, ..., 0, 0, 0],\n",
              "        ...,\n",
              "        [0, 0, 0, ..., 0, 0, 0],\n",
              "        [0, 0, 0, ..., 0, 0, 0],\n",
              "        [0, 0, 0, ..., 0, 0, 0]], dtype=int32)>,\n",
              " <tf.Tensor: shape=(32,), dtype=int32, numpy=\n",
              " array([0, 0, 1, 0, 1, 1, 1, 1, 1, 0, 1, 0, 0, 1, 1, 1, 0, 1, 1, 0, 1, 0,\n",
              "        1, 1, 0, 0, 0, 0, 1, 1, 0, 1], dtype=int32)>)"
            ]
          },
          "metadata": {
            "tags": []
          },
          "execution_count": 83
        }
      ]
    },
    {
      "cell_type": "code",
      "metadata": {
        "id": "g5SJY4dQ_7se"
      },
      "source": [
        "import math\n",
        "\n",
        "TOTAL_BATCHES = math.ceil(len(sorted_reviews_labels) / BATCH_SIZE)\n",
        "TEST_BATCHES = TOTAL_BATCHES // 10\n",
        "\n",
        "batched_dataset.shuffle(TOTAL_BATCHES)\n",
        "test_data = batched_dataset.take(TEST_BATCHES)\n",
        "train_data = batched_dataset.skip(TEST_BATCHES)"
      ],
      "execution_count": null,
      "outputs": []
    },
    {
      "cell_type": "code",
      "metadata": {
        "id": "MwTOMgNM_7qp"
      },
      "source": [
        "class TEXT_MODEL(tf.keras.Model):\n",
        "    \n",
        "    def __init__(self,\n",
        "                 vocabulary_size,\n",
        "                 embedding_dimensions=128,\n",
        "                 cnn_filters=50,\n",
        "                 dnn_units=512,\n",
        "                 model_output_classes=2,\n",
        "                 dropout_rate=0.1,\n",
        "                 training=False,\n",
        "                 name=\"text_model\"):\n",
        "        super(TEXT_MODEL, self).__init__(name=name)\n",
        "        \n",
        "        self.embedding = layers.Embedding(vocabulary_size,\n",
        "                                          embedding_dimensions)\n",
        "        self.cnn_layer1 = layers.Conv1D(filters=cnn_filters,\n",
        "                                        kernel_size=2,\n",
        "                                        padding=\"valid\",\n",
        "                                        activation=\"relu\")\n",
        "        self.cnn_layer2 = layers.Conv1D(filters=cnn_filters,\n",
        "                                        kernel_size=3,\n",
        "                                        padding=\"valid\",\n",
        "                                        activation=\"relu\")\n",
        "        self.cnn_layer3 = layers.Conv1D(filters=cnn_filters,\n",
        "                                        kernel_size=4,\n",
        "                                        padding=\"valid\",\n",
        "                                        activation=\"relu\")\n",
        "        self.pool = layers.GlobalMaxPool1D()\n",
        "        \n",
        "        self.dense_1 = layers.Dense(units=dnn_units, activation=\"relu\")\n",
        "        self.dropout = layers.Dropout(rate=dropout_rate)\n",
        "        if model_output_classes == 2:\n",
        "            self.last_dense = layers.Dense(units=1,\n",
        "                                           activation=\"sigmoid\")\n",
        "        else:\n",
        "            self.last_dense = layers.Dense(units=model_output_classes,\n",
        "                                           activation=\"softmax\")\n",
        "    \n",
        "    def call(self, inputs, training):\n",
        "        l = self.embedding(inputs)\n",
        "        l_1 = self.cnn_layer1(l) \n",
        "        l_1 = self.pool(l_1) \n",
        "        l_2 = self.cnn_layer2(l) \n",
        "        l_2 = self.pool(l_2)\n",
        "        l_3 = self.cnn_layer3(l)\n",
        "        l_3 = self.pool(l_3) \n",
        "        \n",
        "        concatenated = tf.concat([l_1, l_2, l_3], axis=-1) # (batch_size, 3 * cnn_filters)\n",
        "        concatenated = self.dense_1(concatenated)\n",
        "        concatenated = self.dropout(concatenated, training)\n",
        "        model_output = self.last_dense(concatenated)\n",
        "        \n",
        "        return model_output"
      ],
      "execution_count": null,
      "outputs": []
    },
    {
      "cell_type": "code",
      "metadata": {
        "id": "dBVdt2C7_7oy"
      },
      "source": [
        "VOCAB_LENGTH = len(tokenizer.vocab)\n",
        "EMB_DIM = 200\n",
        "CNN_FILTERS = 100\n",
        "DNN_UNITS = 256\n",
        "OUTPUT_CLASSES = 2\n",
        "DROPOUT_RATE = 0.2\n",
        "NB_EPOCHS = 10"
      ],
      "execution_count": null,
      "outputs": []
    },
    {
      "cell_type": "code",
      "metadata": {
        "id": "2i7rzzHk_7Uk"
      },
      "source": [
        "model = TEXT_MODEL(vocabulary_size=VOCAB_LENGTH,\n",
        "                        embedding_dimensions=EMB_DIM,\n",
        "                        cnn_filters=CNN_FILTERS,\n",
        "                        dnn_units=DNN_UNITS,\n",
        "                        model_output_classes=OUTPUT_CLASSES,\n",
        "                        dropout_rate=DROPOUT_RATE)"
      ],
      "execution_count": null,
      "outputs": []
    },
    {
      "cell_type": "code",
      "metadata": {
        "id": "2CnrLwvLBDB5"
      },
      "source": [
        "if OUTPUT_CLASSES == 2:\n",
        "    model.compile(loss=\"binary_crossentropy\",\n",
        "                       optimizer=\"adam\",\n",
        "                       metrics=[\"accuracy\"])\n",
        "else:\n",
        "    model.compile(loss=\"sparse_categorical_crossentropy\",\n",
        "                       optimizer=\"adam\",\n",
        "                       metrics=[\"sparse_categorical_accuracy\"])"
      ],
      "execution_count": null,
      "outputs": []
    },
    {
      "cell_type": "code",
      "metadata": {
        "id": "rdb45vQu_7Rv",
        "outputId": "6d7797e8-b86c-45da-9a4f-12421b5fb509",
        "colab": {
          "base_uri": "https://localhost:8080/",
          "height": 357
        }
      },
      "source": [
        "#training_results = model.fit(train_data, epochs=NB_EPOCHS)\n",
        "bert_history = model.fit(train_data, epochs=NB_EPOCHS, validation_data=test_data)"
      ],
      "execution_count": null,
      "outputs": [
        {
          "output_type": "stream",
          "text": [
            "Epoch 1/10\n",
            "1453/1453 [==============================] - 140s 96ms/step - loss: 0.6937 - accuracy: 0.5104 - val_loss: 0.6934 - val_accuracy: 0.4946\n",
            "Epoch 2/10\n",
            "1453/1453 [==============================] - 139s 96ms/step - loss: 0.6745 - accuracy: 0.5784 - val_loss: 0.6936 - val_accuracy: 0.5060\n",
            "Epoch 3/10\n",
            "1453/1453 [==============================] - 139s 96ms/step - loss: 0.5404 - accuracy: 0.7221 - val_loss: 0.6988 - val_accuracy: 0.5083\n",
            "Epoch 4/10\n",
            "1453/1453 [==============================] - 139s 96ms/step - loss: 0.3308 - accuracy: 0.8533 - val_loss: 0.7248 - val_accuracy: 0.4996\n",
            "Epoch 5/10\n",
            "1453/1453 [==============================] - 139s 96ms/step - loss: 0.2340 - accuracy: 0.9030 - val_loss: 0.7443 - val_accuracy: 0.5012\n",
            "Epoch 6/10\n",
            "1453/1453 [==============================] - 138s 95ms/step - loss: 0.1907 - accuracy: 0.9253 - val_loss: 0.7902 - val_accuracy: 0.5064\n",
            "Epoch 7/10\n",
            "1453/1453 [==============================] - 138s 95ms/step - loss: 0.1661 - accuracy: 0.9378 - val_loss: 0.8208 - val_accuracy: 0.5062\n",
            "Epoch 8/10\n",
            "1453/1453 [==============================] - 138s 95ms/step - loss: 0.1411 - accuracy: 0.9461 - val_loss: 0.8837 - val_accuracy: 0.5068\n",
            "Epoch 9/10\n",
            "1453/1453 [==============================] - 139s 96ms/step - loss: 0.1286 - accuracy: 0.9481 - val_loss: 0.9306 - val_accuracy: 0.5101\n",
            "Epoch 10/10\n",
            "1453/1453 [==============================] - 139s 95ms/step - loss: 0.1105 - accuracy: 0.9537 - val_loss: 0.9983 - val_accuracy: 0.5023\n"
          ],
          "name": "stdout"
        }
      ]
    },
    {
      "cell_type": "code",
      "metadata": {
        "id": "1dpLMVQRz2Cm"
      },
      "source": [
        ""
      ],
      "execution_count": null,
      "outputs": []
    }
  ]
}