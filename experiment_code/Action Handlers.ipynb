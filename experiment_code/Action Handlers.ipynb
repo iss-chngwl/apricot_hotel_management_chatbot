{
 "cells": [
  {
   "cell_type": "code",
   "execution_count": 23,
   "metadata": {},
   "outputs": [],
   "source": [
    "import pandas as pd"
   ]
  },
  {
   "cell_type": "code",
   "execution_count": 24,
   "metadata": {},
   "outputs": [],
   "source": [
    "# database = pd.read_excel(\"./Data/database_table.xlsx\", sheet_name=\"(example) cleaned_up_reviews\", header=0, index_col=0)\n",
    "# database = pd.read_csv(\"./Data/demo_reviews (edited cols).csv\", header=0, index_col=0)\n",
    "\n",
    "database = pd.read_excel(\"./Data/aspect_reviews.xlsx\", header=0)"
   ]
  },
  {
   "cell_type": "code",
   "execution_count": 25,
   "metadata": {},
   "outputs": [
    {
     "data": {
      "text/plain": [
       "Index(['full_hotel_name', 'GRI', 'published_date', 'review_score',\n",
       "       'classification', 'review_text', 'review_text_original',\n",
       "       'hotel_country_name', 'hotel_city_name', 'hotel_brand_name',\n",
       "       'aspect_food_score', 'aspect_value_score', 'aspect_location_score',\n",
       "       'aspect_service_score', 'aspect_facility_score', 'aspect_room_score',\n",
       "       'aspect_other_score'],\n",
       "      dtype='object')"
      ]
     },
     "execution_count": 25,
     "metadata": {},
     "output_type": "execute_result"
    }
   ],
   "source": [
    "database.columns"
   ]
  },
  {
   "cell_type": "code",
   "execution_count": 26,
   "metadata": {},
   "outputs": [
    {
     "data": {
      "text/html": [
       "<div>\n",
       "<style scoped>\n",
       "    .dataframe tbody tr th:only-of-type {\n",
       "        vertical-align: middle;\n",
       "    }\n",
       "\n",
       "    .dataframe tbody tr th {\n",
       "        vertical-align: top;\n",
       "    }\n",
       "\n",
       "    .dataframe thead th {\n",
       "        text-align: right;\n",
       "    }\n",
       "</style>\n",
       "<table border=\"1\" class=\"dataframe\">\n",
       "  <thead>\n",
       "    <tr style=\"text-align: right;\">\n",
       "      <th></th>\n",
       "      <th>full_hotel_name</th>\n",
       "      <th>GRI</th>\n",
       "      <th>published_date</th>\n",
       "      <th>review_score</th>\n",
       "      <th>classification</th>\n",
       "      <th>review_text</th>\n",
       "      <th>review_text_original</th>\n",
       "      <th>hotel_country_name</th>\n",
       "      <th>hotel_city_name</th>\n",
       "      <th>hotel_brand_name</th>\n",
       "      <th>aspect_food_score</th>\n",
       "      <th>aspect_value_score</th>\n",
       "      <th>aspect_location_score</th>\n",
       "      <th>aspect_service_score</th>\n",
       "      <th>aspect_facility_score</th>\n",
       "      <th>aspect_room_score</th>\n",
       "      <th>aspect_other_score</th>\n",
       "    </tr>\n",
       "  </thead>\n",
       "  <tbody>\n",
       "    <tr>\n",
       "      <th>0</th>\n",
       "      <td>Ascott Kuala Lumpur</td>\n",
       "      <td>0.882</td>\n",
       "      <td>31/12/2018</td>\n",
       "      <td>0.80</td>\n",
       "      <td>Positive</td>\n",
       "      <td>Stayed at the Ascott for 2 nights, took the 2 ...</td>\n",
       "      <td>Stayed at the Ascott for 2 nights, took the 2 ...</td>\n",
       "      <td>Malaysia</td>\n",
       "      <td>Kuala Lumpur</td>\n",
       "      <td>Ascott</td>\n",
       "      <td>0.500000</td>\n",
       "      <td>0.50</td>\n",
       "      <td>0.598723</td>\n",
       "      <td>0.591667</td>\n",
       "      <td>0.5</td>\n",
       "      <td>0.500000</td>\n",
       "      <td>0.501010</td>\n",
       "    </tr>\n",
       "    <tr>\n",
       "      <th>1</th>\n",
       "      <td>Ascott Bonifacio Global City Manila</td>\n",
       "      <td>0.933</td>\n",
       "      <td>31/12/2018</td>\n",
       "      <td>1.00</td>\n",
       "      <td>Positive</td>\n",
       "      <td>Great service overall. Prime location! Excelle...</td>\n",
       "      <td>Great service overall. Prime location! Excelle...</td>\n",
       "      <td>Philippines</td>\n",
       "      <td>Manila</td>\n",
       "      <td>Ascott</td>\n",
       "      <td>0.500000</td>\n",
       "      <td>0.50</td>\n",
       "      <td>0.750000</td>\n",
       "      <td>0.850000</td>\n",
       "      <td>0.5</td>\n",
       "      <td>0.500000</td>\n",
       "      <td>0.500000</td>\n",
       "    </tr>\n",
       "    <tr>\n",
       "      <th>2</th>\n",
       "      <td>Somerset Berlian Jakarta</td>\n",
       "      <td>0.872</td>\n",
       "      <td>31/12/2018</td>\n",
       "      <td>1.00</td>\n",
       "      <td>Positive</td>\n",
       "      <td>The location is quite good, bringing family wi...</td>\n",
       "      <td>The location is quite good, bringing family wi...</td>\n",
       "      <td>Indonesia</td>\n",
       "      <td>Jakarta</td>\n",
       "      <td>Somerset</td>\n",
       "      <td>0.750000</td>\n",
       "      <td>0.50</td>\n",
       "      <td>0.756548</td>\n",
       "      <td>0.500000</td>\n",
       "      <td>0.5</td>\n",
       "      <td>0.500000</td>\n",
       "      <td>0.500000</td>\n",
       "    </tr>\n",
       "    <tr>\n",
       "      <th>3</th>\n",
       "      <td>Citadines City Centre Tbilisi</td>\n",
       "      <td>0.810</td>\n",
       "      <td>31/12/2018</td>\n",
       "      <td>0.92</td>\n",
       "      <td>Positive</td>\n",
       "      <td>Positive: location and people at reception. Ne...</td>\n",
       "      <td>Positive: location and people at reception. Ne...</td>\n",
       "      <td>Georgia</td>\n",
       "      <td>Tbilisi</td>\n",
       "      <td>Citadines</td>\n",
       "      <td>0.500000</td>\n",
       "      <td>0.50</td>\n",
       "      <td>0.613636</td>\n",
       "      <td>0.500000</td>\n",
       "      <td>0.5</td>\n",
       "      <td>0.500000</td>\n",
       "      <td>0.450000</td>\n",
       "    </tr>\n",
       "    <tr>\n",
       "      <th>4</th>\n",
       "      <td>Somerset Ho Chi Minh City</td>\n",
       "      <td>0.900</td>\n",
       "      <td>31/12/2018</td>\n",
       "      <td>0.96</td>\n",
       "      <td>Positive</td>\n",
       "      <td>The apartment is very clean and relatively new...</td>\n",
       "      <td>The apartment is very clean and relatively new...</td>\n",
       "      <td>Vietnam</td>\n",
       "      <td>Ho Chi Minh City</td>\n",
       "      <td>Somerset</td>\n",
       "      <td>0.800000</td>\n",
       "      <td>0.50</td>\n",
       "      <td>0.500000</td>\n",
       "      <td>0.500000</td>\n",
       "      <td>0.5</td>\n",
       "      <td>0.500000</td>\n",
       "      <td>0.651086</td>\n",
       "    </tr>\n",
       "    <tr>\n",
       "      <th>5</th>\n",
       "      <td>Somerset Ekamai Bangkok</td>\n",
       "      <td>0.858</td>\n",
       "      <td>31/12/2018</td>\n",
       "      <td>0.56</td>\n",
       "      <td>Negative</td>\n",
       "      <td>Too far to walk to Thonglor soi 10 and taxi wo...</td>\n",
       "      <td>Too far to walk to Thonglor soi 10 and taxi wo...</td>\n",
       "      <td>Thailand</td>\n",
       "      <td>Bangkok</td>\n",
       "      <td>Somerset</td>\n",
       "      <td>0.500000</td>\n",
       "      <td>0.50</td>\n",
       "      <td>0.500000</td>\n",
       "      <td>0.500000</td>\n",
       "      <td>0.5</td>\n",
       "      <td>0.500000</td>\n",
       "      <td>0.508333</td>\n",
       "    </tr>\n",
       "    <tr>\n",
       "      <th>6</th>\n",
       "      <td>Somerset Ekamai Bangkok</td>\n",
       "      <td>0.858</td>\n",
       "      <td>31/12/2018</td>\n",
       "      <td>1.00</td>\n",
       "      <td>Positive</td>\n",
       "      <td>Positive: Hospitality was outstanding. Great s...</td>\n",
       "      <td>Positive: Hospitality was outstanding. Great s...</td>\n",
       "      <td>Thailand</td>\n",
       "      <td>Bangkok</td>\n",
       "      <td>Somerset</td>\n",
       "      <td>0.500000</td>\n",
       "      <td>0.50</td>\n",
       "      <td>0.787500</td>\n",
       "      <td>1.000000</td>\n",
       "      <td>1.0</td>\n",
       "      <td>0.798958</td>\n",
       "      <td>0.590909</td>\n",
       "    </tr>\n",
       "    <tr>\n",
       "      <th>7</th>\n",
       "      <td>Somerset Heping Shenyang</td>\n",
       "      <td>0.935</td>\n",
       "      <td>31/12/2018</td>\n",
       "      <td>0.92</td>\n",
       "      <td>Positive</td>\n",
       "      <td>I stayed in a 2 bedroom apartment which was sp...</td>\n",
       "      <td>I stayed in a 2 bedroom apartment which was sp...</td>\n",
       "      <td>China, North</td>\n",
       "      <td>Shenyang</td>\n",
       "      <td>Somerset</td>\n",
       "      <td>0.354167</td>\n",
       "      <td>0.50</td>\n",
       "      <td>0.612500</td>\n",
       "      <td>0.500000</td>\n",
       "      <td>0.5</td>\n",
       "      <td>0.500000</td>\n",
       "      <td>0.458333</td>\n",
       "    </tr>\n",
       "    <tr>\n",
       "      <th>8</th>\n",
       "      <td>Somerset Maison Asoke Bangkok</td>\n",
       "      <td>0.909</td>\n",
       "      <td>31/12/2018</td>\n",
       "      <td>1.00</td>\n",
       "      <td>Positive</td>\n",
       "      <td>I stayed in the hotel for 5 nights and the hot...</td>\n",
       "      <td>I stayed in the hotel for 5 nights and the hot...</td>\n",
       "      <td>Thailand</td>\n",
       "      <td>Bangkok</td>\n",
       "      <td>Somerset</td>\n",
       "      <td>0.800000</td>\n",
       "      <td>0.50</td>\n",
       "      <td>0.384091</td>\n",
       "      <td>0.700000</td>\n",
       "      <td>0.5</td>\n",
       "      <td>0.640000</td>\n",
       "      <td>0.900000</td>\n",
       "    </tr>\n",
       "    <tr>\n",
       "      <th>9</th>\n",
       "      <td>Citadines Barbican London</td>\n",
       "      <td>0.884</td>\n",
       "      <td>31/12/2018</td>\n",
       "      <td>1.00</td>\n",
       "      <td>Positive</td>\n",
       "      <td>Great stay here very comfortable bed and the a...</td>\n",
       "      <td>Great stay here very comfortable bed and the a...</td>\n",
       "      <td>United Kingdom</td>\n",
       "      <td>London</td>\n",
       "      <td>Citadines</td>\n",
       "      <td>0.500000</td>\n",
       "      <td>0.50</td>\n",
       "      <td>0.830000</td>\n",
       "      <td>0.500000</td>\n",
       "      <td>0.5</td>\n",
       "      <td>0.500000</td>\n",
       "      <td>0.500000</td>\n",
       "    </tr>\n",
       "    <tr>\n",
       "      <th>10</th>\n",
       "      <td>Somerset Maison Asoke Bangkok</td>\n",
       "      <td>0.909</td>\n",
       "      <td>31/12/2018</td>\n",
       "      <td>0.80</td>\n",
       "      <td>Positive</td>\n",
       "      <td>Great new hotel. Excellent service in a quiete...</td>\n",
       "      <td>Great new hotel. Excellent service in a quiete...</td>\n",
       "      <td>Thailand</td>\n",
       "      <td>Bangkok</td>\n",
       "      <td>Somerset</td>\n",
       "      <td>0.500000</td>\n",
       "      <td>0.50</td>\n",
       "      <td>0.598458</td>\n",
       "      <td>1.000000</td>\n",
       "      <td>0.5</td>\n",
       "      <td>0.425000</td>\n",
       "      <td>0.500000</td>\n",
       "    </tr>\n",
       "    <tr>\n",
       "      <th>11</th>\n",
       "      <td>Somerset Maison Asoke Bangkok</td>\n",
       "      <td>0.909</td>\n",
       "      <td>31/12/2018</td>\n",
       "      <td>1.00</td>\n",
       "      <td>Positive</td>\n",
       "      <td>All the staffs are excellent!!! Appreciate all...</td>\n",
       "      <td>All the staffs are excellent!!! Appreciate all...</td>\n",
       "      <td>Thailand</td>\n",
       "      <td>Bangkok</td>\n",
       "      <td>Somerset</td>\n",
       "      <td>0.500000</td>\n",
       "      <td>0.50</td>\n",
       "      <td>0.500000</td>\n",
       "      <td>0.500000</td>\n",
       "      <td>0.5</td>\n",
       "      <td>0.500000</td>\n",
       "      <td>0.750000</td>\n",
       "    </tr>\n",
       "    <tr>\n",
       "      <th>12</th>\n",
       "      <td>Somerset Maison Asoke Bangkok</td>\n",
       "      <td>0.909</td>\n",
       "      <td>31/12/2018</td>\n",
       "      <td>0.80</td>\n",
       "      <td>Positive</td>\n",
       "      <td>Stayed in Dec. 2018. Overall stay was good. Po...</td>\n",
       "      <td>Stayed in Dec. 2018. Overall stay was good. Po...</td>\n",
       "      <td>Thailand</td>\n",
       "      <td>Bangkok</td>\n",
       "      <td>Somerset</td>\n",
       "      <td>0.500000</td>\n",
       "      <td>0.50</td>\n",
       "      <td>0.570312</td>\n",
       "      <td>0.427083</td>\n",
       "      <td>0.5</td>\n",
       "      <td>0.500000</td>\n",
       "      <td>0.523548</td>\n",
       "    </tr>\n",
       "    <tr>\n",
       "      <th>13</th>\n",
       "      <td>Somerset Maison Asoke Bangkok</td>\n",
       "      <td>0.909</td>\n",
       "      <td>31/12/2018</td>\n",
       "      <td>1.00</td>\n",
       "      <td>Positive</td>\n",
       "      <td>Checked in on a one night layover in Bangkok a...</td>\n",
       "      <td>Checked in on a one night layover in Bangkok a...</td>\n",
       "      <td>Thailand</td>\n",
       "      <td>Bangkok</td>\n",
       "      <td>Somerset</td>\n",
       "      <td>0.519444</td>\n",
       "      <td>0.50</td>\n",
       "      <td>0.630208</td>\n",
       "      <td>0.500000</td>\n",
       "      <td>0.5</td>\n",
       "      <td>0.723611</td>\n",
       "      <td>0.550000</td>\n",
       "    </tr>\n",
       "    <tr>\n",
       "      <th>14</th>\n",
       "      <td>Somerset Heping Shenyang</td>\n",
       "      <td>0.935</td>\n",
       "      <td>31/12/2018</td>\n",
       "      <td>0.92</td>\n",
       "      <td>Positive</td>\n",
       "      <td>Good spacious rooms. The shopping complex belo...</td>\n",
       "      <td>Good spacious rooms. The shopping complex belo...</td>\n",
       "      <td>China, North</td>\n",
       "      <td>Shenyang</td>\n",
       "      <td>Somerset</td>\n",
       "      <td>0.500000</td>\n",
       "      <td>0.50</td>\n",
       "      <td>0.450000</td>\n",
       "      <td>0.500000</td>\n",
       "      <td>0.5</td>\n",
       "      <td>0.500000</td>\n",
       "      <td>0.850000</td>\n",
       "    </tr>\n",
       "    <tr>\n",
       "      <th>15</th>\n",
       "      <td>Citadines Barbican London</td>\n",
       "      <td>0.884</td>\n",
       "      <td>31/12/2018</td>\n",
       "      <td>0.88</td>\n",
       "      <td>Positive</td>\n",
       "      <td>Positive: Very clean, quiet and comfortable ro...</td>\n",
       "      <td>Positive: Very clean, quiet and comfortable ro...</td>\n",
       "      <td>United Kingdom</td>\n",
       "      <td>London</td>\n",
       "      <td>Citadines</td>\n",
       "      <td>0.537500</td>\n",
       "      <td>0.85</td>\n",
       "      <td>1.000000</td>\n",
       "      <td>0.687500</td>\n",
       "      <td>0.5</td>\n",
       "      <td>0.500000</td>\n",
       "      <td>0.572598</td>\n",
       "    </tr>\n",
       "    <tr>\n",
       "      <th>16</th>\n",
       "      <td>Ascott Orchard Singapore</td>\n",
       "      <td>0.876</td>\n",
       "      <td>31/12/2018</td>\n",
       "      <td>1.00</td>\n",
       "      <td>Positive</td>\n",
       "      <td>Stayed for 8 nights at this centrally located ...</td>\n",
       "      <td>Stayed for 8 nights at this centrally located ...</td>\n",
       "      <td>Singapore</td>\n",
       "      <td>Singapore</td>\n",
       "      <td>Ascott</td>\n",
       "      <td>0.500000</td>\n",
       "      <td>0.50</td>\n",
       "      <td>0.500000</td>\n",
       "      <td>0.700000</td>\n",
       "      <td>0.5</td>\n",
       "      <td>0.500000</td>\n",
       "      <td>0.500000</td>\n",
       "    </tr>\n",
       "    <tr>\n",
       "      <th>17</th>\n",
       "      <td>Somerset Bencoolen Singapore</td>\n",
       "      <td>0.834</td>\n",
       "      <td>31/12/2018</td>\n",
       "      <td>0.75</td>\n",
       "      <td>Neutral</td>\n",
       "      <td>Positive: Handy location and awesome pool whic...</td>\n",
       "      <td>Positive: Handy location and awesome pool whic...</td>\n",
       "      <td>Singapore</td>\n",
       "      <td>Singapore</td>\n",
       "      <td>Somerset</td>\n",
       "      <td>0.641667</td>\n",
       "      <td>0.50</td>\n",
       "      <td>0.500000</td>\n",
       "      <td>0.500000</td>\n",
       "      <td>0.5</td>\n",
       "      <td>0.500000</td>\n",
       "      <td>0.631818</td>\n",
       "    </tr>\n",
       "    <tr>\n",
       "      <th>18</th>\n",
       "      <td>Somerset Bencoolen Singapore</td>\n",
       "      <td>0.834</td>\n",
       "      <td>31/12/2018</td>\n",
       "      <td>1.00</td>\n",
       "      <td>Positive</td>\n",
       "      <td>Positive: Centrally located... right from MRT ...</td>\n",
       "      <td>Positive: Centrally located... right from MRT ...</td>\n",
       "      <td>Singapore</td>\n",
       "      <td>Singapore</td>\n",
       "      <td>Somerset</td>\n",
       "      <td>0.750000</td>\n",
       "      <td>0.50</td>\n",
       "      <td>0.642857</td>\n",
       "      <td>0.500000</td>\n",
       "      <td>0.5</td>\n",
       "      <td>0.500000</td>\n",
       "      <td>0.511742</td>\n",
       "    </tr>\n",
       "    <tr>\n",
       "      <th>19</th>\n",
       "      <td>Ascott Orchard Singapore</td>\n",
       "      <td>0.876</td>\n",
       "      <td>31/12/2018</td>\n",
       "      <td>1.00</td>\n",
       "      <td>Positive</td>\n",
       "      <td>Nice location but expensive hotel</td>\n",
       "      <td>Nice location but expensive hotel</td>\n",
       "      <td>Singapore</td>\n",
       "      <td>Singapore</td>\n",
       "      <td>Ascott</td>\n",
       "      <td>0.500000</td>\n",
       "      <td>0.50</td>\n",
       "      <td>0.525000</td>\n",
       "      <td>0.500000</td>\n",
       "      <td>0.5</td>\n",
       "      <td>0.500000</td>\n",
       "      <td>0.500000</td>\n",
       "    </tr>\n",
       "  </tbody>\n",
       "</table>\n",
       "</div>"
      ],
      "text/plain": [
       "                        full_hotel_name    GRI published_date  review_score  \\\n",
       "0                   Ascott Kuala Lumpur  0.882     31/12/2018          0.80   \n",
       "1   Ascott Bonifacio Global City Manila  0.933     31/12/2018          1.00   \n",
       "2              Somerset Berlian Jakarta  0.872     31/12/2018          1.00   \n",
       "3         Citadines City Centre Tbilisi  0.810     31/12/2018          0.92   \n",
       "4             Somerset Ho Chi Minh City  0.900     31/12/2018          0.96   \n",
       "5               Somerset Ekamai Bangkok  0.858     31/12/2018          0.56   \n",
       "6               Somerset Ekamai Bangkok  0.858     31/12/2018          1.00   \n",
       "7              Somerset Heping Shenyang  0.935     31/12/2018          0.92   \n",
       "8         Somerset Maison Asoke Bangkok  0.909     31/12/2018          1.00   \n",
       "9             Citadines Barbican London  0.884     31/12/2018          1.00   \n",
       "10        Somerset Maison Asoke Bangkok  0.909     31/12/2018          0.80   \n",
       "11        Somerset Maison Asoke Bangkok  0.909     31/12/2018          1.00   \n",
       "12        Somerset Maison Asoke Bangkok  0.909     31/12/2018          0.80   \n",
       "13        Somerset Maison Asoke Bangkok  0.909     31/12/2018          1.00   \n",
       "14             Somerset Heping Shenyang  0.935     31/12/2018          0.92   \n",
       "15            Citadines Barbican London  0.884     31/12/2018          0.88   \n",
       "16             Ascott Orchard Singapore  0.876     31/12/2018          1.00   \n",
       "17         Somerset Bencoolen Singapore  0.834     31/12/2018          0.75   \n",
       "18         Somerset Bencoolen Singapore  0.834     31/12/2018          1.00   \n",
       "19             Ascott Orchard Singapore  0.876     31/12/2018          1.00   \n",
       "\n",
       "   classification                                        review_text  \\\n",
       "0        Positive  Stayed at the Ascott for 2 nights, took the 2 ...   \n",
       "1        Positive  Great service overall. Prime location! Excelle...   \n",
       "2        Positive  The location is quite good, bringing family wi...   \n",
       "3        Positive  Positive: location and people at reception. Ne...   \n",
       "4        Positive  The apartment is very clean and relatively new...   \n",
       "5        Negative  Too far to walk to Thonglor soi 10 and taxi wo...   \n",
       "6        Positive  Positive: Hospitality was outstanding. Great s...   \n",
       "7        Positive  I stayed in a 2 bedroom apartment which was sp...   \n",
       "8        Positive  I stayed in the hotel for 5 nights and the hot...   \n",
       "9        Positive  Great stay here very comfortable bed and the a...   \n",
       "10       Positive  Great new hotel. Excellent service in a quiete...   \n",
       "11       Positive  All the staffs are excellent!!! Appreciate all...   \n",
       "12       Positive  Stayed in Dec. 2018. Overall stay was good. Po...   \n",
       "13       Positive  Checked in on a one night layover in Bangkok a...   \n",
       "14       Positive  Good spacious rooms. The shopping complex belo...   \n",
       "15       Positive  Positive: Very clean, quiet and comfortable ro...   \n",
       "16       Positive  Stayed for 8 nights at this centrally located ...   \n",
       "17        Neutral  Positive: Handy location and awesome pool whic...   \n",
       "18       Positive  Positive: Centrally located... right from MRT ...   \n",
       "19       Positive                  Nice location but expensive hotel   \n",
       "\n",
       "                                 review_text_original hotel_country_name  \\\n",
       "0   Stayed at the Ascott for 2 nights, took the 2 ...           Malaysia   \n",
       "1   Great service overall. Prime location! Excelle...        Philippines   \n",
       "2   The location is quite good, bringing family wi...          Indonesia   \n",
       "3   Positive: location and people at reception. Ne...            Georgia   \n",
       "4   The apartment is very clean and relatively new...            Vietnam   \n",
       "5   Too far to walk to Thonglor soi 10 and taxi wo...           Thailand   \n",
       "6   Positive: Hospitality was outstanding. Great s...           Thailand   \n",
       "7   I stayed in a 2 bedroom apartment which was sp...       China, North   \n",
       "8   I stayed in the hotel for 5 nights and the hot...           Thailand   \n",
       "9   Great stay here very comfortable bed and the a...     United Kingdom   \n",
       "10  Great new hotel. Excellent service in a quiete...           Thailand   \n",
       "11  All the staffs are excellent!!! Appreciate all...           Thailand   \n",
       "12  Stayed in Dec. 2018. Overall stay was good. Po...           Thailand   \n",
       "13  Checked in on a one night layover in Bangkok a...           Thailand   \n",
       "14  Good spacious rooms. The shopping complex belo...       China, North   \n",
       "15  Positive: Very clean, quiet and comfortable ro...     United Kingdom   \n",
       "16  Stayed for 8 nights at this centrally located ...          Singapore   \n",
       "17  Positive: Handy location and awesome pool whic...          Singapore   \n",
       "18  Positive: Centrally located... right from MRT ...          Singapore   \n",
       "19                  Nice location but expensive hotel          Singapore   \n",
       "\n",
       "     hotel_city_name hotel_brand_name  aspect_food_score  aspect_value_score  \\\n",
       "0       Kuala Lumpur           Ascott           0.500000                0.50   \n",
       "1             Manila           Ascott           0.500000                0.50   \n",
       "2            Jakarta         Somerset           0.750000                0.50   \n",
       "3            Tbilisi        Citadines           0.500000                0.50   \n",
       "4   Ho Chi Minh City         Somerset           0.800000                0.50   \n",
       "5            Bangkok         Somerset           0.500000                0.50   \n",
       "6            Bangkok         Somerset           0.500000                0.50   \n",
       "7           Shenyang         Somerset           0.354167                0.50   \n",
       "8            Bangkok         Somerset           0.800000                0.50   \n",
       "9             London        Citadines           0.500000                0.50   \n",
       "10           Bangkok         Somerset           0.500000                0.50   \n",
       "11           Bangkok         Somerset           0.500000                0.50   \n",
       "12           Bangkok         Somerset           0.500000                0.50   \n",
       "13           Bangkok         Somerset           0.519444                0.50   \n",
       "14          Shenyang         Somerset           0.500000                0.50   \n",
       "15            London        Citadines           0.537500                0.85   \n",
       "16         Singapore           Ascott           0.500000                0.50   \n",
       "17         Singapore         Somerset           0.641667                0.50   \n",
       "18         Singapore         Somerset           0.750000                0.50   \n",
       "19         Singapore           Ascott           0.500000                0.50   \n",
       "\n",
       "    aspect_location_score  aspect_service_score  aspect_facility_score  \\\n",
       "0                0.598723              0.591667                    0.5   \n",
       "1                0.750000              0.850000                    0.5   \n",
       "2                0.756548              0.500000                    0.5   \n",
       "3                0.613636              0.500000                    0.5   \n",
       "4                0.500000              0.500000                    0.5   \n",
       "5                0.500000              0.500000                    0.5   \n",
       "6                0.787500              1.000000                    1.0   \n",
       "7                0.612500              0.500000                    0.5   \n",
       "8                0.384091              0.700000                    0.5   \n",
       "9                0.830000              0.500000                    0.5   \n",
       "10               0.598458              1.000000                    0.5   \n",
       "11               0.500000              0.500000                    0.5   \n",
       "12               0.570312              0.427083                    0.5   \n",
       "13               0.630208              0.500000                    0.5   \n",
       "14               0.450000              0.500000                    0.5   \n",
       "15               1.000000              0.687500                    0.5   \n",
       "16               0.500000              0.700000                    0.5   \n",
       "17               0.500000              0.500000                    0.5   \n",
       "18               0.642857              0.500000                    0.5   \n",
       "19               0.525000              0.500000                    0.5   \n",
       "\n",
       "    aspect_room_score  aspect_other_score  \n",
       "0            0.500000            0.501010  \n",
       "1            0.500000            0.500000  \n",
       "2            0.500000            0.500000  \n",
       "3            0.500000            0.450000  \n",
       "4            0.500000            0.651086  \n",
       "5            0.500000            0.508333  \n",
       "6            0.798958            0.590909  \n",
       "7            0.500000            0.458333  \n",
       "8            0.640000            0.900000  \n",
       "9            0.500000            0.500000  \n",
       "10           0.425000            0.500000  \n",
       "11           0.500000            0.750000  \n",
       "12           0.500000            0.523548  \n",
       "13           0.723611            0.550000  \n",
       "14           0.500000            0.850000  \n",
       "15           0.500000            0.572598  \n",
       "16           0.500000            0.500000  \n",
       "17           0.500000            0.631818  \n",
       "18           0.500000            0.511742  \n",
       "19           0.500000            0.500000  "
      ]
     },
     "execution_count": 26,
     "metadata": {},
     "output_type": "execute_result"
    }
   ],
   "source": [
    "database.head(20)"
   ]
  },
  {
   "cell_type": "code",
   "execution_count": 27,
   "metadata": {},
   "outputs": [],
   "source": [
    "def pprint_dataframe_output(output_df, top_X):\n",
    "    return \", \".join([k+\": \"+str(round(v, 3)) for k,v in output_df[0:top_X].values.tolist()])"
   ]
  },
  {
   "cell_type": "code",
   "execution_count": 28,
   "metadata": {},
   "outputs": [],
   "source": [
    "def performance_by(country=None, city=None, hotel=None, perf_metric=\"GRI\", top_X=5, \n",
    "                   filter_by_country=None, filter_by_city=None, filter_by_brand=None,\n",
    "                   database=database, ascending_val=False, debug=False):\n",
    "    filter_name, filter_field, filter_item, groupby_name, groupby_field = None, None, None, None, None\n",
    "    top_bottom = \"bottom\" if ascending_val else \"top\"\n",
    "    if filter_by_brand!=None and hotel:\n",
    "        #filter by brand, groupby hotel, sort by top_X, perf_metric\n",
    "        filter_name, filter_field, filter_item = \"brand\", \"hotel_brand_name\", filter_by_brand\n",
    "        groupby_name, groupby_field = \"hotels\", \"full_hotel_name\"\n",
    "        if debug: print(\"filter by city, groupby hotel\")\n",
    "    elif filter_by_city!=None and hotel:\n",
    "        #filter by city, groupby hotel, sort by top_X, perf_metric\n",
    "        filter_name, filter_field, filter_item = \"city\", \"hotel_city_name\", filter_by_city\n",
    "        groupby_name, groupby_field = \"hotels\", \"full_hotel_name\"\n",
    "        if debug: print(\"filter by city, groupby hotel\")\n",
    "    elif filter_by_country!=None and hotel:\n",
    "        #filter by country, groupby hotel, sort by top_X, perf_metric\n",
    "        filter_name, filter_field, filter_item = \"country\", \"hotel_country_name\", filter_by_country\n",
    "        groupby_name, groupby_field = \"hotels\", \"full_hotel_name\"\n",
    "        if debug: print(\"filter by country, groupby hotel\")\n",
    "    elif filter_by_country!=None and city:\n",
    "        #filter by country, groupby city, sort by top_X, perf_metric\n",
    "        filter_name, filter_field, filter_item = \"country\", \"hotel_country_name\", filter_by_country\n",
    "        groupby_name, groupby_field = \"cities\", \"hotel_city_name\"\n",
    "        if debug: print(\"filter by city, groupby hotel\")\n",
    "    elif hotel:\n",
    "        #groupby hotel, sort by top_X, perf_metric\n",
    "        filter_name, filter_field, filter_item = None, None, None\n",
    "        groupby_name, groupby_field = \"hotels\", \"full_hotel_name\"\n",
    "        if debug: print(\"groupby hotel\")\n",
    "    elif city:\n",
    "        #groupby city, sort by top_X, perf_metric\n",
    "        filter_name, filter_field, filter_item = None, None, None\n",
    "        groupby_name, groupby_field = \"cities\", \"hotel_city_name\"\n",
    "        if debug: print(\"groupby city\")\n",
    "    elif country:\n",
    "        #groupby country, sort by top_X, perf_metric\n",
    "        filter_name, filter_field, filter_item = None, None, None\n",
    "        groupby_name, groupby_field = \"countries\", \"hotel_country_name\"\n",
    "        if debug: print(\"groupby country\")\n",
    "    else:\n",
    "        return \"Unable to answer, error\"\n",
    "    try:\n",
    "        if filter_field != None:\n",
    "            if debug: print(\"filter col is %s, item is %s\" %(filter_field, filter_item))\n",
    "            filtered_df = database[database[filter_field] == filter_item]\n",
    "            output_df = filtered_df.groupby(groupby_field).agg({perf_metric:\"mean\"}).reset_index().sort_values(perf_metric, ascending=ascending_val)\n",
    "            return \"The %s %s %s in %s are %s by %s\" %(top_bottom, top_X, groupby_name, filter_item, pprint_dataframe_output(output_df, top_X), perf_metric)\n",
    "        else:\n",
    "            output_df = database.groupby(groupby_field).agg({perf_metric:\"mean\"}).reset_index().sort_values(perf_metric, ascending=ascending_val)\n",
    "            return \"The %s %s %s are %s by %s\" %(top_bottom, top_X, groupby_name, pprint_dataframe_output(output_df, top_X), perf_metric)\n",
    "    except:\n",
    "        return \"The %s %s is not in our dataset\" %(filter_name, filter_item)"
   ]
  },
  {
   "cell_type": "code",
   "execution_count": 29,
   "metadata": {},
   "outputs": [],
   "source": [
    "def list_aspect(filter_by_hotel=None, top_X=5,\n",
    "                database=database, ascending_val=False, debug=False):\n",
    "    aspect_scores = [x for x in database.columns.tolist() if \"aspect\" in x]\n",
    "    #aspect_scores = [\"aspect_food_score\", \"aspect_location_score\", \"aspect_service_score\"]\n",
    "    filter_name, filter_field, filter_item = \"hotel\", \"full_hotel_name\", filter_by_hotel\n",
    "    best_worst = \"worst\" if ascending_val else \"best\"\n",
    "\n",
    "    try:\n",
    "        if filter_by_hotel != None:\n",
    "            if debug: print(\"filter col is %s, item is %s\" %(filter_field, filter_item))\n",
    "            filtered_df = database[database[filter_field] == filter_item]\n",
    "            output_df = filtered_df.groupby(filter_field)[aspect_scores].agg([\"mean\"]).reset_index()\n",
    "            output_df.columns = output_df.columns.get_level_values(0)\n",
    "            sorted_aspect_df = output_df[aspect_scores].melt().sort_values(by=\"value\", ascending=ascending_val)\n",
    "            aspect = sorted_aspect_df[\"variable\"].values[0].split(\"_\")[1]\n",
    "            \n",
    "            return \"The %s aspect of %s is %s. \\n%s\" %(best_worst, filter_item, aspect, pprint_dataframe_output(sorted_aspect_df, top_X))\n",
    "    except:\n",
    "        return \"The %s %s is not in our dataset\" %(filter_name, filter_item)    "
   ]
  },
  {
   "cell_type": "code",
   "execution_count": 32,
   "metadata": {},
   "outputs": [],
   "source": [
    "def query_performance(filter_by_hotel=None, perf_metric=\"GRI\", top_X=1,\n",
    "                      database=database, ascending_val=False, debug=False):\n",
    "    \n",
    "    filter_name, filter_field, filter_item = \"hotel\", \"full_hotel_name\", filter_by_hotel\n",
    "    best_worst = \"worst\" if ascending_val else \"best\"\n",
    "\n",
    "    try:\n",
    "        if filter_by_hotel != None:\n",
    "            if debug: print(\"filter col is %s, item is %s\" %(filter_field, filter_item))\n",
    "            filtered_df = database[database[filter_field] == filter_item]\n",
    "            output_df = filtered_df.groupby(filter_field).agg({perf_metric:\"mean\"}).reset_index().sort_values(perf_metric, ascending=ascending_val)\n",
    "            return \"For %s, %s\" %(perf_metric, pprint_dataframe_output(output_df, top_X))\n",
    "    except:\n",
    "        return \"The %s %s is not in our dataset\" %(filter_name, filter_item)    "
   ]
  },
  {
   "cell_type": "code",
   "execution_count": 33,
   "metadata": {},
   "outputs": [],
   "source": [
    "# database[database[\"hotel_country_name\"] == \"France\"].groupby(\"hotel_city_name\").agg({\"GRI\":\"mean\"}).reset_index()"
   ]
  },
  {
   "cell_type": "code",
   "execution_count": 34,
   "metadata": {},
   "outputs": [
    {
     "name": "stdout",
     "output_type": "stream",
     "text": [
      "The top 5 hotels in Singapore are Ascott Raffles Place Singapore: 0.882, Citadines Balestier Singapore: 0.872, Citadines Fusionopolis Singapore: 0.858, Citadines Rochor Singapore: 0.857, Citadines Mount Sophia Singapore: 0.854 by review_score\n"
     ]
    }
   ],
   "source": [
    "print(performance_by(perf_metric=\"review_score\", hotel=True, filter_by_city=\"Singapore\"))"
   ]
  },
  {
   "cell_type": "code",
   "execution_count": 35,
   "metadata": {},
   "outputs": [
    {
     "name": "stdout",
     "output_type": "stream",
     "text": [
      "The top 5 hotels in Citadines are Citadines Taoyuanju Chongqing: 0.99, Citadines Songshan Lake Dongguan: 0.967, Citadines Cebu City: 0.957, Citadines Namba Osaka: 0.929, Citadines Bay City Manila: 0.929 by GRI\n"
     ]
    }
   ],
   "source": [
    "print(performance_by(hotel=True, filter_by_brand=\"Citadines\"))"
   ]
  },
  {
   "cell_type": "code",
   "execution_count": 36,
   "metadata": {},
   "outputs": [
    {
     "name": "stdout",
     "output_type": "stream",
     "text": [
      "The top 5 hotels in Singapore are Ascott Raffles Place Singapore: 0.897, Citadines Balestier Singapore: 0.889, Ascott Orchard Singapore: 0.876, lyf Funan Singapore: 0.876, Citadines Rochor Singapore: 0.876 by GRI\n"
     ]
    }
   ],
   "source": [
    "print(performance_by(hotel=True, filter_by_city=\"Singapore\"))"
   ]
  },
  {
   "cell_type": "code",
   "execution_count": 37,
   "metadata": {},
   "outputs": [
    {
     "name": "stdout",
     "output_type": "stream",
     "text": [
      "The top 5 hotels in France are La Clef Champs-Élysées Paris: 0.911, Citadines Saint-Germain-des-Prés Paris: 0.857, Citadines Kléber Strasbourg: 0.856, Citadines Antigone Montpellier: 0.855, Citadines Trocadéro Paris: 0.853 by GRI\n"
     ]
    }
   ],
   "source": [
    "print(performance_by(hotel=True, filter_by_country=\"France\"))"
   ]
  },
  {
   "cell_type": "code",
   "execution_count": 38,
   "metadata": {},
   "outputs": [
    {
     "name": "stdout",
     "output_type": "stream",
     "text": [
      "The top 10 hotels in France are La Clef Champs-Élysées Paris: 0.911, Citadines Saint-Germain-des-Prés Paris: 0.857, Citadines Kléber Strasbourg: 0.856, Citadines Antigone Montpellier: 0.855, Citadines Trocadéro Paris: 0.853, Citadines Croisette Cannes: 0.851, Citadines City Centre Grenoble: 0.848, Citadines Castellane Marseille: 0.848, Citadines Bastille Marais Paris: 0.837, Citadines City Centre Lille: 0.836 by GRI\n"
     ]
    }
   ],
   "source": [
    "print(performance_by(hotel=True, filter_by_country=\"France\", top_X=10))"
   ]
  },
  {
   "cell_type": "code",
   "execution_count": 39,
   "metadata": {},
   "outputs": [
    {
     "name": "stdout",
     "output_type": "stream",
     "text": [
      "The top 5 cities in France are Strasbourg: 0.856, Montpellier: 0.855, Cannes: 0.851, Grenoble: 0.848, Marseille: 0.842 by GRI\n"
     ]
    }
   ],
   "source": [
    "print(performance_by(city=True, filter_by_country=\"France\"))"
   ]
  },
  {
   "cell_type": "code",
   "execution_count": 40,
   "metadata": {},
   "outputs": [
    {
     "name": "stdout",
     "output_type": "stream",
     "text": [
      "groupby country\n",
      "The top 5 countries are China, Central West: 0.924, The Netherlands: 0.914, China, North: 0.909, Australia: 0.904, Philippines: 0.904 by GRI\n"
     ]
    }
   ],
   "source": [
    "print(performance_by(country=True, debug=True))"
   ]
  },
  {
   "cell_type": "code",
   "execution_count": 41,
   "metadata": {},
   "outputs": [
    {
     "name": "stdout",
     "output_type": "stream",
     "text": [
      "The top 5 hotels are Somerset Zhongmao Changchun: 0.996, Citadines Taoyuanju Chongqing: 0.99, Citadines Songshan Lake Dongguan: 0.967, Citadines Cebu City: 0.957, Somerset IOC Hangzhou: 0.956 by GRI\n"
     ]
    }
   ],
   "source": [
    "print(performance_by(hotel=True))"
   ]
  },
  {
   "cell_type": "code",
   "execution_count": 42,
   "metadata": {},
   "outputs": [
    {
     "name": "stdout",
     "output_type": "stream",
     "text": [
      "The top 5 cities are China: 0.971, Hefei: 0.948, Wuxi: 0.942, Nantong: 0.941, Hangzhou: 0.937 by GRI\n"
     ]
    }
   ],
   "source": [
    "print(performance_by(city=True))"
   ]
  },
  {
   "cell_type": "code",
   "execution_count": 43,
   "metadata": {},
   "outputs": [
    {
     "name": "stdout",
     "output_type": "stream",
     "text": [
      "The bottom 10 cities are Dongguan: 0.326, Riyadh: 0.795, Sunnyvale: 0.808, Tbilisi: 0.808, New York: 0.812, Paris: 0.831, Hongkong: 0.831, Toulouse: 0.831, HongKong: 0.834, Jeddah: 0.834 by GRI\n"
     ]
    }
   ],
   "source": [
    "print(performance_by(city=True, top_X=10, ascending_val=True))"
   ]
  },
  {
   "cell_type": "code",
   "execution_count": 44,
   "metadata": {},
   "outputs": [
    {
     "name": "stdout",
     "output_type": "stream",
     "text": [
      "The worst aspect of Citadines Croisette Cannes is facility. \n",
      "aspect_facility_score: 0.515, aspect_value_score: 0.526, aspect_room_score: 0.532, aspect_food_score: 0.538, aspect_other_score: 0.55\n"
     ]
    }
   ],
   "source": [
    "print(list_aspect(filter_by_hotel=\"Citadines Croisette Cannes\", database=database, ascending_val=True))"
   ]
  },
  {
   "cell_type": "code",
   "execution_count": 45,
   "metadata": {},
   "outputs": [
    {
     "name": "stdout",
     "output_type": "stream",
     "text": [
      "The best aspect of Citadines Croisette Cannes is location. \n",
      "aspect_location_score: 0.596, aspect_service_score: 0.557, aspect_other_score: 0.55, aspect_food_score: 0.538, aspect_room_score: 0.532\n"
     ]
    }
   ],
   "source": [
    "print(list_aspect(filter_by_hotel=\"Citadines Croisette Cannes\", database=database, ascending_val=False))"
   ]
  },
  {
   "cell_type": "code",
   "execution_count": 46,
   "metadata": {},
   "outputs": [],
   "source": [
    "# filter_by_hotel = \"Citadines Croisette Cannes\"\n",
    "\n",
    "# aspect_scores = [\"aspect_food_score\", \"aspect_location_score\", \"aspect_service_score\"]\n",
    "# filter_name, filter_field, filter_item = \"hotel\", \"full_hotel_name\", filter_by_hotel\n",
    "# best_worst = \"worst\" if ascending_val else \"best\"\n",
    "\n",
    "# filtered_df = database[database[filter_field] == filter_item]\n",
    "# output_df = database[database[filter_field] == filter_item].groupby(filter_field)[aspect_scores].agg([\"mean\"]).reset_index()\n",
    "# output_df.columns = output_df.columns.get_level_values(0)\n",
    "# sorted_aspect_df = output_df[aspect_scores].melt().sort_values(by=\"value\", ascending=ascending_val)\n",
    "# aspect = sorted_aspect_df[\"variable\"].values[0].split(\"_\")[1]\n",
    "\n",
    "# aspect"
   ]
  },
  {
   "cell_type": "code",
   "execution_count": 47,
   "metadata": {},
   "outputs": [
    {
     "name": "stdout",
     "output_type": "stream",
     "text": [
      "For review_score, Citadines Croisette Cannes: 0.845\n"
     ]
    }
   ],
   "source": [
    "print(query_performance(\"Citadines Croisette Cannes\", perf_metric=\"review_score\"))"
   ]
  },
  {
   "cell_type": "code",
   "execution_count": 48,
   "metadata": {},
   "outputs": [
    {
     "name": "stdout",
     "output_type": "stream",
     "text": [
      "For GRI, Citadines Croisette Cannes: 0.851\n"
     ]
    }
   ],
   "source": [
    "print(query_performance(\"Citadines Croisette Cannes\", perf_metric=\"GRI\"))"
   ]
  },
  {
   "cell_type": "code",
   "execution_count": 49,
   "metadata": {},
   "outputs": [],
   "source": [
    "# filter_by_hotel = \"Citadines Croisette Cannes\"\n",
    "# perf_metric = \"GRI\"\n",
    "\n",
    "# filter_name, filter_field, filter_item = \"hotel\", \"full_hotel_name\", filter_by_hotel\n",
    "# best_worst = \"worst\" if ascending_val else \"best\"\n",
    "\n",
    "\n",
    "# filtered_df = database[database[filter_field] == filter_item]\n",
    "# output_df = filtered_df.groupby(filter_field).agg({perf_metric:\"mean\"}).reset_index()"
   ]
  },
  {
   "cell_type": "code",
   "execution_count": null,
   "metadata": {},
   "outputs": [],
   "source": []
  }
 ],
 "metadata": {
  "kernelspec": {
   "display_name": "Python 3",
   "language": "python",
   "name": "python3"
  },
  "language_info": {
   "codemirror_mode": {
    "name": "ipython",
    "version": 3
   },
   "file_extension": ".py",
   "mimetype": "text/x-python",
   "name": "python",
   "nbconvert_exporter": "python",
   "pygments_lexer": "ipython3",
   "version": "3.6.5"
  },
  "varInspector": {
   "cols": {
    "lenName": 16,
    "lenType": 16,
    "lenVar": 40
   },
   "kernels_config": {
    "python": {
     "delete_cmd_postfix": "",
     "delete_cmd_prefix": "del ",
     "library": "var_list.py",
     "varRefreshCmd": "print(var_dic_list())"
    },
    "r": {
     "delete_cmd_postfix": ") ",
     "delete_cmd_prefix": "rm(",
     "library": "var_list.r",
     "varRefreshCmd": "cat(var_dic_list()) "
    }
   },
   "types_to_exclude": [
    "module",
    "function",
    "builtin_function_or_method",
    "instance",
    "_Feature"
   ],
   "window_display": false
  }
 },
 "nbformat": 4,
 "nbformat_minor": 2
}
