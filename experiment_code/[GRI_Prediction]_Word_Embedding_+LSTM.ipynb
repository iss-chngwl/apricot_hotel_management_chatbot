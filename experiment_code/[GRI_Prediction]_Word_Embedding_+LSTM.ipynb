{
  "nbformat": 4,
  "nbformat_minor": 0,
  "metadata": {
    "colab": {
      "name": "[GRI Prediction] Word Embedding +LSTM",
      "provenance": [],
      "collapsed_sections": []
    },
    "kernelspec": {
      "name": "python3",
      "display_name": "Python 3"
    },
    "accelerator": "GPU"
  },
  "cells": [
    {
      "cell_type": "code",
      "metadata": {
        "id": "XjjxrjCCDu7w",
        "outputId": "20b049c3-8709-4f88-f893-2dbce7fe2f47",
        "colab": {
          "base_uri": "https://localhost:8080/"
        }
      },
      "source": [
        "from google.colab import drive\n",
        "drive.mount('/content/drive')"
      ],
      "execution_count": null,
      "outputs": [
        {
          "output_type": "stream",
          "text": [
            "Mounted at /content/drive\n"
          ],
          "name": "stdout"
        }
      ]
    },
    {
      "cell_type": "code",
      "metadata": {
        "id": "pDG1RTfcnAWb",
        "outputId": "fd43c8fd-3f72-4106-ab5c-7c4ee230eba0",
        "colab": {
          "base_uri": "https://localhost:8080/"
        }
      },
      "source": [
        "!pip install tensorflow==2.1.0"
      ],
      "execution_count": null,
      "outputs": [
        {
          "output_type": "stream",
          "text": [
            "Collecting tensorflow==2.1.0\n",
            "\u001b[?25l  Downloading https://files.pythonhosted.org/packages/85/d4/c0cd1057b331bc38b65478302114194bd8e1b9c2bbc06e300935c0e93d90/tensorflow-2.1.0-cp36-cp36m-manylinux2010_x86_64.whl (421.8MB)\n",
            "\u001b[K     |████████████████████████████████| 421.8MB 28kB/s \n",
            "\u001b[?25hCollecting keras-applications>=1.0.8\n",
            "\u001b[?25l  Downloading https://files.pythonhosted.org/packages/71/e3/19762fdfc62877ae9102edf6342d71b28fbfd9dea3d2f96a882ce099b03f/Keras_Applications-1.0.8-py3-none-any.whl (50kB)\n",
            "\u001b[K     |████████████████████████████████| 51kB 7.5MB/s \n",
            "\u001b[?25hRequirement already satisfied: numpy<2.0,>=1.16.0 in /usr/local/lib/python3.6/dist-packages (from tensorflow==2.1.0) (1.18.5)\n",
            "Requirement already satisfied: wrapt>=1.11.1 in /usr/local/lib/python3.6/dist-packages (from tensorflow==2.1.0) (1.12.1)\n",
            "Requirement already satisfied: six>=1.12.0 in /usr/local/lib/python3.6/dist-packages (from tensorflow==2.1.0) (1.15.0)\n",
            "Requirement already satisfied: grpcio>=1.8.6 in /usr/local/lib/python3.6/dist-packages (from tensorflow==2.1.0) (1.33.1)\n",
            "Requirement already satisfied: wheel>=0.26; python_version >= \"3\" in /usr/local/lib/python3.6/dist-packages (from tensorflow==2.1.0) (0.35.1)\n",
            "Requirement already satisfied: keras-preprocessing>=1.1.0 in /usr/local/lib/python3.6/dist-packages (from tensorflow==2.1.0) (1.1.2)\n",
            "Requirement already satisfied: scipy==1.4.1; python_version >= \"3\" in /usr/local/lib/python3.6/dist-packages (from tensorflow==2.1.0) (1.4.1)\n",
            "Requirement already satisfied: astor>=0.6.0 in /usr/local/lib/python3.6/dist-packages (from tensorflow==2.1.0) (0.8.1)\n",
            "Requirement already satisfied: opt-einsum>=2.3.2 in /usr/local/lib/python3.6/dist-packages (from tensorflow==2.1.0) (3.3.0)\n",
            "Requirement already satisfied: protobuf>=3.8.0 in /usr/local/lib/python3.6/dist-packages (from tensorflow==2.1.0) (3.12.4)\n",
            "Requirement already satisfied: termcolor>=1.1.0 in /usr/local/lib/python3.6/dist-packages (from tensorflow==2.1.0) (1.1.0)\n",
            "Requirement already satisfied: absl-py>=0.7.0 in /usr/local/lib/python3.6/dist-packages (from tensorflow==2.1.0) (0.10.0)\n",
            "Requirement already satisfied: google-pasta>=0.1.6 in /usr/local/lib/python3.6/dist-packages (from tensorflow==2.1.0) (0.2.0)\n",
            "Collecting tensorflow-estimator<2.2.0,>=2.1.0rc0\n",
            "\u001b[?25l  Downloading https://files.pythonhosted.org/packages/18/90/b77c328a1304437ab1310b463e533fa7689f4bfc41549593056d812fab8e/tensorflow_estimator-2.1.0-py2.py3-none-any.whl (448kB)\n",
            "\u001b[K     |████████████████████████████████| 450kB 52.5MB/s \n",
            "\u001b[?25hCollecting gast==0.2.2\n",
            "  Downloading https://files.pythonhosted.org/packages/4e/35/11749bf99b2d4e3cceb4d55ca22590b0d7c2c62b9de38ac4a4a7f4687421/gast-0.2.2.tar.gz\n",
            "Collecting tensorboard<2.2.0,>=2.1.0\n",
            "\u001b[?25l  Downloading https://files.pythonhosted.org/packages/d9/41/bbf49b61370e4f4d245d4c6051dfb6db80cec672605c91b1652ac8cc3d38/tensorboard-2.1.1-py3-none-any.whl (3.8MB)\n",
            "\u001b[K     |████████████████████████████████| 3.9MB 44.9MB/s \n",
            "\u001b[?25hRequirement already satisfied: h5py in /usr/local/lib/python3.6/dist-packages (from keras-applications>=1.0.8->tensorflow==2.1.0) (2.10.0)\n",
            "Requirement already satisfied: setuptools in /usr/local/lib/python3.6/dist-packages (from protobuf>=3.8.0->tensorflow==2.1.0) (50.3.2)\n",
            "Requirement already satisfied: markdown>=2.6.8 in /usr/local/lib/python3.6/dist-packages (from tensorboard<2.2.0,>=2.1.0->tensorflow==2.1.0) (3.3.2)\n",
            "Requirement already satisfied: werkzeug>=0.11.15 in /usr/local/lib/python3.6/dist-packages (from tensorboard<2.2.0,>=2.1.0->tensorflow==2.1.0) (1.0.1)\n",
            "Requirement already satisfied: google-auth-oauthlib<0.5,>=0.4.1 in /usr/local/lib/python3.6/dist-packages (from tensorboard<2.2.0,>=2.1.0->tensorflow==2.1.0) (0.4.1)\n",
            "Requirement already satisfied: requests<3,>=2.21.0 in /usr/local/lib/python3.6/dist-packages (from tensorboard<2.2.0,>=2.1.0->tensorflow==2.1.0) (2.23.0)\n",
            "Requirement already satisfied: google-auth<2,>=1.6.3 in /usr/local/lib/python3.6/dist-packages (from tensorboard<2.2.0,>=2.1.0->tensorflow==2.1.0) (1.17.2)\n",
            "Requirement already satisfied: importlib-metadata; python_version < \"3.8\" in /usr/local/lib/python3.6/dist-packages (from markdown>=2.6.8->tensorboard<2.2.0,>=2.1.0->tensorflow==2.1.0) (2.0.0)\n",
            "Requirement already satisfied: requests-oauthlib>=0.7.0 in /usr/local/lib/python3.6/dist-packages (from google-auth-oauthlib<0.5,>=0.4.1->tensorboard<2.2.0,>=2.1.0->tensorflow==2.1.0) (1.3.0)\n",
            "Requirement already satisfied: certifi>=2017.4.17 in /usr/local/lib/python3.6/dist-packages (from requests<3,>=2.21.0->tensorboard<2.2.0,>=2.1.0->tensorflow==2.1.0) (2020.6.20)\n",
            "Requirement already satisfied: urllib3!=1.25.0,!=1.25.1,<1.26,>=1.21.1 in /usr/local/lib/python3.6/dist-packages (from requests<3,>=2.21.0->tensorboard<2.2.0,>=2.1.0->tensorflow==2.1.0) (1.24.3)\n",
            "Requirement already satisfied: idna<3,>=2.5 in /usr/local/lib/python3.6/dist-packages (from requests<3,>=2.21.0->tensorboard<2.2.0,>=2.1.0->tensorflow==2.1.0) (2.10)\n",
            "Requirement already satisfied: chardet<4,>=3.0.2 in /usr/local/lib/python3.6/dist-packages (from requests<3,>=2.21.0->tensorboard<2.2.0,>=2.1.0->tensorflow==2.1.0) (3.0.4)\n",
            "Requirement already satisfied: cachetools<5.0,>=2.0.0 in /usr/local/lib/python3.6/dist-packages (from google-auth<2,>=1.6.3->tensorboard<2.2.0,>=2.1.0->tensorflow==2.1.0) (4.1.1)\n",
            "Requirement already satisfied: pyasn1-modules>=0.2.1 in /usr/local/lib/python3.6/dist-packages (from google-auth<2,>=1.6.3->tensorboard<2.2.0,>=2.1.0->tensorflow==2.1.0) (0.2.8)\n",
            "Requirement already satisfied: rsa<5,>=3.1.4; python_version >= \"3\" in /usr/local/lib/python3.6/dist-packages (from google-auth<2,>=1.6.3->tensorboard<2.2.0,>=2.1.0->tensorflow==2.1.0) (4.6)\n",
            "Requirement already satisfied: zipp>=0.5 in /usr/local/lib/python3.6/dist-packages (from importlib-metadata; python_version < \"3.8\"->markdown>=2.6.8->tensorboard<2.2.0,>=2.1.0->tensorflow==2.1.0) (3.3.1)\n",
            "Requirement already satisfied: oauthlib>=3.0.0 in /usr/local/lib/python3.6/dist-packages (from requests-oauthlib>=0.7.0->google-auth-oauthlib<0.5,>=0.4.1->tensorboard<2.2.0,>=2.1.0->tensorflow==2.1.0) (3.1.0)\n",
            "Requirement already satisfied: pyasn1<0.5.0,>=0.4.6 in /usr/local/lib/python3.6/dist-packages (from pyasn1-modules>=0.2.1->google-auth<2,>=1.6.3->tensorboard<2.2.0,>=2.1.0->tensorflow==2.1.0) (0.4.8)\n",
            "Building wheels for collected packages: gast\n",
            "  Building wheel for gast (setup.py) ... \u001b[?25l\u001b[?25hdone\n",
            "  Created wheel for gast: filename=gast-0.2.2-cp36-none-any.whl size=7542 sha256=ad36c2e3c658e49caa4b5eea5a493061fcc2f9e0e4525ccb0ccaba54dff2df96\n",
            "  Stored in directory: /root/.cache/pip/wheels/5c/2e/7e/a1d4d4fcebe6c381f378ce7743a3ced3699feb89bcfbdadadd\n",
            "Successfully built gast\n",
            "\u001b[31mERROR: tensorflow-probability 0.11.0 has requirement gast>=0.3.2, but you'll have gast 0.2.2 which is incompatible.\u001b[0m\n",
            "Installing collected packages: keras-applications, tensorflow-estimator, gast, tensorboard, tensorflow\n",
            "  Found existing installation: tensorflow-estimator 2.3.0\n",
            "    Uninstalling tensorflow-estimator-2.3.0:\n",
            "      Successfully uninstalled tensorflow-estimator-2.3.0\n",
            "  Found existing installation: gast 0.3.3\n",
            "    Uninstalling gast-0.3.3:\n",
            "      Successfully uninstalled gast-0.3.3\n",
            "  Found existing installation: tensorboard 2.3.0\n",
            "    Uninstalling tensorboard-2.3.0:\n",
            "      Successfully uninstalled tensorboard-2.3.0\n",
            "  Found existing installation: tensorflow 2.3.0\n",
            "    Uninstalling tensorflow-2.3.0:\n",
            "      Successfully uninstalled tensorflow-2.3.0\n",
            "Successfully installed gast-0.2.2 keras-applications-1.0.8 tensorboard-2.1.1 tensorflow-2.1.0 tensorflow-estimator-2.1.0\n"
          ],
          "name": "stdout"
        }
      ]
    },
    {
      "cell_type": "code",
      "metadata": {
        "id": "i41gcetcnD47",
        "outputId": "99fad9bb-863f-40b4-8fdb-c4496d800f99",
        "colab": {
          "base_uri": "https://localhost:8080/"
        }
      },
      "source": [
        "!pip install keras==2.3.1"
      ],
      "execution_count": null,
      "outputs": [
        {
          "output_type": "stream",
          "text": [
            "Collecting keras==2.3.1\n",
            "\u001b[?25l  Downloading https://files.pythonhosted.org/packages/ad/fd/6bfe87920d7f4fd475acd28500a42482b6b84479832bdc0fe9e589a60ceb/Keras-2.3.1-py2.py3-none-any.whl (377kB)\n",
            "\r\u001b[K     |▉                               | 10kB 22.7MB/s eta 0:00:01\r\u001b[K     |█▊                              | 20kB 2.7MB/s eta 0:00:01\r\u001b[K     |██▋                             | 30kB 3.6MB/s eta 0:00:01\r\u001b[K     |███▌                            | 40kB 4.1MB/s eta 0:00:01\r\u001b[K     |████▍                           | 51kB 3.5MB/s eta 0:00:01\r\u001b[K     |█████▏                          | 61kB 3.9MB/s eta 0:00:01\r\u001b[K     |██████                          | 71kB 4.4MB/s eta 0:00:01\r\u001b[K     |███████                         | 81kB 4.8MB/s eta 0:00:01\r\u001b[K     |███████▉                        | 92kB 4.9MB/s eta 0:00:01\r\u001b[K     |████████▊                       | 102kB 4.6MB/s eta 0:00:01\r\u001b[K     |█████████▌                      | 112kB 4.6MB/s eta 0:00:01\r\u001b[K     |██████████▍                     | 122kB 4.6MB/s eta 0:00:01\r\u001b[K     |███████████▎                    | 133kB 4.6MB/s eta 0:00:01\r\u001b[K     |████████████▏                   | 143kB 4.6MB/s eta 0:00:01\r\u001b[K     |█████████████                   | 153kB 4.6MB/s eta 0:00:01\r\u001b[K     |█████████████▉                  | 163kB 4.6MB/s eta 0:00:01\r\u001b[K     |██████████████▊                 | 174kB 4.6MB/s eta 0:00:01\r\u001b[K     |███████████████▋                | 184kB 4.6MB/s eta 0:00:01\r\u001b[K     |████████████████▌               | 194kB 4.6MB/s eta 0:00:01\r\u001b[K     |█████████████████▍              | 204kB 4.6MB/s eta 0:00:01\r\u001b[K     |██████████████████▏             | 215kB 4.6MB/s eta 0:00:01\r\u001b[K     |███████████████████             | 225kB 4.6MB/s eta 0:00:01\r\u001b[K     |████████████████████            | 235kB 4.6MB/s eta 0:00:01\r\u001b[K     |████████████████████▉           | 245kB 4.6MB/s eta 0:00:01\r\u001b[K     |█████████████████████▊          | 256kB 4.6MB/s eta 0:00:01\r\u001b[K     |██████████████████████▌         | 266kB 4.6MB/s eta 0:00:01\r\u001b[K     |███████████████████████▍        | 276kB 4.6MB/s eta 0:00:01\r\u001b[K     |████████████████████████▎       | 286kB 4.6MB/s eta 0:00:01\r\u001b[K     |█████████████████████████▏      | 296kB 4.6MB/s eta 0:00:01\r\u001b[K     |██████████████████████████      | 307kB 4.6MB/s eta 0:00:01\r\u001b[K     |██████████████████████████▉     | 317kB 4.6MB/s eta 0:00:01\r\u001b[K     |███████████████████████████▊    | 327kB 4.6MB/s eta 0:00:01\r\u001b[K     |████████████████████████████▋   | 337kB 4.6MB/s eta 0:00:01\r\u001b[K     |█████████████████████████████▌  | 348kB 4.6MB/s eta 0:00:01\r\u001b[K     |██████████████████████████████▍ | 358kB 4.6MB/s eta 0:00:01\r\u001b[K     |███████████████████████████████▏| 368kB 4.6MB/s eta 0:00:01\r\u001b[K     |████████████████████████████████| 378kB 4.6MB/s \n",
            "\u001b[?25hRequirement already satisfied: keras-applications>=1.0.6 in /usr/local/lib/python3.6/dist-packages (from keras==2.3.1) (1.0.8)\n",
            "Requirement already satisfied: pyyaml in /usr/local/lib/python3.6/dist-packages (from keras==2.3.1) (3.13)\n",
            "Requirement already satisfied: h5py in /usr/local/lib/python3.6/dist-packages (from keras==2.3.1) (2.10.0)\n",
            "Requirement already satisfied: keras-preprocessing>=1.0.5 in /usr/local/lib/python3.6/dist-packages (from keras==2.3.1) (1.1.2)\n",
            "Requirement already satisfied: numpy>=1.9.1 in /usr/local/lib/python3.6/dist-packages (from keras==2.3.1) (1.18.5)\n",
            "Requirement already satisfied: six>=1.9.0 in /usr/local/lib/python3.6/dist-packages (from keras==2.3.1) (1.15.0)\n",
            "Requirement already satisfied: scipy>=0.14 in /usr/local/lib/python3.6/dist-packages (from keras==2.3.1) (1.4.1)\n",
            "Installing collected packages: keras\n",
            "  Found existing installation: Keras 2.4.3\n",
            "    Uninstalling Keras-2.4.3:\n",
            "      Successfully uninstalled Keras-2.4.3\n",
            "Successfully installed keras-2.3.1\n"
          ],
          "name": "stdout"
        }
      ]
    },
    {
      "cell_type": "code",
      "metadata": {
        "id": "sQDjFDWhbCF4"
      },
      "source": [
        "import pandas as pd\n",
        "\n",
        "df2019 = pd.read_excel('drive/My Drive/Colab Data/2019 All Reviews.xlsx', sheet_name='Tracking')\n",
        "df2020 = pd.read_excel('drive/My Drive/Colab Data/2020 All Reviews.xlsx', sheet_name='Tracking')"
      ],
      "execution_count": null,
      "outputs": []
    },
    {
      "cell_type": "code",
      "metadata": {
        "id": "tTIKUjO7bQLn"
      },
      "source": [
        "df2019.columns = df2019.iloc[6]\n",
        "df2019 = df2019.iloc[7:]\n",
        "df2019 = df2019.reset_index()\n",
        "\n",
        "df2020.columns = df2020.iloc[6]\n",
        "df2020 = df2020.iloc[7:]\n",
        "df2020 = df2020.reset_index()"
      ],
      "execution_count": null,
      "outputs": []
    },
    {
      "cell_type": "code",
      "metadata": {
        "id": "qQatjq7wbRSP",
        "outputId": "cbd941d9-d6b2-4bde-b370-0bae001c25d9",
        "colab": {
          "base_uri": "https://localhost:8080/"
        }
      },
      "source": [
        "df2019 = df2019.loc[df2019.Language.isin(['en'])]\n",
        "df2019 = df2019[df2019['Review Text'].notnull()]\n",
        "df2019.shape"
      ],
      "execution_count": null,
      "outputs": [
        {
          "output_type": "execute_result",
          "data": {
            "text/plain": [
              "(51637, 41)"
            ]
          },
          "metadata": {
            "tags": []
          },
          "execution_count": 6
        }
      ]
    },
    {
      "cell_type": "code",
      "metadata": {
        "id": "NAVKyqtHbXgo",
        "outputId": "60937213-2f4d-4fb3-8387-3a757561649a",
        "colab": {
          "base_uri": "https://localhost:8080/"
        }
      },
      "source": [
        "df2020 = df2020.loc[df2020.Language.isin(['en'])]\n",
        "df2020 = df2020[df2020['Review Text'].notnull()]\n",
        "df2020.shape"
      ],
      "execution_count": null,
      "outputs": [
        {
          "output_type": "execute_result",
          "data": {
            "text/plain": [
              "(11399, 41)"
            ]
          },
          "metadata": {
            "tags": []
          },
          "execution_count": 7
        }
      ]
    },
    {
      "cell_type": "code",
      "metadata": {
        "id": "jooPDSQ5bYwZ",
        "outputId": "4753c74e-2bf0-4204-fa97-599b74e6c8b1",
        "colab": {
          "base_uri": "https://localhost:8080/"
        }
      },
      "source": [
        "#check the date for training data is continuous\n",
        "print(len(df2019['Published Date'].unique()))\n",
        "print(len(df2020['Published Date'].unique()))"
      ],
      "execution_count": null,
      "outputs": [
        {
          "output_type": "stream",
          "text": [
            "365\n",
            "182\n"
          ],
          "name": "stdout"
        }
      ]
    },
    {
      "cell_type": "code",
      "metadata": {
        "id": "VupFDIBXbY64"
      },
      "source": [
        "gri2019 = pd.read_excel ('drive/My Drive/Colab Data/2019 GRI.xls', sheet_name='GRI')\n",
        "gri2020 = pd.read_excel ('drive/My Drive/Colab Data/2020 GRI.xls', sheet_name='GRI')"
      ],
      "execution_count": null,
      "outputs": []
    },
    {
      "cell_type": "code",
      "metadata": {
        "id": "ZdnKysrTbZCJ",
        "outputId": "9fa952cf-1bb1-4fd8-bee1-b748ec8e28fb",
        "colab": {
          "base_uri": "https://localhost:8080/"
        }
      },
      "source": [
        "gri2019 = gri2019.melt(id_vars=['Establishment'], var_name='Month', value_name='GRI Score')\n",
        "gri2019 = gri2019.dropna()\n",
        "gri2019.shape"
      ],
      "execution_count": null,
      "outputs": [
        {
          "output_type": "execute_result",
          "data": {
            "text/plain": [
              "(2028, 3)"
            ]
          },
          "metadata": {
            "tags": []
          },
          "execution_count": 10
        }
      ]
    },
    {
      "cell_type": "code",
      "metadata": {
        "id": "IyYXIFEubZJe",
        "outputId": "70cbae93-1a27-4e96-b480-4494b4a9029c",
        "colab": {
          "base_uri": "https://localhost:8080/"
        }
      },
      "source": [
        "gri2020 = gri2020.melt(id_vars=['Establishment'], var_name='Month', value_name='GRI Score')\n",
        "gri2020 = gri2020.dropna()\n",
        "gri2020.shape"
      ],
      "execution_count": null,
      "outputs": [
        {
          "output_type": "execute_result",
          "data": {
            "text/plain": [
              "(1083, 3)"
            ]
          },
          "metadata": {
            "tags": []
          },
          "execution_count": 11
        }
      ]
    },
    {
      "cell_type": "code",
      "metadata": {
        "id": "CIqKMdUjbZT0",
        "outputId": "87d35c70-5a6d-423d-cb5e-f57dd69d1ba7",
        "colab": {
          "base_uri": "https://localhost:8080/",
          "height": 204
        }
      },
      "source": [
        "gri2019.head()"
      ],
      "execution_count": null,
      "outputs": [
        {
          "output_type": "execute_result",
          "data": {
            "text/html": [
              "<div>\n",
              "<style scoped>\n",
              "    .dataframe tbody tr th:only-of-type {\n",
              "        vertical-align: middle;\n",
              "    }\n",
              "\n",
              "    .dataframe tbody tr th {\n",
              "        vertical-align: top;\n",
              "    }\n",
              "\n",
              "    .dataframe thead th {\n",
              "        text-align: right;\n",
              "    }\n",
              "</style>\n",
              "<table border=\"1\" class=\"dataframe\">\n",
              "  <thead>\n",
              "    <tr style=\"text-align: right;\">\n",
              "      <th></th>\n",
              "      <th>Establishment</th>\n",
              "      <th>Month</th>\n",
              "      <th>GRI Score</th>\n",
              "    </tr>\n",
              "  </thead>\n",
              "  <tbody>\n",
              "    <tr>\n",
              "      <th>0</th>\n",
              "      <td>Ascott Bonifacio Global City Manila</td>\n",
              "      <td>1</td>\n",
              "      <td>Decreased</td>\n",
              "    </tr>\n",
              "    <tr>\n",
              "      <th>1</th>\n",
              "      <td>Ascott Central Wuxi</td>\n",
              "      <td>1</td>\n",
              "      <td>Decreased</td>\n",
              "    </tr>\n",
              "    <tr>\n",
              "      <th>3</th>\n",
              "      <td>Ascott Guangzhou</td>\n",
              "      <td>1</td>\n",
              "      <td>Decreased</td>\n",
              "    </tr>\n",
              "    <tr>\n",
              "      <th>4</th>\n",
              "      <td>Ascott Harmony City Nantong</td>\n",
              "      <td>1</td>\n",
              "      <td>Decreased</td>\n",
              "    </tr>\n",
              "    <tr>\n",
              "      <th>5</th>\n",
              "      <td>Ascott Heng Shan Shanghai</td>\n",
              "      <td>1</td>\n",
              "      <td>Decreased</td>\n",
              "    </tr>\n",
              "  </tbody>\n",
              "</table>\n",
              "</div>"
            ],
            "text/plain": [
              "                         Establishment Month  GRI Score\n",
              "0  Ascott Bonifacio Global City Manila     1  Decreased\n",
              "1                  Ascott Central Wuxi     1  Decreased\n",
              "3                     Ascott Guangzhou     1  Decreased\n",
              "4          Ascott Harmony City Nantong     1  Decreased\n",
              "5            Ascott Heng Shan Shanghai     1  Decreased"
            ]
          },
          "metadata": {
            "tags": []
          },
          "execution_count": 12
        }
      ]
    },
    {
      "cell_type": "code",
      "metadata": {
        "id": "6GueXeui6qPw",
        "outputId": "0f1d30c2-2302-4a93-bb34-3d6054dbdf24",
        "colab": {
          "base_uri": "https://localhost:8080/"
        }
      },
      "source": [
        "df2019.columns"
      ],
      "execution_count": null,
      "outputs": [
        {
          "output_type": "execute_result",
          "data": {
            "text/plain": [
              "Index(['index', 'PMS ID', 'Hotel Name', 'GRI™', 'Reviewer', 'Country',\n",
              "       'Language', 'Published Date', 'Source', 'Review Rating', 'Rating Scale',\n",
              "       'Review Score', 'Classification', 'SERVICE', 'SERVICE - Score',\n",
              "       'CLEANLINESS', 'CLEANLINESS - Score', 'LOCATION', 'LOCATION - Score',\n",
              "       'VALUE', 'VALUE - Score', 'GASTRONOMY', 'GASTRONOMY - Score', 'ROOM',\n",
              "       'ROOM - Score', 'DECORATION', 'DECORATION - Score', 'BUSINESS',\n",
              "       'BUSINESS - Score', 'RECEPTION', 'RECEPTION - Score', 'ENTERTAINMENT',\n",
              "       'ENTERTAINMENT - Score', 'Department Rating Scale', 'Review Title',\n",
              "       'Review Text', 'Management Response', 'Replied', 'Tags', 'Cases',\n",
              "       'Notes'],\n",
              "      dtype='object', name=6)"
            ]
          },
          "metadata": {
            "tags": []
          },
          "execution_count": 13
        }
      ]
    },
    {
      "cell_type": "markdown",
      "metadata": {
        "id": "wmtg2b4xbqcC"
      },
      "source": [
        "**Prepare Training & Validation Dataset**"
      ]
    },
    {
      "cell_type": "code",
      "metadata": {
        "id": "Ioa7YRk1bZSa",
        "outputId": "ba63dc7d-a6c6-4eeb-d1af-224ecac86f00",
        "colab": {
          "base_uri": "https://localhost:8080/",
          "height": 708
        }
      },
      "source": [
        "df2019['Month'] = pd.DatetimeIndex(df2019['Published Date']).month\n",
        "df2019 = df2019[['Hotel Name', 'Review Text', 'Month', 'Published Date']]\n",
        "\n",
        "train = pd.merge(df2019, gri2019, how='left', left_on=['Hotel Name', 'Month'], right_on=['Establishment', 'Month'])\n",
        "train"
      ],
      "execution_count": null,
      "outputs": [
        {
          "output_type": "execute_result",
          "data": {
            "text/html": [
              "<div>\n",
              "<style scoped>\n",
              "    .dataframe tbody tr th:only-of-type {\n",
              "        vertical-align: middle;\n",
              "    }\n",
              "\n",
              "    .dataframe tbody tr th {\n",
              "        vertical-align: top;\n",
              "    }\n",
              "\n",
              "    .dataframe thead th {\n",
              "        text-align: right;\n",
              "    }\n",
              "</style>\n",
              "<table border=\"1\" class=\"dataframe\">\n",
              "  <thead>\n",
              "    <tr style=\"text-align: right;\">\n",
              "      <th></th>\n",
              "      <th>Hotel Name</th>\n",
              "      <th>Review Text</th>\n",
              "      <th>Month</th>\n",
              "      <th>Published Date</th>\n",
              "      <th>Establishment</th>\n",
              "      <th>GRI Score</th>\n",
              "    </tr>\n",
              "  </thead>\n",
              "  <tbody>\n",
              "    <tr>\n",
              "      <th>0</th>\n",
              "      <td>Ascott Bonifacio Global City Manila</td>\n",
              "      <td>Outstanding service Well maintained facilities...</td>\n",
              "      <td>12</td>\n",
              "      <td>31/12/2019</td>\n",
              "      <td>Ascott Bonifacio Global City Manila</td>\n",
              "      <td>Decreased</td>\n",
              "    </tr>\n",
              "    <tr>\n",
              "      <th>1</th>\n",
              "      <td>Ascott Bonifacio Global City Manila</td>\n",
              "      <td>The place was outstanding, way beyond what we'...</td>\n",
              "      <td>12</td>\n",
              "      <td>31/12/2019</td>\n",
              "      <td>Ascott Bonifacio Global City Manila</td>\n",
              "      <td>Decreased</td>\n",
              "    </tr>\n",
              "    <tr>\n",
              "      <th>2</th>\n",
              "      <td>Ascott Kuala Lumpur</td>\n",
              "      <td>The best apartment I have ever visited. The st...</td>\n",
              "      <td>12</td>\n",
              "      <td>31/12/2019</td>\n",
              "      <td>Ascott Kuala Lumpur</td>\n",
              "      <td>Decreased</td>\n",
              "    </tr>\n",
              "    <tr>\n",
              "      <th>3</th>\n",
              "      <td>Somerset Berlian Jakarta</td>\n",
              "      <td>Too bad AC in living room and bedroom no 2 jus...</td>\n",
              "      <td>12</td>\n",
              "      <td>31/12/2019</td>\n",
              "      <td>Somerset Berlian Jakarta</td>\n",
              "      <td>Increased</td>\n",
              "    </tr>\n",
              "    <tr>\n",
              "      <th>4</th>\n",
              "      <td>Somerset Berlian Jakarta</td>\n",
              "      <td>Positive: The pool is awesome.</td>\n",
              "      <td>12</td>\n",
              "      <td>31/12/2019</td>\n",
              "      <td>Somerset Berlian Jakarta</td>\n",
              "      <td>Increased</td>\n",
              "    </tr>\n",
              "    <tr>\n",
              "      <th>...</th>\n",
              "      <td>...</td>\n",
              "      <td>...</td>\n",
              "      <td>...</td>\n",
              "      <td>...</td>\n",
              "      <td>...</td>\n",
              "      <td>...</td>\n",
              "    </tr>\n",
              "    <tr>\n",
              "      <th>51632</th>\n",
              "      <td>Citadines Mount Sophia Singapore</td>\n",
              "      <td>Positive: The location. Negative: They did not...</td>\n",
              "      <td>1</td>\n",
              "      <td>01/01/2019</td>\n",
              "      <td>Citadines Mount Sophia Singapore</td>\n",
              "      <td>Decreased</td>\n",
              "    </tr>\n",
              "    <tr>\n",
              "      <th>51633</th>\n",
              "      <td>Hotel Pravo Hong Kong</td>\n",
              "      <td>Positive: Good location. Negative: The cleanin...</td>\n",
              "      <td>1</td>\n",
              "      <td>01/01/2019</td>\n",
              "      <td>Hotel Pravo Hong Kong</td>\n",
              "      <td>Increased</td>\n",
              "    </tr>\n",
              "    <tr>\n",
              "      <th>51634</th>\n",
              "      <td>Citadines Shinjuku Tokyo</td>\n",
              "      <td>Excellent service! May be a little small for 3...</td>\n",
              "      <td>1</td>\n",
              "      <td>01/01/2019</td>\n",
              "      <td>Citadines Shinjuku Tokyo</td>\n",
              "      <td>Increased</td>\n",
              "    </tr>\n",
              "    <tr>\n",
              "      <th>51635</th>\n",
              "      <td>Citadines Shinjuku Tokyo</td>\n",
              "      <td>I wish location was better and nearer to the c...</td>\n",
              "      <td>1</td>\n",
              "      <td>01/01/2019</td>\n",
              "      <td>Citadines Shinjuku Tokyo</td>\n",
              "      <td>Increased</td>\n",
              "    </tr>\n",
              "    <tr>\n",
              "      <th>51636</th>\n",
              "      <td>Citadines Shinjuku Tokyo</td>\n",
              "      <td>Too far from the JR and bus terminal Coin laun...</td>\n",
              "      <td>1</td>\n",
              "      <td>01/01/2019</td>\n",
              "      <td>Citadines Shinjuku Tokyo</td>\n",
              "      <td>Increased</td>\n",
              "    </tr>\n",
              "  </tbody>\n",
              "</table>\n",
              "<p>51637 rows × 6 columns</p>\n",
              "</div>"
            ],
            "text/plain": [
              "                                Hotel Name  ...  GRI Score\n",
              "0      Ascott Bonifacio Global City Manila  ...  Decreased\n",
              "1      Ascott Bonifacio Global City Manila  ...  Decreased\n",
              "2                      Ascott Kuala Lumpur  ...  Decreased\n",
              "3                 Somerset Berlian Jakarta  ...  Increased\n",
              "4                 Somerset Berlian Jakarta  ...  Increased\n",
              "...                                    ...  ...        ...\n",
              "51632     Citadines Mount Sophia Singapore  ...  Decreased\n",
              "51633                Hotel Pravo Hong Kong  ...  Increased\n",
              "51634             Citadines Shinjuku Tokyo  ...  Increased\n",
              "51635             Citadines Shinjuku Tokyo  ...  Increased\n",
              "51636             Citadines Shinjuku Tokyo  ...  Increased\n",
              "\n",
              "[51637 rows x 6 columns]"
            ]
          },
          "metadata": {
            "tags": []
          },
          "execution_count": 14
        }
      ]
    },
    {
      "cell_type": "code",
      "metadata": {
        "id": "EY1TDPopbZQi",
        "outputId": "6795de34-e828-48b4-c7ec-c6f7e791d59d",
        "colab": {
          "base_uri": "https://localhost:8080/",
          "height": 34
        }
      },
      "source": [
        "df2020['Month'] = pd.DatetimeIndex(df2020['Published Date']).month\n",
        "df2020 = df2020[['Hotel Name', 'Review Text', 'Month']]\n",
        "\n",
        "test = pd.merge(df2020, gri2020, how='left', left_on=['Hotel Name', 'Month'], right_on=['Establishment', 'Month'])\n",
        "test.shape"
      ],
      "execution_count": null,
      "outputs": [
        {
          "output_type": "execute_result",
          "data": {
            "text/plain": [
              "(11399, 5)"
            ]
          },
          "metadata": {
            "tags": []
          },
          "execution_count": 14
        }
      ]
    },
    {
      "cell_type": "markdown",
      "metadata": {
        "id": "6wlKm6PlbzGI"
      },
      "source": [
        "**Data Exploration**"
      ]
    },
    {
      "cell_type": "code",
      "metadata": {
        "id": "bHconNw8bZNt",
        "outputId": "de133d55-893e-4b8e-e486-108a71d7a563",
        "colab": {
          "base_uri": "https://localhost:8080/",
          "height": 204
        }
      },
      "source": [
        "train = train[['Review Text', 'GRI Score']]\n",
        "train.head()"
      ],
      "execution_count": null,
      "outputs": [
        {
          "output_type": "execute_result",
          "data": {
            "text/html": [
              "<div>\n",
              "<style scoped>\n",
              "    .dataframe tbody tr th:only-of-type {\n",
              "        vertical-align: middle;\n",
              "    }\n",
              "\n",
              "    .dataframe tbody tr th {\n",
              "        vertical-align: top;\n",
              "    }\n",
              "\n",
              "    .dataframe thead th {\n",
              "        text-align: right;\n",
              "    }\n",
              "</style>\n",
              "<table border=\"1\" class=\"dataframe\">\n",
              "  <thead>\n",
              "    <tr style=\"text-align: right;\">\n",
              "      <th></th>\n",
              "      <th>Review Text</th>\n",
              "      <th>GRI Score</th>\n",
              "    </tr>\n",
              "  </thead>\n",
              "  <tbody>\n",
              "    <tr>\n",
              "      <th>0</th>\n",
              "      <td>Outstanding service Well maintained facilities...</td>\n",
              "      <td>Decreased</td>\n",
              "    </tr>\n",
              "    <tr>\n",
              "      <th>1</th>\n",
              "      <td>The place was outstanding, way beyond what we'...</td>\n",
              "      <td>Decreased</td>\n",
              "    </tr>\n",
              "    <tr>\n",
              "      <th>2</th>\n",
              "      <td>The best apartment I have ever visited. The st...</td>\n",
              "      <td>Decreased</td>\n",
              "    </tr>\n",
              "    <tr>\n",
              "      <th>3</th>\n",
              "      <td>Too bad AC in living room and bedroom no 2 jus...</td>\n",
              "      <td>Increased</td>\n",
              "    </tr>\n",
              "    <tr>\n",
              "      <th>4</th>\n",
              "      <td>Positive: The pool is awesome.</td>\n",
              "      <td>Increased</td>\n",
              "    </tr>\n",
              "  </tbody>\n",
              "</table>\n",
              "</div>"
            ],
            "text/plain": [
              "                                         Review Text  GRI Score\n",
              "0  Outstanding service Well maintained facilities...  Decreased\n",
              "1  The place was outstanding, way beyond what we'...  Decreased\n",
              "2  The best apartment I have ever visited. The st...  Decreased\n",
              "3  Too bad AC in living room and bedroom no 2 jus...  Increased\n",
              "4                     Positive: The pool is awesome.  Increased"
            ]
          },
          "metadata": {
            "tags": []
          },
          "execution_count": 15
        }
      ]
    },
    {
      "cell_type": "code",
      "metadata": {
        "id": "ItQEEOepbZHN",
        "outputId": "a9484370-3d56-4d3c-cae6-b702abf85b5f",
        "colab": {
          "base_uri": "https://localhost:8080/",
          "height": 204
        }
      },
      "source": [
        "test = test[['Review Text', 'GRI Score']]\n",
        "test.head()"
      ],
      "execution_count": null,
      "outputs": [
        {
          "output_type": "execute_result",
          "data": {
            "text/html": [
              "<div>\n",
              "<style scoped>\n",
              "    .dataframe tbody tr th:only-of-type {\n",
              "        vertical-align: middle;\n",
              "    }\n",
              "\n",
              "    .dataframe tbody tr th {\n",
              "        vertical-align: top;\n",
              "    }\n",
              "\n",
              "    .dataframe thead th {\n",
              "        text-align: right;\n",
              "    }\n",
              "</style>\n",
              "<table border=\"1\" class=\"dataframe\">\n",
              "  <thead>\n",
              "    <tr style=\"text-align: right;\">\n",
              "      <th></th>\n",
              "      <th>Review Text</th>\n",
              "      <th>GRI Score</th>\n",
              "    </tr>\n",
              "  </thead>\n",
              "  <tbody>\n",
              "    <tr>\n",
              "      <th>0</th>\n",
              "      <td>Positive: Friendly staff, very clean and so qu...</td>\n",
              "      <td>Increased</td>\n",
              "    </tr>\n",
              "    <tr>\n",
              "      <th>1</th>\n",
              "      <td>Positive: Room service and reception desk neve...</td>\n",
              "      <td>Decreased</td>\n",
              "    </tr>\n",
              "    <tr>\n",
              "      <th>2</th>\n",
              "      <td>Clean and spacious room, good location, so clo...</td>\n",
              "      <td>Increased</td>\n",
              "    </tr>\n",
              "    <tr>\n",
              "      <th>3</th>\n",
              "      <td>Positive: If you're looking for somewhere clos...</td>\n",
              "      <td>Decreased</td>\n",
              "    </tr>\n",
              "    <tr>\n",
              "      <th>4</th>\n",
              "      <td>New hotel next to airport. With views to airpo...</td>\n",
              "      <td>Decreased</td>\n",
              "    </tr>\n",
              "  </tbody>\n",
              "</table>\n",
              "</div>"
            ],
            "text/plain": [
              "                                         Review Text  GRI Score\n",
              "0  Positive: Friendly staff, very clean and so qu...  Increased\n",
              "1  Positive: Room service and reception desk neve...  Decreased\n",
              "2  Clean and spacious room, good location, so clo...  Increased\n",
              "3  Positive: If you're looking for somewhere clos...  Decreased\n",
              "4  New hotel next to airport. With views to airpo...  Decreased"
            ]
          },
          "metadata": {
            "tags": []
          },
          "execution_count": 16
        }
      ]
    },
    {
      "cell_type": "code",
      "metadata": {
        "id": "AFgQY_1ubZFQ",
        "outputId": "31bd8109-d2dc-466e-f8b2-df38b1402254",
        "colab": {
          "base_uri": "https://localhost:8080/",
          "height": 86
        }
      },
      "source": [
        "train['Review Text'][5]"
      ],
      "execution_count": null,
      "outputs": [
        {
          "output_type": "execute_result",
          "data": {
            "application/vnd.google.colaboratory.intrinsic+json": {
              "type": "string"
            },
            "text/plain": [
              "'My family of four stayed at Somerset Ekamai Bangkok for 5 nights for end of year family trip. This is the first time we visited Bangkok and we booked a two bedroom apartment for our stay. The apartment was spacious and clean and we just feel like home. Fridge and washing machine are available for use. There were also a full set of eating utensils and cooking facilities for simple cooking. Staff was friendly and helpful. Although the location is a little bit away from the city centre, the nearest BTS station is at a walking distance of within 10 mins. There is also a Big C supermarket and a number of restaurants in the area. We all had a pleasant and relaxing time during our stay at Somerset Ekamai Bangkok.'"
            ]
          },
          "metadata": {
            "tags": []
          },
          "execution_count": 17
        }
      ]
    },
    {
      "cell_type": "code",
      "metadata": {
        "id": "dp5LWJvNbY_q",
        "outputId": "b4bdbcc4-0a60-43b7-efe5-baf813e4b32a",
        "colab": {
          "base_uri": "https://localhost:8080/",
          "height": 69
        }
      },
      "source": [
        "test['Review Text'][3]"
      ],
      "execution_count": null,
      "outputs": [
        {
          "output_type": "execute_result",
          "data": {
            "application/vnd.google.colaboratory.intrinsic+json": {
              "type": "string"
            },
            "text/plain": [
              "\"Positive: If you're looking for somewhere close to the airport, this hotel is well situated. They have a nice reception and guest area upstairs, where people can congregate and relax. The reception staff were friendly and accommodating. Negative: There was a clip from a bandage next to the room door, which looked to have been there for a while, judging by the surrounding dust. There were some minor issues in the room, with holes in the carpet.\""
            ]
          },
          "metadata": {
            "tags": []
          },
          "execution_count": 18
        }
      ]
    },
    {
      "cell_type": "code",
      "metadata": {
        "id": "ODMPKKMpbY90",
        "outputId": "5eacbebf-21e0-4d7d-8111-cb082c42162b",
        "colab": {
          "base_uri": "https://localhost:8080/",
          "height": 296
        }
      },
      "source": [
        "import seaborn as sns\n",
        "\n",
        "sns.countplot(x='GRI Score', data=train)"
      ],
      "execution_count": null,
      "outputs": [
        {
          "output_type": "execute_result",
          "data": {
            "text/plain": [
              "<matplotlib.axes._subplots.AxesSubplot at 0x7f266ee337b8>"
            ]
          },
          "metadata": {
            "tags": []
          },
          "execution_count": 19
        },
        {
          "output_type": "display_data",
          "data": {
            "image/png": "[encoded data removed]",
            "text/plain": [
              "<Figure size 432x288 with 1 Axes>"
            ]
          },
          "metadata": {
            "tags": [],
            "needs_background": "light"
          }
        }
      ]
    },
    {
      "cell_type": "markdown",
      "metadata": {
        "id": "hQZ85tQhb8lZ"
      },
      "source": [
        "**Data Preprocessing**"
      ]
    },
    {
      "cell_type": "code",
      "metadata": {
        "id": "6kyQ0gHib7wk"
      },
      "source": [
        "import re\n",
        "\n",
        "TAG_RE = re.compile(r'<[^>]+>')\n",
        "def remove_tags(text):\n",
        "    return TAG_RE.sub('', text)\n",
        "\n",
        "def preprocess_text(sen):\n",
        "    sentence = remove_tags(sen)\n",
        "    \n",
        "    #remove special tokens Positive and Negative\n",
        "    sentence = re.sub('Positive:', '', sentence)\n",
        "    sentence = re.sub('Negative:', '', sentence)\n",
        "    \n",
        "    #remove punctuations and numbers\n",
        "    sentence = re.sub('[^a-zA-Z]', ' ', sentence)\n",
        "    \n",
        "    #single character removal\n",
        "    sentence = re.sub(r\"\\s+[a-zA-Z]\\s+\", ' ', sentence)\n",
        "    \n",
        "    #remove multiple spaces\n",
        "    sentence = re.sub(r'\\s+', ' ', sentence)\n",
        "    \n",
        "    \n",
        "    return sentence"
      ],
      "execution_count": null,
      "outputs": []
    },
    {
      "cell_type": "code",
      "metadata": {
        "id": "wtwUOSiKb_1g"
      },
      "source": [
        "x_train = []\n",
        "sentences = list(train['Review Text'])\n",
        "for sen in sentences:\n",
        "    x_train.append(preprocess_text(sen))"
      ],
      "execution_count": null,
      "outputs": []
    },
    {
      "cell_type": "code",
      "metadata": {
        "id": "cfw_VJVZcBAU",
        "outputId": "d4382a27-59d3-44c5-9e77-21c28729b9e2",
        "colab": {
          "base_uri": "https://localhost:8080/",
          "height": 86
        }
      },
      "source": [
        "x_train[5]"
      ],
      "execution_count": null,
      "outputs": [
        {
          "output_type": "execute_result",
          "data": {
            "application/vnd.google.colaboratory.intrinsic+json": {
              "type": "string"
            },
            "text/plain": [
              "'My family of four stayed at Somerset Ekamai Bangkok for nights for end of year family trip This is the first time we visited Bangkok and we booked two bedroom apartment for our stay The apartment was spacious and clean and we just feel like home Fridge and washing machine are available for use There were also full set of eating utensils and cooking facilities for simple cooking Staff was friendly and helpful Although the location is little bit away from the city centre the nearest BTS station is at walking distance of within mins There is also Big supermarket and number of restaurants in the area We all had pleasant and relaxing time during our stay at Somerset Ekamai Bangkok '"
            ]
          },
          "metadata": {
            "tags": []
          },
          "execution_count": 22
        }
      ]
    },
    {
      "cell_type": "code",
      "metadata": {
        "id": "p57dtv56cCIL"
      },
      "source": [
        "x_test = []\n",
        "sentences2 = list(test['Review Text'])\n",
        "for sen in sentences2:\n",
        "    x_test.append(preprocess_text(sen))"
      ],
      "execution_count": null,
      "outputs": []
    },
    {
      "cell_type": "code",
      "metadata": {
        "id": "VYhi8xftcD08",
        "outputId": "232dd005-3fc2-4f07-fbbd-7034e3559aab",
        "colab": {
          "base_uri": "https://localhost:8080/",
          "height": 69
        }
      },
      "source": [
        "x_test[3]"
      ],
      "execution_count": null,
      "outputs": [
        {
          "output_type": "execute_result",
          "data": {
            "application/vnd.google.colaboratory.intrinsic+json": {
              "type": "string"
            },
            "text/plain": [
              "' If you re looking for somewhere close to the airport this hotel is well situated They have nice reception and guest area upstairs where people can congregate and relax The reception staff were friendly and accommodating There was clip from bandage next to the room door which looked to have been there for while judging by the surrounding dust There were some minor issues in the room with holes in the carpet '"
            ]
          },
          "metadata": {
            "tags": []
          },
          "execution_count": 24
        }
      ]
    },
    {
      "cell_type": "code",
      "metadata": {
        "id": "pDjp4lsLcFDe"
      },
      "source": [
        "import numpy as np\n",
        "\n",
        "y_train = train['GRI Score']\n",
        "y_train = np.array(list(map(lambda x: 1 if x=='Increased' else 0, y_train)))"
      ],
      "execution_count": null,
      "outputs": []
    },
    {
      "cell_type": "code",
      "metadata": {
        "id": "2uSRIvajcGQL"
      },
      "source": [
        "y_test = test['GRI Score']\n",
        "y_test = np.array(list(map(lambda x: 1 if x=='Increased' else 0, y_test)))"
      ],
      "execution_count": null,
      "outputs": []
    },
    {
      "cell_type": "markdown",
      "metadata": {
        "id": "2YeC84JlcIHC"
      },
      "source": [
        "*Embedding layer*"
      ]
    },
    {
      "cell_type": "code",
      "metadata": {
        "id": "40sbXTF5cHlq",
        "outputId": "9da5d010-0662-4ff0-c029-589cd70c4f8f",
        "colab": {
          "base_uri": "https://localhost:8080/",
          "height": 34
        }
      },
      "source": [
        "from keras.preprocessing.sequence import pad_sequences\n",
        "from keras.models import Sequential\n",
        "from keras.layers.core import Activation, Dropout, Dense\n",
        "from keras.layers import Flatten\n",
        "from keras.layers import GlobalMaxPooling1D\n",
        "from keras.layers.embeddings import Embedding\n",
        "from sklearn.model_selection import train_test_split\n",
        "from keras.preprocessing.text import Tokenizer"
      ],
      "execution_count": null,
      "outputs": [
        {
          "output_type": "stream",
          "text": [
            "Using TensorFlow backend.\n"
          ],
          "name": "stderr"
        }
      ]
    },
    {
      "cell_type": "code",
      "metadata": {
        "id": "_NFVPjlDcMk5"
      },
      "source": [
        "tokenizer = Tokenizer(num_words=50000)\n",
        "tokenizer.fit_on_texts(x_train)\n",
        "\n",
        "x_train = tokenizer.texts_to_sequences(x_train)\n",
        "x_test = tokenizer.texts_to_sequences(x_test)"
      ],
      "execution_count": null,
      "outputs": []
    },
    {
      "cell_type": "code",
      "metadata": {
        "id": "VsMnXlKhcOPC",
        "outputId": "88e71b03-1125-4d36-8f4e-6e60e9ea38bf",
        "colab": {
          "base_uri": "https://localhost:8080/",
          "height": 34
        }
      },
      "source": [
        "#adding 1 for reserved 0 index\n",
        "vocab_size = len(tokenizer.word_index) + 1\n",
        "\n",
        "maxlen = int(np.percentile(train['Review Text'].apply(len), 95))\n",
        "print('max length:', maxlen)\n",
        "\n",
        "x_train = pad_sequences(x_train, padding='post', maxlen=maxlen)\n",
        "x_test = pad_sequences(x_test, padding='post', maxlen=maxlen)"
      ],
      "execution_count": null,
      "outputs": [
        {
          "output_type": "stream",
          "text": [
            "max length: 748\n"
          ],
          "name": "stdout"
        }
      ]
    },
    {
      "cell_type": "markdown",
      "metadata": {
        "id": "IqM04d3acRSd"
      },
      "source": [
        "**use GLOVE embedding to create feature matrix**"
      ]
    },
    {
      "cell_type": "code",
      "metadata": {
        "id": "hL7KwL_UcPox"
      },
      "source": [
        "embeddings_dictionary = dict()\n",
        "glove_file = open('drive/My Drive/Colab Data/glove.6B.100d.txt', encoding=\"utf8\")\n",
        "\n",
        "for line in glove_file:\n",
        "    records = line.split()\n",
        "    word = records[0]\n",
        "    vector_dimensions = np.asarray(records[1:], dtype='float32')\n",
        "    embeddings_dictionary[word] = vector_dimensions\n",
        "glove_file.close()"
      ],
      "execution_count": null,
      "outputs": []
    },
    {
      "cell_type": "code",
      "metadata": {
        "id": "OYcIuN7qcZlq"
      },
      "source": [
        "embedding_matrix = np.zeros((vocab_size, 100))\n",
        "for word, index in tokenizer.word_index.items():\n",
        "    embedding_vector = embeddings_dictionary.get(word)\n",
        "    if embedding_vector is not None:\n",
        "        embedding_matrix[index] = embedding_vector"
      ],
      "execution_count": null,
      "outputs": []
    },
    {
      "cell_type": "code",
      "metadata": {
        "id": "9XOob0LCcasp",
        "outputId": "9e3aa078-e96f-4119-86b1-83349848e525",
        "colab": {
          "base_uri": "https://localhost:8080/",
          "height": 34
        }
      },
      "source": [
        "embedding_matrix.shape"
      ],
      "execution_count": null,
      "outputs": [
        {
          "output_type": "execute_result",
          "data": {
            "text/plain": [
              "(25561, 100)"
            ]
          },
          "metadata": {
            "tags": []
          },
          "execution_count": 32
        }
      ]
    },
    {
      "cell_type": "markdown",
      "metadata": {
        "id": "p3Ke6mYGccPN"
      },
      "source": [
        "**LSTM Model**"
      ]
    },
    {
      "cell_type": "code",
      "metadata": {
        "id": "L2vAetsEcfdY"
      },
      "source": [
        "from keras.layers.recurrent import LSTM\n",
        "\n",
        "model = Sequential()\n",
        "\n",
        "embedding_layer = Embedding(vocab_size, 100, weights=[embedding_matrix], input_length=maxlen, trainable=False)\n",
        "model.add(embedding_layer)\n",
        "model.add(LSTM(64, recurrent_dropout=0.5))\n",
        "#model.add(Dropout(0.5))\n",
        "model.add(Dense(1, activation='sigmoid'))\n",
        "model.compile(optimizer='adam', loss='binary_crossentropy', metrics=['accuracy'])"
      ],
      "execution_count": null,
      "outputs": []
    },
    {
      "cell_type": "code",
      "metadata": {
        "id": "2Cd3rG-PcghI",
        "outputId": "ea1c22f1-5501-426d-8e43-3134ba052b7b",
        "colab": {
          "base_uri": "https://localhost:8080/",
          "height": 255
        }
      },
      "source": [
        "model.summary()"
      ],
      "execution_count": null,
      "outputs": [
        {
          "output_type": "stream",
          "text": [
            "Model: \"sequential_2\"\n",
            "_________________________________________________________________\n",
            "Layer (type)                 Output Shape              Param #   \n",
            "=================================================================\n",
            "embedding_2 (Embedding)      (None, 748, 100)          2556100   \n",
            "_________________________________________________________________\n",
            "lstm_2 (LSTM)                (None, 64)                42240     \n",
            "_________________________________________________________________\n",
            "dense_2 (Dense)              (None, 1)                 65        \n",
            "=================================================================\n",
            "Total params: 2,598,405\n",
            "Trainable params: 42,305\n",
            "Non-trainable params: 2,556,100\n",
            "_________________________________________________________________\n"
          ],
          "name": "stdout"
        }
      ]
    },
    {
      "cell_type": "code",
      "metadata": {
        "id": "EQT83Saech6v"
      },
      "source": [
        "history = model.fit(x_train, y_train, batch_size=128, epochs=10, verbose=1, validation_data=(x_test, y_test))"
      ],
      "execution_count": null,
      "outputs": []
    },
    {
      "cell_type": "code",
      "metadata": {
        "id": "54ne3fOVFCKe",
        "outputId": "73c992de-f6ab-43c2-f831-3e33ea3532b5",
        "colab": {
          "base_uri": "https://localhost:8080/",
          "height": 34
        }
      },
      "source": [
        "print(\"Valuation Accuracy\", max(history.history['val_accuracy']))\n",
        "#print(history.history)"
      ],
      "execution_count": null,
      "outputs": [
        {
          "output_type": "stream",
          "text": [
            "Valuation Accuracy 0.5894376635551453\n"
          ],
          "name": "stdout"
        }
      ]
    }
  ]
}